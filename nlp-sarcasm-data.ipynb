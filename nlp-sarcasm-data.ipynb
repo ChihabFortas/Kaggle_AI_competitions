{
 "cells": [
  {
   "cell_type": "code",
   "execution_count": 1,
   "id": "d5560425",
   "metadata": {
    "_cell_guid": "b1076dfc-b9ad-4769-8c92-a6c4dae69d19",
    "_uuid": "8f2839f25d086af736a60e9eeb907d3b93b6e0e5",
    "execution": {
     "iopub.execute_input": "2022-08-08T19:33:43.883173Z",
     "iopub.status.busy": "2022-08-08T19:33:43.882721Z",
     "iopub.status.idle": "2022-08-08T19:33:43.902815Z",
     "shell.execute_reply": "2022-08-08T19:33:43.901723Z"
    },
    "papermill": {
     "duration": 0.029302,
     "end_time": "2022-08-08T19:33:43.904857",
     "exception": false,
     "start_time": "2022-08-08T19:33:43.875555",
     "status": "completed"
    },
    "tags": []
   },
   "outputs": [
    {
     "name": "stdout",
     "output_type": "stream",
     "text": [
      "/kaggle/input/sarcasm-data/sarcasm.json\n"
     ]
    }
   ],
   "source": [
    "# This Python 3 environment comes with many helpful analytics libraries installed\n",
    "# It is defined by the kaggle/python Docker image: https://github.com/kaggle/docker-python\n",
    "# For example, here's several helpful packages to load\n",
    "\n",
    "import numpy as np # linear algebra\n",
    "import pandas as pd # data processing, CSV file I/O (e.g. pd.read_csv)\n",
    "\n",
    "# Input data files are available in the read-only \"../input/\" directory\n",
    "# For example, running this (by clicking run or pressing Shift+Enter) will list all files under the input directory\n",
    "\n",
    "import os\n",
    "for dirname, _, filenames in os.walk('/kaggle/input'):\n",
    "    for filename in filenames:\n",
    "        print(os.path.join(dirname, filename))\n",
    "\n",
    "# You can write up to 20GB to the current directory (/kaggle/working/) that gets preserved as output when you create a version using \"Save & Run All\" \n",
    "# You can also write temporary files to /kaggle/temp/, but they won't be saved outside of the current session"
   ]
  },
  {
   "cell_type": "markdown",
   "id": "82252294",
   "metadata": {
    "papermill": {
     "duration": 0.005383,
     "end_time": "2022-08-08T19:33:43.916543",
     "exception": false,
     "start_time": "2022-08-08T19:33:43.911160",
     "status": "completed"
    },
    "tags": []
   },
   "source": [
    "# Import required Libraries"
   ]
  },
  {
   "cell_type": "code",
   "execution_count": 2,
   "id": "f5cf0580",
   "metadata": {
    "execution": {
     "iopub.execute_input": "2022-08-08T19:33:43.929492Z",
     "iopub.status.busy": "2022-08-08T19:33:43.928616Z",
     "iopub.status.idle": "2022-08-08T19:33:50.203211Z",
     "shell.execute_reply": "2022-08-08T19:33:50.202261Z"
    },
    "papermill": {
     "duration": 6.283402,
     "end_time": "2022-08-08T19:33:50.205451",
     "exception": false,
     "start_time": "2022-08-08T19:33:43.922049",
     "status": "completed"
    },
    "tags": []
   },
   "outputs": [],
   "source": [
    "import io\n",
    "import json\n",
    "import numpy as np\n",
    "import tensorflow as tf\n",
    "import matplotlib.pyplot as plt\n",
    "\n",
    "from tensorflow.keras.preprocessing.text import Tokenizer\n",
    "from tensorflow.keras.preprocessing.sequence import pad_sequences\n"
   ]
  },
  {
   "cell_type": "markdown",
   "id": "03de804f",
   "metadata": {
    "papermill": {
     "duration": 0.003865,
     "end_time": "2022-08-08T19:33:50.213671",
     "exception": false,
     "start_time": "2022-08-08T19:33:50.209806",
     "status": "completed"
    },
    "tags": []
   },
   "source": [
    "# Initialize gloabal variables"
   ]
  },
  {
   "cell_type": "code",
   "execution_count": 3,
   "id": "fc483bc6",
   "metadata": {
    "execution": {
     "iopub.execute_input": "2022-08-08T19:33:50.223515Z",
     "iopub.status.busy": "2022-08-08T19:33:50.222986Z",
     "iopub.status.idle": "2022-08-08T19:33:50.228164Z",
     "shell.execute_reply": "2022-08-08T19:33:50.227288Z"
    },
    "papermill": {
     "duration": 0.012063,
     "end_time": "2022-08-08T19:33:50.229727",
     "exception": false,
     "start_time": "2022-08-08T19:33:50.217664",
     "status": "completed"
    },
    "tags": []
   },
   "outputs": [],
   "source": [
    "vocab_size = 10000\n",
    "embedding_dim = 16\n",
    "max_length = 100\n",
    "trunc_type = 'post'\n",
    "padding_type = 'post'\n",
    "oov_tok = \"<OOV>\"\n",
    "training_size = 20000"
   ]
  },
  {
   "cell_type": "markdown",
   "id": "51739b0e",
   "metadata": {
    "papermill": {
     "duration": 0.003945,
     "end_time": "2022-08-08T19:33:50.237983",
     "exception": false,
     "start_time": "2022-08-08T19:33:50.234038",
     "status": "completed"
    },
    "tags": []
   },
   "source": [
    "# Importing and Spliting the dataset into training, validation and testing "
   ]
  },
  {
   "cell_type": "code",
   "execution_count": 4,
   "id": "69a64667",
   "metadata": {
    "execution": {
     "iopub.execute_input": "2022-08-08T19:33:50.248407Z",
     "iopub.status.busy": "2022-08-08T19:33:50.247618Z",
     "iopub.status.idle": "2022-08-08T19:33:50.358457Z",
     "shell.execute_reply": "2022-08-08T19:33:50.357814Z"
    },
    "papermill": {
     "duration": 0.11806,
     "end_time": "2022-08-08T19:33:50.360312",
     "exception": false,
     "start_time": "2022-08-08T19:33:50.242252",
     "status": "completed"
    },
    "tags": []
   },
   "outputs": [],
   "source": [
    "with open(\"../input/sarcasm-data/sarcasm.json\", 'r') as f:\n",
    "    datastore = json.load(f)\n",
    "\n",
    "sentences = []\n",
    "labels = []\n",
    "urls = []\n",
    "for item in datastore:\n",
    "    sentences.append(item['headline'])\n",
    "    labels.append(item['is_sarcastic'])\n",
    "    urls.append(item['article_link'])\n",
    "\n",
    "training_sentences = sentences[0:training_size]\n",
    "testing_sentences = sentences[training_size:]\n",
    "training_labels = labels[0:training_size]\n",
    "testing_labels = labels[training_size:]"
   ]
  },
  {
   "cell_type": "markdown",
   "id": "b005eebb",
   "metadata": {
    "papermill": {
     "duration": 0.004243,
     "end_time": "2022-08-08T19:33:50.369304",
     "exception": false,
     "start_time": "2022-08-08T19:33:50.365061",
     "status": "completed"
    },
    "tags": []
   },
   "source": [
    "# Word Tokenization"
   ]
  },
  {
   "cell_type": "code",
   "execution_count": 5,
   "id": "36efcb92",
   "metadata": {
    "execution": {
     "iopub.execute_input": "2022-08-08T19:33:50.379335Z",
     "iopub.status.busy": "2022-08-08T19:33:50.378886Z",
     "iopub.status.idle": "2022-08-08T19:33:51.253070Z",
     "shell.execute_reply": "2022-08-08T19:33:51.252323Z"
    },
    "papermill": {
     "duration": 0.881539,
     "end_time": "2022-08-08T19:33:51.254982",
     "exception": false,
     "start_time": "2022-08-08T19:33:50.373443",
     "status": "completed"
    },
    "tags": []
   },
   "outputs": [],
   "source": [
    "tokenizer = Tokenizer(num_words=vocab_size, oov_token=oov_tok)\n",
    "tokenizer.fit_on_texts(training_sentences)\n",
    "\n",
    "word_index = tokenizer.word_index\n",
    "#print(word_index)\n",
    "training_sequences = tokenizer.texts_to_sequences(training_sentences)\n",
    "training_padded = pad_sequences(training_sequences, maxlen=max_length, padding=padding_type, truncating=trunc_type)\n",
    "#print(training_padded)\n",
    "\n",
    "testing_sequences = tokenizer.texts_to_sequences(testing_sentences)\n",
    "testing_padded = pad_sequences(testing_sequences, maxlen=max_length, padding=padding_type, truncating=trunc_type)\n",
    "#print(testing_padded)"
   ]
  },
  {
   "cell_type": "markdown",
   "id": "367a264d",
   "metadata": {
    "papermill": {
     "duration": 0.003895,
     "end_time": "2022-08-08T19:33:51.263068",
     "exception": false,
     "start_time": "2022-08-08T19:33:51.259173",
     "status": "completed"
    },
    "tags": []
   },
   "source": [
    "## Converting the data into numpy arrays\n"
   ]
  },
  {
   "cell_type": "code",
   "execution_count": 6,
   "id": "f5a6ca3e",
   "metadata": {
    "execution": {
     "iopub.execute_input": "2022-08-08T19:33:51.273183Z",
     "iopub.status.busy": "2022-08-08T19:33:51.272091Z",
     "iopub.status.idle": "2022-08-08T19:33:51.283128Z",
     "shell.execute_reply": "2022-08-08T19:33:51.282013Z"
    },
    "papermill": {
     "duration": 0.018366,
     "end_time": "2022-08-08T19:33:51.285438",
     "exception": false,
     "start_time": "2022-08-08T19:33:51.267072",
     "status": "completed"
    },
    "tags": []
   },
   "outputs": [],
   "source": [
    "#Need this block to get it to work with TensorFlow 2.x\n",
    "training_padded = np.array(training_padded)\n",
    "training_labels = np.array(training_labels)\n",
    "testing_padded = np.array(testing_padded)\n",
    "testing_labels = np.array(testing_labels)"
   ]
  },
  {
   "cell_type": "markdown",
   "id": "fd64cc21",
   "metadata": {
    "papermill": {
     "duration": 0.003878,
     "end_time": "2022-08-08T19:33:51.293494",
     "exception": false,
     "start_time": "2022-08-08T19:33:51.289616",
     "status": "completed"
    },
    "tags": []
   },
   "source": [
    "# Create the NLP model and compile it"
   ]
  },
  {
   "cell_type": "code",
   "execution_count": 7,
   "id": "b710a35c",
   "metadata": {
    "execution": {
     "iopub.execute_input": "2022-08-08T19:33:51.302670Z",
     "iopub.status.busy": "2022-08-08T19:33:51.302365Z",
     "iopub.status.idle": "2022-08-08T19:33:51.433463Z",
     "shell.execute_reply": "2022-08-08T19:33:51.432119Z"
    },
    "papermill": {
     "duration": 0.137875,
     "end_time": "2022-08-08T19:33:51.435249",
     "exception": false,
     "start_time": "2022-08-08T19:33:51.297374",
     "status": "completed"
    },
    "tags": []
   },
   "outputs": [
    {
     "name": "stdout",
     "output_type": "stream",
     "text": [
      "Model: \"sequential\"\n",
      "_________________________________________________________________\n",
      "Layer (type)                 Output Shape              Param #   \n",
      "=================================================================\n",
      "embedding (Embedding)        (None, 100, 16)           160000    \n",
      "_________________________________________________________________\n",
      "global_average_pooling1d (Gl (None, 16)                0         \n",
      "_________________________________________________________________\n",
      "dense (Dense)                (None, 24)                408       \n",
      "_________________________________________________________________\n",
      "dense_1 (Dense)              (None, 1)                 25        \n",
      "=================================================================\n",
      "Total params: 160,433\n",
      "Trainable params: 160,433\n",
      "Non-trainable params: 0\n",
      "_________________________________________________________________\n"
     ]
    },
    {
     "name": "stderr",
     "output_type": "stream",
     "text": [
      "2022-08-08 19:33:51.343073: I tensorflow/core/common_runtime/process_util.cc:146] Creating new thread pool with default inter op setting: 2. Tune using inter_op_parallelism_threads for best performance.\n"
     ]
    }
   ],
   "source": [
    "model = tf.keras.Sequential([\n",
    "    tf.keras.layers.Embedding(vocab_size, embedding_dim, input_length=max_length),\n",
    "    tf.keras.layers.GlobalAveragePooling1D(),\n",
    "    tf.keras.layers.Dense(24, activation='relu'),\n",
    "    tf.keras.layers.Dense(1, activation='sigmoid')\n",
    "])\n",
    "\n",
    "model.compile(loss='binary_crossentropy', optimizer='adam', metrics=['accuracy'])\n",
    "\n",
    "model.summary()"
   ]
  },
  {
   "cell_type": "markdown",
   "id": "d67d91b1",
   "metadata": {
    "papermill": {
     "duration": 0.004243,
     "end_time": "2022-08-08T19:33:51.445168",
     "exception": false,
     "start_time": "2022-08-08T19:33:51.440925",
     "status": "completed"
    },
    "tags": []
   },
   "source": [
    "# Training"
   ]
  },
  {
   "cell_type": "code",
   "execution_count": 8,
   "id": "02c462e4",
   "metadata": {
    "execution": {
     "iopub.execute_input": "2022-08-08T19:33:51.455738Z",
     "iopub.status.busy": "2022-08-08T19:33:51.455158Z",
     "iopub.status.idle": "2022-08-08T19:35:08.863450Z",
     "shell.execute_reply": "2022-08-08T19:35:08.862348Z"
    },
    "papermill": {
     "duration": 77.416048,
     "end_time": "2022-08-08T19:35:08.865680",
     "exception": false,
     "start_time": "2022-08-08T19:33:51.449632",
     "status": "completed"
    },
    "tags": []
   },
   "outputs": [
    {
     "name": "stderr",
     "output_type": "stream",
     "text": [
      "2022-08-08 19:33:51.527698: I tensorflow/compiler/mlir/mlir_graph_optimization_pass.cc:185] None of the MLIR Optimization Passes are enabled (registered 2)\n"
     ]
    },
    {
     "name": "stdout",
     "output_type": "stream",
     "text": [
      "Epoch 1/30\n",
      "625/625 - 2s - loss: 0.6622 - accuracy: 0.5891 - val_loss: 0.5742 - val_accuracy: 0.7186\n",
      "Epoch 2/30\n",
      "625/625 - 1s - loss: 0.4317 - accuracy: 0.8306 - val_loss: 0.3943 - val_accuracy: 0.8264\n",
      "Epoch 3/30\n",
      "625/625 - 2s - loss: 0.3112 - accuracy: 0.8748 - val_loss: 0.3535 - val_accuracy: 0.8511\n",
      "Epoch 4/30\n",
      "625/625 - 2s - loss: 0.2593 - accuracy: 0.8989 - val_loss: 0.3462 - val_accuracy: 0.8536\n",
      "Epoch 5/30\n",
      "625/625 - 2s - loss: 0.2243 - accuracy: 0.9118 - val_loss: 0.3464 - val_accuracy: 0.8559\n",
      "Epoch 6/30\n",
      "625/625 - 2s - loss: 0.1964 - accuracy: 0.9259 - val_loss: 0.3608 - val_accuracy: 0.8498\n",
      "Epoch 7/30\n",
      "625/625 - 2s - loss: 0.1739 - accuracy: 0.9355 - val_loss: 0.3681 - val_accuracy: 0.8524\n",
      "Epoch 8/30\n",
      "625/625 - 2s - loss: 0.1561 - accuracy: 0.9420 - val_loss: 0.3821 - val_accuracy: 0.8529\n",
      "Epoch 9/30\n",
      "625/625 - 2s - loss: 0.1401 - accuracy: 0.9492 - val_loss: 0.4066 - val_accuracy: 0.8484\n",
      "Epoch 10/30\n",
      "625/625 - 3s - loss: 0.1270 - accuracy: 0.9557 - val_loss: 0.4188 - val_accuracy: 0.8520\n",
      "Epoch 11/30\n",
      "625/625 - 2s - loss: 0.1142 - accuracy: 0.9614 - val_loss: 0.4626 - val_accuracy: 0.8398\n",
      "Epoch 12/30\n",
      "625/625 - 2s - loss: 0.1048 - accuracy: 0.9646 - val_loss: 0.4701 - val_accuracy: 0.8425\n",
      "Epoch 13/30\n",
      "625/625 - 4s - loss: 0.0966 - accuracy: 0.9661 - val_loss: 0.5194 - val_accuracy: 0.8344\n",
      "Epoch 14/30\n",
      "625/625 - 5s - loss: 0.0886 - accuracy: 0.9710 - val_loss: 0.5208 - val_accuracy: 0.8417\n",
      "Epoch 15/30\n",
      "625/625 - 4s - loss: 0.0808 - accuracy: 0.9737 - val_loss: 0.6009 - val_accuracy: 0.8280\n",
      "Epoch 16/30\n",
      "625/625 - 2s - loss: 0.0734 - accuracy: 0.9764 - val_loss: 0.5805 - val_accuracy: 0.8353\n",
      "Epoch 17/30\n",
      "625/625 - 2s - loss: 0.0671 - accuracy: 0.9780 - val_loss: 0.6130 - val_accuracy: 0.8350\n",
      "Epoch 18/30\n",
      "625/625 - 3s - loss: 0.0601 - accuracy: 0.9811 - val_loss: 0.6520 - val_accuracy: 0.8323\n",
      "Epoch 19/30\n",
      "625/625 - 5s - loss: 0.0570 - accuracy: 0.9822 - val_loss: 0.6889 - val_accuracy: 0.8310\n",
      "Epoch 20/30\n",
      "625/625 - 5s - loss: 0.0542 - accuracy: 0.9822 - val_loss: 0.7189 - val_accuracy: 0.8277\n",
      "Epoch 21/30\n",
      "625/625 - 5s - loss: 0.0496 - accuracy: 0.9843 - val_loss: 0.7597 - val_accuracy: 0.8271\n",
      "Epoch 22/30\n",
      "625/625 - 3s - loss: 0.0456 - accuracy: 0.9869 - val_loss: 0.8340 - val_accuracy: 0.8202\n",
      "Epoch 23/30\n",
      "625/625 - 4s - loss: 0.0404 - accuracy: 0.9888 - val_loss: 0.8231 - val_accuracy: 0.8196\n",
      "Epoch 24/30\n",
      "625/625 - 2s - loss: 0.0375 - accuracy: 0.9894 - val_loss: 0.9567 - val_accuracy: 0.8185\n",
      "Epoch 25/30\n",
      "625/625 - 2s - loss: 0.0339 - accuracy: 0.9899 - val_loss: 0.9141 - val_accuracy: 0.8211\n",
      "Epoch 26/30\n",
      "625/625 - 2s - loss: 0.0322 - accuracy: 0.9912 - val_loss: 0.9651 - val_accuracy: 0.8182\n",
      "Epoch 27/30\n",
      "625/625 - 2s - loss: 0.0313 - accuracy: 0.9908 - val_loss: 1.0389 - val_accuracy: 0.8155\n",
      "Epoch 28/30\n",
      "625/625 - 2s - loss: 0.0271 - accuracy: 0.9926 - val_loss: 1.0217 - val_accuracy: 0.8141\n",
      "Epoch 29/30\n",
      "625/625 - 2s - loss: 0.0255 - accuracy: 0.9934 - val_loss: 1.0897 - val_accuracy: 0.8165\n",
      "Epoch 30/30\n",
      "625/625 - 2s - loss: 0.0232 - accuracy: 0.9941 - val_loss: 1.1462 - val_accuracy: 0.8141\n"
     ]
    }
   ],
   "source": [
    "num_epochs = 30\n",
    "history = model.fit(training_padded, training_labels, epochs=num_epochs,\n",
    "                    validation_data=(testing_padded, testing_labels), verbose=2)"
   ]
  },
  {
   "cell_type": "markdown",
   "id": "137e33af",
   "metadata": {
    "papermill": {
     "duration": 0.006898,
     "end_time": "2022-08-08T19:35:08.879931",
     "exception": false,
     "start_time": "2022-08-08T19:35:08.873033",
     "status": "completed"
    },
    "tags": []
   },
   "source": [
    "# Visualize the model metrics "
   ]
  },
  {
   "cell_type": "code",
   "execution_count": 9,
   "id": "6bbbdcbc",
   "metadata": {
    "execution": {
     "iopub.execute_input": "2022-08-08T19:35:08.895156Z",
     "iopub.status.busy": "2022-08-08T19:35:08.894855Z",
     "iopub.status.idle": "2022-08-08T19:35:09.226067Z",
     "shell.execute_reply": "2022-08-08T19:35:09.225111Z"
    },
    "papermill": {
     "duration": 0.341292,
     "end_time": "2022-08-08T19:35:09.228156",
     "exception": false,
     "start_time": "2022-08-08T19:35:08.886864",
     "status": "completed"
    },
    "tags": []
   },
   "outputs": [
    {
     "data": {
      "image/png": "[encoded data removed]",
      "text/plain": [
       "<Figure size 432x288 with 1 Axes>"
      ]
     },
     "metadata": {
      "needs_background": "light"
     },
     "output_type": "display_data"
    },
    {
     "data": {
      "image/png": "[encoded data removed]",
      "text/plain": [
       "<Figure size 432x288 with 1 Axes>"
      ]
     },
     "metadata": {
      "needs_background": "light"
     },
     "output_type": "display_data"
    }
   ],
   "source": [
    "def plot_graphs(h, string):\n",
    "    plt.plot(h.history[string])\n",
    "    plt.plot(h.history['val_' + string])\n",
    "    plt.xlabel(\"Epochs\")\n",
    "    plt.ylabel(string)\n",
    "    plt.legend([string, 'val_' + string])\n",
    "    plt.show()\n",
    "\n",
    "\n",
    "plot_graphs(history, \"accuracy\")\n",
    "plot_graphs(history, \"loss\")"
   ]
  },
  {
   "cell_type": "code",
   "execution_count": 10,
   "id": "261b87c1",
   "metadata": {
    "execution": {
     "iopub.execute_input": "2022-08-08T19:35:09.245438Z",
     "iopub.status.busy": "2022-08-08T19:35:09.245126Z",
     "iopub.status.idle": "2022-08-08T19:35:09.350574Z",
     "shell.execute_reply": "2022-08-08T19:35:09.348953Z"
    },
    "papermill": {
     "duration": 0.116759,
     "end_time": "2022-08-08T19:35:09.353015",
     "exception": false,
     "start_time": "2022-08-08T19:35:09.236256",
     "status": "completed"
    },
    "tags": []
   },
   "outputs": [
    {
     "name": "stdout",
     "output_type": "stream",
     "text": [
      "[[9.9944061e-01]\n",
      " [6.7662895e-03]\n",
      " [1.9484523e-05]]\n"
     ]
    }
   ],
   "source": [
    "#Testing the model using some sample data...\n",
    "sentence = ['Scientists to kill ducks to see why they are dying', 'Safety meeting ends in accident', 'Farms protest continues over low MSP']\n",
    "sequence = tokenizer.texts_to_sequences(sentence)\n",
    "padded_sequence = pad_sequences(sequences=sequence, maxlen = 100, padding='post', truncating='post')\n",
    "result = model.predict(padded_sequence)\n",
    "print(result)"
   ]
  },
  {
   "cell_type": "markdown",
   "id": "d34691db",
   "metadata": {
    "papermill": {
     "duration": 0.007439,
     "end_time": "2022-08-08T19:35:09.368442",
     "exception": false,
     "start_time": "2022-08-08T19:35:09.361003",
     "status": "completed"
    },
    "tags": []
   },
   "source": [
    "# Evaluate The model "
   ]
  },
  {
   "cell_type": "code",
   "execution_count": 11,
   "id": "8a704a96",
   "metadata": {
    "execution": {
     "iopub.execute_input": "2022-08-08T19:35:09.385440Z",
     "iopub.status.busy": "2022-08-08T19:35:09.385151Z",
     "iopub.status.idle": "2022-08-08T19:35:09.401460Z",
     "shell.execute_reply": "2022-08-08T19:35:09.400396Z"
    },
    "papermill": {
     "duration": 0.028312,
     "end_time": "2022-08-08T19:35:09.404576",
     "exception": false,
     "start_time": "2022-08-08T19:35:09.376264",
     "status": "completed"
    },
    "tags": []
   },
   "outputs": [
    {
     "name": "stdout",
     "output_type": "stream",
     "text": [
      "former <OOV> store clerk sues over secret 'black <OOV> for minority shoppers ? ? ? ? ? ? ? ? ? ? ? ? ? ? ? ? ? ? ? ? ? ? ? ? ? ? ? ? ? ? ? ? ? ? ? ? ? ? ? ? ? ? ? ? ? ? ? ? ? ? ? ? ? ? ? ? ? ? ? ? ? ? ? ? ? ? ? ? ? ? ? ? ? ? ? ? ? ? ? ? ? ? ? ? ? ? ? ?\n",
      "mom starting to fear son's web series closest thing she will have to grandchild\n",
      "1\n",
      "(10000, 16)\n"
     ]
    }
   ],
   "source": [
    "reverse_word_index = dict([(value, key) for (key, value) in word_index.items()])\n",
    "\n",
    "\n",
    "def decode_sentence(text):\n",
    "    return ' '.join([reverse_word_index.get(i, '?') for i in text])\n",
    "\n",
    "\n",
    "print(decode_sentence(training_padded[0]))\n",
    "print(training_sentences[2])\n",
    "print(labels[2])\n",
    "\n",
    "\n",
    "e = model.layers[0]\n",
    "weights = e.get_weights()[0]\n",
    "print(weights.shape)  # shape: (vocab_size, embedding_dim)"
   ]
  },
  {
   "cell_type": "code",
   "execution_count": 12,
   "id": "bcee4f9b",
   "metadata": {
    "execution": {
     "iopub.execute_input": "2022-08-08T19:35:09.423546Z",
     "iopub.status.busy": "2022-08-08T19:35:09.422947Z",
     "iopub.status.idle": "2022-08-08T19:35:09.586966Z",
     "shell.execute_reply": "2022-08-08T19:35:09.585636Z"
    },
    "papermill": {
     "duration": 0.175437,
     "end_time": "2022-08-08T19:35:09.588915",
     "exception": false,
     "start_time": "2022-08-08T19:35:09.413478",
     "status": "completed"
    },
    "tags": []
   },
   "outputs": [
    {
     "name": "stdout",
     "output_type": "stream",
     "text": [
      "[[8.4990090e-01]\n",
      " [2.3437542e-06]]\n"
     ]
    }
   ],
   "source": [
    "out_v = io.open('vecs.tsv', 'w', encoding='utf-8')\n",
    "out_m = io.open('meta.tsv', 'w', encoding='utf-8')\n",
    "for word_num in range(1, vocab_size):\n",
    "    word = reverse_word_index[word_num]\n",
    "    embeddings = weights[word_num]\n",
    "    out_m.write(word + \"\\n\")\n",
    "    out_v.write('\\t'.join([str(x) for x in embeddings]) + \"\\n\")\n",
    "out_v.close()\n",
    "out_m.close()\n",
    "\n",
    "sentence = [\"granny starting to fear spiders in the garden might be real\",\n",
    "            \"game of thrones season finale showing this sunday night\"]\n",
    "sequences = tokenizer.texts_to_sequences(sentence)\n",
    "padded = pad_sequences(sequences, maxlen=max_length, padding=padding_type, truncating=trunc_type)\n",
    "print(model.predict(padded))"
   ]
  }
 ],
 "metadata": {
  "kernelspec": {
   "display_name": "Python 3",
   "language": "python",
   "name": "python3"
  },
  "language_info": {
   "codemirror_mode": {
    "name": "ipython",
    "version": 3
   },
   "file_extension": ".py",
   "mimetype": "text/x-python",
   "name": "python",
   "nbconvert_exporter": "python",
   "pygments_lexer": "ipython3",
   "version": "3.7.12"
  },
  "papermill": {
   "default_parameters": {},
   "duration": 96.579987,
   "end_time": "2022-08-08T19:35:12.218164",
   "environment_variables": {},
   "exception": null,
   "input_path": "__notebook__.ipynb",
   "output_path": "__notebook__.ipynb",
   "parameters": {},
   "start_time": "2022-08-08T19:33:35.638177",
   "version": "2.3.4"
  }
 },
 "nbformat": 4,
 "nbformat_minor": 5
}
