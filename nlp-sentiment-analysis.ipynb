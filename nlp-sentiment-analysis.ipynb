{
 "cells": [
  {
   "cell_type": "code",
   "execution_count": 1,
   "id": "bf01cd01",
   "metadata": {
    "_cell_guid": "b1076dfc-b9ad-4769-8c92-a6c4dae69d19",
    "_uuid": "8f2839f25d086af736a60e9eeb907d3b93b6e0e5",
    "execution": {
     "iopub.execute_input": "2022-08-08T19:56:25.993813Z",
     "iopub.status.busy": "2022-08-08T19:56:25.993328Z",
     "iopub.status.idle": "2022-08-08T19:56:26.006638Z",
     "shell.execute_reply": "2022-08-08T19:56:26.005570Z"
    },
    "papermill": {
     "duration": 0.022088,
     "end_time": "2022-08-08T19:56:26.009217",
     "exception": false,
     "start_time": "2022-08-08T19:56:25.987129",
     "status": "completed"
    },
    "tags": []
   },
   "outputs": [],
   "source": [
    "# This Python 3 environment comes with many helpful analytics libraries installed\n",
    "# It is defined by the kaggle/python Docker image: https://github.com/kaggle/docker-python\n",
    "# For example, here's several helpful packages to load\n",
    "\n",
    "import numpy as np # linear algebra\n",
    "import pandas as pd # data processing, CSV file I/O (e.g. pd.read_csv)\n",
    "\n",
    "# Input data files are available in the read-only \"../input/\" directory\n",
    "# For example, running this (by clicking run or pressing Shift+Enter) will list all files under the input directory\n",
    "\n",
    "import os\n",
    "for dirname, _, filenames in os.walk('/kaggle/input'):\n",
    "    for filename in filenames:\n",
    "        print(os.path.join(dirname, filename))\n",
    "\n",
    "# You can write up to 20GB to the current directory (/kaggle/working/) that gets preserved as output when you create a version using \"Save & Run All\" \n",
    "# You can also write temporary files to /kaggle/temp/, but they won't be saved outside of the current session"
   ]
  },
  {
   "cell_type": "code",
   "execution_count": 2,
   "id": "45a9209a",
   "metadata": {
    "execution": {
     "iopub.execute_input": "2022-08-08T19:56:26.018020Z",
     "iopub.status.busy": "2022-08-08T19:56:26.017198Z",
     "iopub.status.idle": "2022-08-08T19:56:33.648835Z",
     "shell.execute_reply": "2022-08-08T19:56:33.647606Z"
    },
    "papermill": {
     "duration": 7.638981,
     "end_time": "2022-08-08T19:56:33.651509",
     "exception": false,
     "start_time": "2022-08-08T19:56:26.012528",
     "status": "completed"
    },
    "tags": []
   },
   "outputs": [],
   "source": [
    "from tensorflow.keras.preprocessing.text import Tokenizer\n",
    "from tensorflow.keras.preprocessing.sequence import pad_sequences"
   ]
  },
  {
   "cell_type": "code",
   "execution_count": 3,
   "id": "9102d0c8",
   "metadata": {
    "execution": {
     "iopub.execute_input": "2022-08-08T19:56:33.659443Z",
     "iopub.status.busy": "2022-08-08T19:56:33.658776Z",
     "iopub.status.idle": "2022-08-08T19:56:33.664380Z",
     "shell.execute_reply": "2022-08-08T19:56:33.663123Z"
    },
    "papermill": {
     "duration": 0.012086,
     "end_time": "2022-08-08T19:56:33.666706",
     "exception": false,
     "start_time": "2022-08-08T19:56:33.654620",
     "status": "completed"
    },
    "tags": []
   },
   "outputs": [],
   "source": [
    "sentences = [\n",
    "    'I love my dog',\n",
    "    'I love my cat',\n",
    "    'You love my dog!',\n",
    "    'Do you think my dog is amazing?'\n",
    "]"
   ]
  },
  {
   "cell_type": "code",
   "execution_count": 4,
   "id": "d0d01c09",
   "metadata": {
    "execution": {
     "iopub.execute_input": "2022-08-08T19:56:33.674028Z",
     "iopub.status.busy": "2022-08-08T19:56:33.673667Z",
     "iopub.status.idle": "2022-08-08T19:56:33.679385Z",
     "shell.execute_reply": "2022-08-08T19:56:33.678419Z"
    },
    "papermill": {
     "duration": 0.011847,
     "end_time": "2022-08-08T19:56:33.681490",
     "exception": false,
     "start_time": "2022-08-08T19:56:33.669643",
     "status": "completed"
    },
    "tags": []
   },
   "outputs": [],
   "source": [
    "tokenizer = Tokenizer(num_words=100, oov_token=\"<OOV>\")\n",
    "tokenizer.fit_on_texts(sentences)\n",
    "word_index = tokenizer.word_index\n",
    "\n",
    "sequences = tokenizer.texts_to_sequences(sentences)"
   ]
  },
  {
   "cell_type": "code",
   "execution_count": 5,
   "id": "8fd3278c",
   "metadata": {
    "execution": {
     "iopub.execute_input": "2022-08-08T19:56:33.689667Z",
     "iopub.status.busy": "2022-08-08T19:56:33.688980Z",
     "iopub.status.idle": "2022-08-08T19:56:33.698270Z",
     "shell.execute_reply": "2022-08-08T19:56:33.697152Z"
    },
    "papermill": {
     "duration": 0.015902,
     "end_time": "2022-08-08T19:56:33.700486",
     "exception": false,
     "start_time": "2022-08-08T19:56:33.684584",
     "status": "completed"
    },
    "tags": []
   },
   "outputs": [
    {
     "name": "stdout",
     "output_type": "stream",
     "text": [
      "\n",
      "Word Index =  {'<OOV>': 1, 'my': 2, 'love': 3, 'dog': 4, 'i': 5, 'you': 6, 'cat': 7, 'do': 8, 'think': 9, 'is': 10, 'amazing': 11}\n",
      "\n",
      "Sequences =  [[5, 3, 2, 4], [5, 3, 2, 7], [6, 3, 2, 4], [8, 6, 9, 2, 4, 10, 11]]\n",
      "\n",
      "Padded Sequences:\n",
      "[[ 0  5  3  2  4]\n",
      " [ 0  5  3  2  7]\n",
      " [ 0  6  3  2  4]\n",
      " [ 9  2  4 10 11]]\n"
     ]
    }
   ],
   "source": [
    "padded = pad_sequences(sequences, maxlen=5)\n",
    "print(\"\\nWord Index = \", word_index)\n",
    "print(\"\\nSequences = \", sequences)\n",
    "print(\"\\nPadded Sequences:\")\n",
    "print(padded)"
   ]
  },
  {
   "cell_type": "code",
   "execution_count": 6,
   "id": "3bc22a78",
   "metadata": {
    "execution": {
     "iopub.execute_input": "2022-08-08T19:56:33.708155Z",
     "iopub.status.busy": "2022-08-08T19:56:33.707753Z",
     "iopub.status.idle": "2022-08-08T19:56:33.713455Z",
     "shell.execute_reply": "2022-08-08T19:56:33.712255Z"
    },
    "papermill": {
     "duration": 0.012529,
     "end_time": "2022-08-08T19:56:33.716045",
     "exception": false,
     "start_time": "2022-08-08T19:56:33.703516",
     "status": "completed"
    },
    "tags": []
   },
   "outputs": [],
   "source": [
    "# Try with words that the tokenizer wasn't fit to\n",
    "test_data = [\n",
    "    'i really love my dog',\n",
    "    'my dog loves my manatee'\n",
    "]\n"
   ]
  },
  {
   "cell_type": "code",
   "execution_count": 7,
   "id": "9ed7b53b",
   "metadata": {
    "execution": {
     "iopub.execute_input": "2022-08-08T19:56:33.724230Z",
     "iopub.status.busy": "2022-08-08T19:56:33.723503Z",
     "iopub.status.idle": "2022-08-08T19:56:33.730104Z",
     "shell.execute_reply": "2022-08-08T19:56:33.728605Z"
    },
    "papermill": {
     "duration": 0.013189,
     "end_time": "2022-08-08T19:56:33.732376",
     "exception": false,
     "start_time": "2022-08-08T19:56:33.719187",
     "status": "completed"
    },
    "tags": []
   },
   "outputs": [
    {
     "name": "stdout",
     "output_type": "stream",
     "text": [
      "\n",
      "Test Sequence =  [[5, 1, 3, 2, 4], [2, 4, 1, 2, 1]]\n"
     ]
    }
   ],
   "source": [
    "test_seq = tokenizer.texts_to_sequences(test_data)\n",
    "print(\"\\nTest Sequence = \", test_seq)"
   ]
  },
  {
   "cell_type": "code",
   "execution_count": 8,
   "id": "86018d97",
   "metadata": {
    "execution": {
     "iopub.execute_input": "2022-08-08T19:56:33.740709Z",
     "iopub.status.busy": "2022-08-08T19:56:33.740038Z",
     "iopub.status.idle": "2022-08-08T19:56:33.745789Z",
     "shell.execute_reply": "2022-08-08T19:56:33.744609Z"
    },
    "papermill": {
     "duration": 0.012972,
     "end_time": "2022-08-08T19:56:33.748494",
     "exception": false,
     "start_time": "2022-08-08T19:56:33.735522",
     "status": "completed"
    },
    "tags": []
   },
   "outputs": [
    {
     "name": "stdout",
     "output_type": "stream",
     "text": [
      "\n",
      "Padded Test Sequence: \n",
      "[[0 0 0 0 0 5 1 3 2 4]\n",
      " [0 0 0 0 0 2 4 1 2 1]]\n"
     ]
    }
   ],
   "source": [
    "padded = pad_sequences(test_seq, maxlen=10)\n",
    "print(\"\\nPadded Test Sequence: \")\n",
    "print(padded)"
   ]
  }
 ],
 "metadata": {
  "kernelspec": {
   "display_name": "Python 3",
   "language": "python",
   "name": "python3"
  },
  "language_info": {
   "codemirror_mode": {
    "name": "ipython",
    "version": 3
   },
   "file_extension": ".py",
   "mimetype": "text/x-python",
   "name": "python",
   "nbconvert_exporter": "python",
   "pygments_lexer": "ipython3",
   "version": "3.7.12"
  },
  "papermill": {
   "default_parameters": {},
   "duration": 21.784628,
   "end_time": "2022-08-08T19:56:36.877845",
   "environment_variables": {},
   "exception": null,
   "input_path": "__notebook__.ipynb",
   "output_path": "__notebook__.ipynb",
   "parameters": {},
   "start_time": "2022-08-08T19:56:15.093217",
   "version": "2.3.4"
  }
 },
 "nbformat": 4,
 "nbformat_minor": 5
}
