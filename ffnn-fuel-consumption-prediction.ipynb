{
 "cells": [
  {
   "cell_type": "code",
   "execution_count": 1,
   "id": "135db301",
   "metadata": {
    "_cell_guid": "b1076dfc-b9ad-4769-8c92-a6c4dae69d19",
    "_uuid": "8f2839f25d086af736a60e9eeb907d3b93b6e0e5",
    "execution": {
     "iopub.execute_input": "2022-07-22T13:13:13.766955Z",
     "iopub.status.busy": "2022-07-22T13:13:13.765295Z",
     "iopub.status.idle": "2022-07-22T13:13:13.794855Z",
     "shell.execute_reply": "2022-07-22T13:13:13.793315Z"
    },
    "papermill": {
     "duration": 0.041195,
     "end_time": "2022-07-22T13:13:13.798922",
     "exception": false,
     "start_time": "2022-07-22T13:13:13.757727",
     "status": "completed"
    },
    "tags": []
   },
   "outputs": [
    {
     "name": "stdout",
     "output_type": "stream",
     "text": [
      "/kaggle/input/dl-course-data/ion.csv\n",
      "/kaggle/input/dl-course-data/spotify.csv\n",
      "/kaggle/input/dl-course-data/forestfires.csv\n",
      "/kaggle/input/dl-course-data/songs.csv\n",
      "/kaggle/input/dl-course-data/abalone.csv\n",
      "/kaggle/input/dl-course-data/concrete.csv\n",
      "/kaggle/input/dl-course-data/fuel.csv\n",
      "/kaggle/input/dl-course-data/red-wine.csv\n",
      "/kaggle/input/dl-course-data/hotel.csv\n",
      "/kaggle/input/dl-course-data/diamonds.csv\n",
      "/kaggle/input/dl-course-data/candy.csv\n",
      "/kaggle/input/dl-course-data/cereal.csv\n",
      "/kaggle/input/dl-course-data/housing.csv\n"
     ]
    }
   ],
   "source": [
    "# This Python 3 environment comes with many helpful analytics libraries installed\n",
    "# It is defined by the kaggle/python Docker image: https://github.com/kaggle/docker-python\n",
    "# For example, here's several helpful packages to load\n",
    "\n",
    "import numpy as np # linear algebra\n",
    "import pandas as pd # data processing, CSV file I/O (e.g. pd.read_csv)\n",
    "\n",
    "# Input data files are available in the read-only \"../input/\" directory\n",
    "# For example, running this (by clicking run or pressing Shift+Enter) will list all files under the input directory\n",
    "\n",
    "import os\n",
    "for dirname, _, filenames in os.walk('/kaggle/input'):\n",
    "    for filename in filenames:\n",
    "        print(os.path.join(dirname, filename))\n",
    "\n",
    "# You can write up to 20GB to the current directory (/kaggle/working/) that gets preserved as output when you create a version using \"Save & Run All\" \n",
    "# You can also write temporary files to /kaggle/temp/, but they won't be saved outside of the current session"
   ]
  },
  {
   "cell_type": "markdown",
   "id": "7cd1a862",
   "metadata": {
    "papermill": {
     "duration": 0.004004,
     "end_time": "2022-07-22T13:13:13.808268",
     "exception": false,
     "start_time": "2022-07-22T13:13:13.804264",
     "status": "completed"
    },
    "tags": []
   },
   "source": [
    "## Import required library, and datasets"
   ]
  },
  {
   "cell_type": "code",
   "execution_count": 2,
   "id": "96384fcf",
   "metadata": {
    "execution": {
     "iopub.execute_input": "2022-07-22T13:13:13.818808Z",
     "iopub.status.busy": "2022-07-22T13:13:13.818412Z",
     "iopub.status.idle": "2022-07-22T13:13:21.472230Z",
     "shell.execute_reply": "2022-07-22T13:13:21.470776Z"
    },
    "papermill": {
     "duration": 7.662256,
     "end_time": "2022-07-22T13:13:21.474851",
     "exception": false,
     "start_time": "2022-07-22T13:13:13.812595",
     "status": "completed"
    },
    "tags": []
   },
   "outputs": [
    {
     "data": {
      "text/html": [
       "<div>\n",
       "<style scoped>\n",
       "    .dataframe tbody tr th:only-of-type {\n",
       "        vertical-align: middle;\n",
       "    }\n",
       "\n",
       "    .dataframe tbody tr th {\n",
       "        vertical-align: top;\n",
       "    }\n",
       "\n",
       "    .dataframe thead th {\n",
       "        text-align: right;\n",
       "    }\n",
       "</style>\n",
       "<table border=\"1\" class=\"dataframe\">\n",
       "  <thead>\n",
       "    <tr style=\"text-align: right;\">\n",
       "      <th></th>\n",
       "      <th>EngDispl</th>\n",
       "      <th>NumCyl</th>\n",
       "      <th>Transmission</th>\n",
       "      <th>FE</th>\n",
       "      <th>AirAspirationMethod</th>\n",
       "      <th>NumGears</th>\n",
       "      <th>TransLockup</th>\n",
       "      <th>TransCreeperGear</th>\n",
       "      <th>DriveDesc</th>\n",
       "      <th>IntakeValvePerCyl</th>\n",
       "      <th>ExhaustValvesPerCyl</th>\n",
       "      <th>CarlineClassDesc</th>\n",
       "      <th>VarValveTiming</th>\n",
       "      <th>VarValveLift</th>\n",
       "    </tr>\n",
       "  </thead>\n",
       "  <tbody>\n",
       "    <tr>\n",
       "      <th>0</th>\n",
       "      <td>4.7</td>\n",
       "      <td>8</td>\n",
       "      <td>AM6</td>\n",
       "      <td>28.0198</td>\n",
       "      <td>NaturallyAspirated</td>\n",
       "      <td>6</td>\n",
       "      <td>1</td>\n",
       "      <td>0</td>\n",
       "      <td>TwoWheelDriveRear</td>\n",
       "      <td>2</td>\n",
       "      <td>2</td>\n",
       "      <td>2Seaters</td>\n",
       "      <td>1</td>\n",
       "      <td>0</td>\n",
       "    </tr>\n",
       "    <tr>\n",
       "      <th>1</th>\n",
       "      <td>4.7</td>\n",
       "      <td>8</td>\n",
       "      <td>M6</td>\n",
       "      <td>25.6094</td>\n",
       "      <td>NaturallyAspirated</td>\n",
       "      <td>6</td>\n",
       "      <td>1</td>\n",
       "      <td>0</td>\n",
       "      <td>TwoWheelDriveRear</td>\n",
       "      <td>2</td>\n",
       "      <td>2</td>\n",
       "      <td>2Seaters</td>\n",
       "      <td>1</td>\n",
       "      <td>0</td>\n",
       "    </tr>\n",
       "    <tr>\n",
       "      <th>2</th>\n",
       "      <td>4.2</td>\n",
       "      <td>8</td>\n",
       "      <td>M6</td>\n",
       "      <td>26.8000</td>\n",
       "      <td>NaturallyAspirated</td>\n",
       "      <td>6</td>\n",
       "      <td>1</td>\n",
       "      <td>0</td>\n",
       "      <td>AllWheelDrive</td>\n",
       "      <td>2</td>\n",
       "      <td>2</td>\n",
       "      <td>2Seaters</td>\n",
       "      <td>1</td>\n",
       "      <td>0</td>\n",
       "    </tr>\n",
       "    <tr>\n",
       "      <th>3</th>\n",
       "      <td>4.2</td>\n",
       "      <td>8</td>\n",
       "      <td>AM6</td>\n",
       "      <td>25.0451</td>\n",
       "      <td>NaturallyAspirated</td>\n",
       "      <td>6</td>\n",
       "      <td>1</td>\n",
       "      <td>0</td>\n",
       "      <td>AllWheelDrive</td>\n",
       "      <td>2</td>\n",
       "      <td>2</td>\n",
       "      <td>2Seaters</td>\n",
       "      <td>1</td>\n",
       "      <td>0</td>\n",
       "    </tr>\n",
       "    <tr>\n",
       "      <th>4</th>\n",
       "      <td>5.2</td>\n",
       "      <td>10</td>\n",
       "      <td>AM6</td>\n",
       "      <td>24.8000</td>\n",
       "      <td>NaturallyAspirated</td>\n",
       "      <td>6</td>\n",
       "      <td>0</td>\n",
       "      <td>0</td>\n",
       "      <td>AllWheelDrive</td>\n",
       "      <td>2</td>\n",
       "      <td>2</td>\n",
       "      <td>2Seaters</td>\n",
       "      <td>1</td>\n",
       "      <td>0</td>\n",
       "    </tr>\n",
       "  </tbody>\n",
       "</table>\n",
       "</div>"
      ],
      "text/plain": [
       "   EngDispl  NumCyl Transmission       FE AirAspirationMethod  NumGears  \\\n",
       "0       4.7       8          AM6  28.0198  NaturallyAspirated         6   \n",
       "1       4.7       8           M6  25.6094  NaturallyAspirated         6   \n",
       "2       4.2       8           M6  26.8000  NaturallyAspirated         6   \n",
       "3       4.2       8          AM6  25.0451  NaturallyAspirated         6   \n",
       "4       5.2      10          AM6  24.8000  NaturallyAspirated         6   \n",
       "\n",
       "   TransLockup  TransCreeperGear          DriveDesc  IntakeValvePerCyl  \\\n",
       "0            1                 0  TwoWheelDriveRear                  2   \n",
       "1            1                 0  TwoWheelDriveRear                  2   \n",
       "2            1                 0      AllWheelDrive                  2   \n",
       "3            1                 0      AllWheelDrive                  2   \n",
       "4            0                 0      AllWheelDrive                  2   \n",
       "\n",
       "   ExhaustValvesPerCyl CarlineClassDesc  VarValveTiming  VarValveLift  \n",
       "0                    2         2Seaters               1             0  \n",
       "1                    2         2Seaters               1             0  \n",
       "2                    2         2Seaters               1             0  \n",
       "3                    2         2Seaters               1             0  \n",
       "4                    2         2Seaters               1             0  "
      ]
     },
     "execution_count": 2,
     "metadata": {},
     "output_type": "execute_result"
    }
   ],
   "source": [
    "from sklearn.preprocessing import StandardScaler, OneHotEncoder\n",
    "from sklearn.compose import make_column_transformer, make_column_selector\n",
    "from sklearn.model_selection import train_test_split\n",
    "from tensorflow import keras\n",
    "from tensorflow.keras import layers\n",
    "\n",
    "\n",
    "fuel = pd.read_csv('../input/dl-course-data/fuel.csv')\n",
    "fuel.head()"
   ]
  },
  {
   "cell_type": "code",
   "execution_count": 3,
   "id": "a009ca97",
   "metadata": {
    "execution": {
     "iopub.execute_input": "2022-07-22T13:13:21.486585Z",
     "iopub.status.busy": "2022-07-22T13:13:21.486156Z",
     "iopub.status.idle": "2022-07-22T13:13:21.539834Z",
     "shell.execute_reply": "2022-07-22T13:13:21.538646Z"
    },
    "papermill": {
     "duration": 0.062743,
     "end_time": "2022-07-22T13:13:21.542573",
     "exception": false,
     "start_time": "2022-07-22T13:13:21.479830",
     "status": "completed"
    },
    "tags": []
   },
   "outputs": [
    {
     "data": {
      "text/html": [
       "<div>\n",
       "<style scoped>\n",
       "    .dataframe tbody tr th:only-of-type {\n",
       "        vertical-align: middle;\n",
       "    }\n",
       "\n",
       "    .dataframe tbody tr th {\n",
       "        vertical-align: top;\n",
       "    }\n",
       "\n",
       "    .dataframe thead th {\n",
       "        text-align: right;\n",
       "    }\n",
       "</style>\n",
       "<table border=\"1\" class=\"dataframe\">\n",
       "  <thead>\n",
       "    <tr style=\"text-align: right;\">\n",
       "      <th></th>\n",
       "      <th>EngDispl</th>\n",
       "      <th>NumCyl</th>\n",
       "      <th>FE</th>\n",
       "      <th>NumGears</th>\n",
       "      <th>TransLockup</th>\n",
       "      <th>TransCreeperGear</th>\n",
       "      <th>IntakeValvePerCyl</th>\n",
       "      <th>ExhaustValvesPerCyl</th>\n",
       "      <th>VarValveTiming</th>\n",
       "      <th>VarValveLift</th>\n",
       "    </tr>\n",
       "  </thead>\n",
       "  <tbody>\n",
       "    <tr>\n",
       "      <th>count</th>\n",
       "      <td>1107.000000</td>\n",
       "      <td>1107.000000</td>\n",
       "      <td>1107.000000</td>\n",
       "      <td>1107.000000</td>\n",
       "      <td>1107.000000</td>\n",
       "      <td>1107.000000</td>\n",
       "      <td>1107.000000</td>\n",
       "      <td>1107.000000</td>\n",
       "      <td>1107.000000</td>\n",
       "      <td>1107.000000</td>\n",
       "    </tr>\n",
       "    <tr>\n",
       "      <th>mean</th>\n",
       "      <td>3.507407</td>\n",
       "      <td>5.971093</td>\n",
       "      <td>34.706489</td>\n",
       "      <td>5.268293</td>\n",
       "      <td>0.680217</td>\n",
       "      <td>0.048780</td>\n",
       "      <td>1.861789</td>\n",
       "      <td>1.837398</td>\n",
       "      <td>0.822945</td>\n",
       "      <td>0.167118</td>\n",
       "    </tr>\n",
       "    <tr>\n",
       "      <th>std</th>\n",
       "      <td>1.305905</td>\n",
       "      <td>1.900575</td>\n",
       "      <td>7.498033</td>\n",
       "      <td>1.396624</td>\n",
       "      <td>0.466603</td>\n",
       "      <td>0.215506</td>\n",
       "      <td>0.353046</td>\n",
       "      <td>0.374035</td>\n",
       "      <td>0.381888</td>\n",
       "      <td>0.373250</td>\n",
       "    </tr>\n",
       "    <tr>\n",
       "      <th>min</th>\n",
       "      <td>1.000000</td>\n",
       "      <td>2.000000</td>\n",
       "      <td>17.500000</td>\n",
       "      <td>1.000000</td>\n",
       "      <td>0.000000</td>\n",
       "      <td>0.000000</td>\n",
       "      <td>0.000000</td>\n",
       "      <td>0.000000</td>\n",
       "      <td>0.000000</td>\n",
       "      <td>0.000000</td>\n",
       "    </tr>\n",
       "    <tr>\n",
       "      <th>25%</th>\n",
       "      <td>2.400000</td>\n",
       "      <td>4.000000</td>\n",
       "      <td>29.085350</td>\n",
       "      <td>5.000000</td>\n",
       "      <td>0.000000</td>\n",
       "      <td>0.000000</td>\n",
       "      <td>2.000000</td>\n",
       "      <td>2.000000</td>\n",
       "      <td>1.000000</td>\n",
       "      <td>0.000000</td>\n",
       "    </tr>\n",
       "    <tr>\n",
       "      <th>50%</th>\n",
       "      <td>3.500000</td>\n",
       "      <td>6.000000</td>\n",
       "      <td>34.514800</td>\n",
       "      <td>6.000000</td>\n",
       "      <td>1.000000</td>\n",
       "      <td>0.000000</td>\n",
       "      <td>2.000000</td>\n",
       "      <td>2.000000</td>\n",
       "      <td>1.000000</td>\n",
       "      <td>0.000000</td>\n",
       "    </tr>\n",
       "    <tr>\n",
       "      <th>75%</th>\n",
       "      <td>4.300000</td>\n",
       "      <td>8.000000</td>\n",
       "      <td>39.200000</td>\n",
       "      <td>6.000000</td>\n",
       "      <td>1.000000</td>\n",
       "      <td>0.000000</td>\n",
       "      <td>2.000000</td>\n",
       "      <td>2.000000</td>\n",
       "      <td>1.000000</td>\n",
       "      <td>0.000000</td>\n",
       "    </tr>\n",
       "    <tr>\n",
       "      <th>max</th>\n",
       "      <td>8.400000</td>\n",
       "      <td>16.000000</td>\n",
       "      <td>69.640400</td>\n",
       "      <td>8.000000</td>\n",
       "      <td>1.000000</td>\n",
       "      <td>1.000000</td>\n",
       "      <td>3.000000</td>\n",
       "      <td>2.000000</td>\n",
       "      <td>1.000000</td>\n",
       "      <td>1.000000</td>\n",
       "    </tr>\n",
       "  </tbody>\n",
       "</table>\n",
       "</div>"
      ],
      "text/plain": [
       "          EngDispl       NumCyl           FE     NumGears  TransLockup  \\\n",
       "count  1107.000000  1107.000000  1107.000000  1107.000000  1107.000000   \n",
       "mean      3.507407     5.971093    34.706489     5.268293     0.680217   \n",
       "std       1.305905     1.900575     7.498033     1.396624     0.466603   \n",
       "min       1.000000     2.000000    17.500000     1.000000     0.000000   \n",
       "25%       2.400000     4.000000    29.085350     5.000000     0.000000   \n",
       "50%       3.500000     6.000000    34.514800     6.000000     1.000000   \n",
       "75%       4.300000     8.000000    39.200000     6.000000     1.000000   \n",
       "max       8.400000    16.000000    69.640400     8.000000     1.000000   \n",
       "\n",
       "       TransCreeperGear  IntakeValvePerCyl  ExhaustValvesPerCyl  \\\n",
       "count       1107.000000        1107.000000          1107.000000   \n",
       "mean           0.048780           1.861789             1.837398   \n",
       "std            0.215506           0.353046             0.374035   \n",
       "min            0.000000           0.000000             0.000000   \n",
       "25%            0.000000           2.000000             2.000000   \n",
       "50%            0.000000           2.000000             2.000000   \n",
       "75%            0.000000           2.000000             2.000000   \n",
       "max            1.000000           3.000000             2.000000   \n",
       "\n",
       "       VarValveTiming  VarValveLift  \n",
       "count     1107.000000   1107.000000  \n",
       "mean         0.822945      0.167118  \n",
       "std          0.381888      0.373250  \n",
       "min          0.000000      0.000000  \n",
       "25%          1.000000      0.000000  \n",
       "50%          1.000000      0.000000  \n",
       "75%          1.000000      0.000000  \n",
       "max          1.000000      1.000000  "
      ]
     },
     "execution_count": 3,
     "metadata": {},
     "output_type": "execute_result"
    }
   ],
   "source": [
    "fuel.describe()"
   ]
  },
  {
   "cell_type": "markdown",
   "id": "7b94e737",
   "metadata": {
    "papermill": {
     "duration": 0.004853,
     "end_time": "2022-07-22T13:13:21.552652",
     "exception": false,
     "start_time": "2022-07-22T13:13:21.547799",
     "status": "completed"
    },
    "tags": []
   },
   "source": [
    "## initial PDA and data cleaning"
   ]
  },
  {
   "cell_type": "code",
   "execution_count": 4,
   "id": "a1c8c8f8",
   "metadata": {
    "execution": {
     "iopub.execute_input": "2022-07-22T13:13:21.564480Z",
     "iopub.status.busy": "2022-07-22T13:13:21.564011Z",
     "iopub.status.idle": "2022-07-22T13:13:21.622208Z",
     "shell.execute_reply": "2022-07-22T13:13:21.621334Z"
    },
    "papermill": {
     "duration": 0.067045,
     "end_time": "2022-07-22T13:13:21.624727",
     "exception": false,
     "start_time": "2022-07-22T13:13:21.557682",
     "status": "completed"
    },
    "tags": []
   },
   "outputs": [
    {
     "name": "stdout",
     "output_type": "stream",
     "text": [
      "Input shape: [50]\n"
     ]
    }
   ],
   "source": [
    "df = fuel.copy()\n",
    "y = df.pop('FE')\n",
    "\n",
    "df_train = df.sample(frac=0.7, random_state=1)\n",
    "df_valid = df.drop(df_train.index)\n",
    "y_train = y.sample(frac=0.7, random_state=1)\n",
    "y_valid = y.drop(df_train.index)\n",
    "\n",
    "df_train.dropna(axis=1, inplace=True)  # drop the empty feature in column 2\n",
    "df_valid.dropna(axis=1, inplace=True)\n",
    "\n",
    "preprocessor = make_column_transformer(\n",
    "    (StandardScaler(),\n",
    "     make_column_selector(dtype_include=np.number)),\n",
    "    (OneHotEncoder(sparse=False),\n",
    "     make_column_selector(dtype_include=object)),\n",
    ")\n",
    "\n",
    "X = preprocessor.fit_transform(df_train)\n",
    "y = np.log(y) # log transform target instead of standardizing\n",
    "\n",
    "X_train = preprocessor.fit_transform(df_train)\n",
    "X_valid = preprocessor.fit_transform(df_valid)\n",
    "y_train = np.log(y_train)\n",
    "y_valid = np.log(y_valid)\n",
    "\n",
    "\n",
    "input_shape = [X_train.shape[1]]\n",
    "print(\"Input shape: {}\".format(input_shape))"
   ]
  },
  {
   "cell_type": "markdown",
   "id": "561f8f99",
   "metadata": {
    "papermill": {
     "duration": 0.005576,
     "end_time": "2022-07-22T13:13:21.635338",
     "exception": false,
     "start_time": "2022-07-22T13:13:21.629762",
     "status": "completed"
    },
    "tags": []
   },
   "source": [
    "## Creating the model "
   ]
  },
  {
   "cell_type": "code",
   "execution_count": 5,
   "id": "40995504",
   "metadata": {
    "execution": {
     "iopub.execute_input": "2022-07-22T13:13:21.648989Z",
     "iopub.status.busy": "2022-07-22T13:13:21.647520Z",
     "iopub.status.idle": "2022-07-22T13:13:21.790466Z",
     "shell.execute_reply": "2022-07-22T13:13:21.789158Z"
    },
    "papermill": {
     "duration": 0.15256,
     "end_time": "2022-07-22T13:13:21.793091",
     "exception": false,
     "start_time": "2022-07-22T13:13:21.640531",
     "status": "completed"
    },
    "tags": []
   },
   "outputs": [
    {
     "name": "stderr",
     "output_type": "stream",
     "text": [
      "2022-07-22 13:13:21.701795: I tensorflow/core/common_runtime/process_util.cc:146] Creating new thread pool with default inter op setting: 2. Tune using inter_op_parallelism_threads for best performance.\n"
     ]
    }
   ],
   "source": [
    "model = keras.Sequential([\n",
    "    layers.Dense(128, activation='relu', input_shape=input_shape),\n",
    "    layers.Dense(128, activation='relu'),\n",
    "    layers.Dense(64, activation='relu'),\n",
    "    layers.Dense(1)\n",
    "])"
   ]
  },
  {
   "cell_type": "markdown",
   "id": "3413ff7d",
   "metadata": {
    "papermill": {
     "duration": 0.004836,
     "end_time": "2022-07-22T13:13:21.803075",
     "exception": false,
     "start_time": "2022-07-22T13:13:21.798239",
     "status": "completed"
    },
    "tags": []
   },
   "source": [
    "## Initilizing hyperparameters and callback functions"
   ]
  },
  {
   "cell_type": "code",
   "execution_count": 6,
   "id": "2d48ca41",
   "metadata": {
    "execution": {
     "iopub.execute_input": "2022-07-22T13:13:21.815101Z",
     "iopub.status.busy": "2022-07-22T13:13:21.814673Z",
     "iopub.status.idle": "2022-07-22T13:13:21.829023Z",
     "shell.execute_reply": "2022-07-22T13:13:21.827956Z"
    },
    "papermill": {
     "duration": 0.0234,
     "end_time": "2022-07-22T13:13:21.831528",
     "exception": false,
     "start_time": "2022-07-22T13:13:21.808128",
     "status": "completed"
    },
    "tags": []
   },
   "outputs": [],
   "source": [
    "model.compile(\n",
    "    optimizer= 'adam',\n",
    "    loss='mae',\n",
    "    metrics=['mae']\n",
    ")"
   ]
  },
  {
   "cell_type": "markdown",
   "id": "bc3cce94",
   "metadata": {
    "papermill": {
     "duration": 0.004778,
     "end_time": "2022-07-22T13:13:21.841462",
     "exception": false,
     "start_time": "2022-07-22T13:13:21.836684",
     "status": "completed"
    },
    "tags": []
   },
   "source": [
    "## Checking the model structure and size"
   ]
  },
  {
   "cell_type": "code",
   "execution_count": 7,
   "id": "ba08b72a",
   "metadata": {
    "execution": {
     "iopub.execute_input": "2022-07-22T13:13:21.853798Z",
     "iopub.status.busy": "2022-07-22T13:13:21.853009Z",
     "iopub.status.idle": "2022-07-22T13:13:21.859694Z",
     "shell.execute_reply": "2022-07-22T13:13:21.858303Z"
    },
    "papermill": {
     "duration": 0.015614,
     "end_time": "2022-07-22T13:13:21.862088",
     "exception": false,
     "start_time": "2022-07-22T13:13:21.846474",
     "status": "completed"
    },
    "tags": []
   },
   "outputs": [
    {
     "name": "stdout",
     "output_type": "stream",
     "text": [
      "Model: \"sequential\"\n",
      "_________________________________________________________________\n",
      "Layer (type)                 Output Shape              Param #   \n",
      "=================================================================\n",
      "dense (Dense)                (None, 128)               6528      \n",
      "_________________________________________________________________\n",
      "dense_1 (Dense)              (None, 128)               16512     \n",
      "_________________________________________________________________\n",
      "dense_2 (Dense)              (None, 64)                8256      \n",
      "_________________________________________________________________\n",
      "dense_3 (Dense)              (None, 1)                 65        \n",
      "=================================================================\n",
      "Total params: 31,361\n",
      "Trainable params: 31,361\n",
      "Non-trainable params: 0\n",
      "_________________________________________________________________\n"
     ]
    }
   ],
   "source": [
    "model.summary()"
   ]
  },
  {
   "cell_type": "markdown",
   "id": "eafed690",
   "metadata": {
    "papermill": {
     "duration": 0.004892,
     "end_time": "2022-07-22T13:13:21.872201",
     "exception": false,
     "start_time": "2022-07-22T13:13:21.867309",
     "status": "completed"
    },
    "tags": []
   },
   "source": [
    "## Fitting the model "
   ]
  },
  {
   "cell_type": "code",
   "execution_count": 8,
   "id": "8df0e897",
   "metadata": {
    "execution": {
     "iopub.execute_input": "2022-07-22T13:13:21.884445Z",
     "iopub.status.busy": "2022-07-22T13:13:21.883984Z",
     "iopub.status.idle": "2022-07-22T13:13:32.811997Z",
     "shell.execute_reply": "2022-07-22T13:13:32.810861Z"
    },
    "papermill": {
     "duration": 10.937563,
     "end_time": "2022-07-22T13:13:32.814884",
     "exception": false,
     "start_time": "2022-07-22T13:13:21.877321",
     "status": "completed"
    },
    "tags": []
   },
   "outputs": [
    {
     "name": "stderr",
     "output_type": "stream",
     "text": [
      "2022-07-22 13:13:21.973910: I tensorflow/compiler/mlir/mlir_graph_optimization_pass.cc:185] None of the MLIR Optimization Passes are enabled (registered 2)\n"
     ]
    }
   ],
   "source": [
    "history = model.fit(\n",
    "    X_train, y_train,\n",
    "    validation_data=(X_valid, y_valid),\n",
    "    batch_size=256,\n",
    "    epochs=100,\n",
    "    verbose=0,  # hide the output because we have so many epochs\n",
    ")"
   ]
  },
  {
   "cell_type": "markdown",
   "id": "e31bf9df",
   "metadata": {
    "papermill": {
     "duration": 0.004994,
     "end_time": "2022-07-22T13:13:32.826132",
     "exception": false,
     "start_time": "2022-07-22T13:13:32.821138",
     "status": "completed"
    },
    "tags": []
   },
   "source": [
    "## Visulizing the model paramaters, and ploting loss and accuracy "
   ]
  },
  {
   "cell_type": "code",
   "execution_count": 9,
   "id": "3b421c03",
   "metadata": {
    "execution": {
     "iopub.execute_input": "2022-07-22T13:13:32.838728Z",
     "iopub.status.busy": "2022-07-22T13:13:32.838257Z",
     "iopub.status.idle": "2022-07-22T13:13:33.104570Z",
     "shell.execute_reply": "2022-07-22T13:13:33.103199Z"
    },
    "papermill": {
     "duration": 0.276118,
     "end_time": "2022-07-22T13:13:33.107405",
     "exception": false,
     "start_time": "2022-07-22T13:13:32.831287",
     "status": "completed"
    },
    "tags": []
   },
   "outputs": [
    {
     "name": "stdout",
     "output_type": "stream",
     "text": [
      "Minimum validation loss: 0.08198601007461548\n"
     ]
    },
    {
     "data": {
      "image/png": "[encoded data removed]",
      "text/plain": [
       "<Figure size 432x288 with 1 Axes>"
      ]
     },
     "metadata": {
      "needs_background": "light"
     },
     "output_type": "display_data"
    }
   ],
   "source": [
    "# Show the learning curves\n",
    "# convert the training history to a dataframe\n",
    "history_df = pd.DataFrame(history.history)\n",
    "# use Pandas native plot method\n",
    "history_df.loc[:, ['loss', 'val_loss']].plot();\n",
    "print(\"Minimum validation loss: {}\".format(history_df['val_loss'].min()))"
   ]
  }
 ],
 "metadata": {
  "kernelspec": {
   "display_name": "Python 3",
   "language": "python",
   "name": "python3"
  },
  "language_info": {
   "codemirror_mode": {
    "name": "ipython",
    "version": 3
   },
   "file_extension": ".py",
   "mimetype": "text/x-python",
   "name": "python",
   "nbconvert_exporter": "python",
   "pygments_lexer": "ipython3",
   "version": "3.7.12"
  },
  "papermill": {
   "default_parameters": {},
   "duration": 32.615079,
   "end_time": "2022-07-22T13:13:36.223103",
   "environment_variables": {},
   "exception": null,
   "input_path": "__notebook__.ipynb",
   "output_path": "__notebook__.ipynb",
   "parameters": {},
   "start_time": "2022-07-22T13:13:03.608024",
   "version": "2.3.4"
  }
 },
 "nbformat": 4,
 "nbformat_minor": 5
}
