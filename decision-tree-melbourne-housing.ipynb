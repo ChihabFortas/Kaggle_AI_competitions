{
 "cells": [
  {
   "cell_type": "code",
   "execution_count": 1,
   "id": "653f4e42",
   "metadata": {
    "_cell_guid": "b1076dfc-b9ad-4769-8c92-a6c4dae69d19",
    "_uuid": "8f2839f25d086af736a60e9eeb907d3b93b6e0e5",
    "execution": {
     "iopub.execute_input": "2022-07-21T22:59:48.126520Z",
     "iopub.status.busy": "2022-07-21T22:59:48.126083Z",
     "iopub.status.idle": "2022-07-21T22:59:48.144837Z",
     "shell.execute_reply": "2022-07-21T22:59:48.143859Z"
    },
    "papermill": {
     "duration": 0.029685,
     "end_time": "2022-07-21T22:59:48.148167",
     "exception": false,
     "start_time": "2022-07-21T22:59:48.118482",
     "status": "completed"
    },
    "tags": []
   },
   "outputs": [
    {
     "name": "stdout",
     "output_type": "stream",
     "text": [
      "/kaggle/input/melbourne-housing-snapshot/melb_data.csv\n"
     ]
    }
   ],
   "source": [
    "# This Python 3 environment comes with many helpful analytics libraries installed\n",
    "# It is defined by the kaggle/python Docker image: https://github.com/kaggle/docker-python\n",
    "# For example, here's several helpful packages to load\n",
    "\n",
    "import numpy as np # linear algebra\n",
    "import pandas as pd # data processing, CSV file I/O (e.g. pd.read_csv)\n",
    "\n",
    "# Input data files are available in the read-only \"../input/\" directory\n",
    "# For example, running this (by clicking run or pressing Shift+Enter) will list all files under the input directory\n",
    "\n",
    "import os\n",
    "for dirname, _, filenames in os.walk('/kaggle/input'):\n",
    "    for filename in filenames:\n",
    "        print(os.path.join(dirname, filename))\n",
    "\n",
    "# You can write up to 20GB to the current directory (/kaggle/working/) that gets preserved as output when you create a version using \"Save & Run All\" \n",
    "# You can also write temporary files to /kaggle/temp/, but they won't be saved outside of the current session"
   ]
  },
  {
   "cell_type": "markdown",
   "id": "54b4acb9",
   "metadata": {
    "papermill": {
     "duration": 0.004377,
     "end_time": "2022-07-21T22:59:48.158131",
     "exception": false,
     "start_time": "2022-07-21T22:59:48.153754",
     "status": "completed"
    },
    "tags": []
   },
   "source": [
    "# Data processing and Choosing training features:\n"
   ]
  },
  {
   "cell_type": "code",
   "execution_count": 2,
   "id": "6283136a",
   "metadata": {
    "execution": {
     "iopub.execute_input": "2022-07-21T22:59:48.168942Z",
     "iopub.status.busy": "2022-07-21T22:59:48.168517Z",
     "iopub.status.idle": "2022-07-21T22:59:48.376185Z",
     "shell.execute_reply": "2022-07-21T22:59:48.374848Z"
    },
    "papermill": {
     "duration": 0.216077,
     "end_time": "2022-07-21T22:59:48.378800",
     "exception": false,
     "start_time": "2022-07-21T22:59:48.162723",
     "status": "completed"
    },
    "tags": []
   },
   "outputs": [
    {
     "data": {
      "text/html": [
       "<div>\n",
       "<style scoped>\n",
       "    .dataframe tbody tr th:only-of-type {\n",
       "        vertical-align: middle;\n",
       "    }\n",
       "\n",
       "    .dataframe tbody tr th {\n",
       "        vertical-align: top;\n",
       "    }\n",
       "\n",
       "    .dataframe thead th {\n",
       "        text-align: right;\n",
       "    }\n",
       "</style>\n",
       "<table border=\"1\" class=\"dataframe\">\n",
       "  <thead>\n",
       "    <tr style=\"text-align: right;\">\n",
       "      <th></th>\n",
       "      <th>Rooms</th>\n",
       "      <th>Bathroom</th>\n",
       "      <th>Landsize</th>\n",
       "      <th>Lattitude</th>\n",
       "      <th>Longtitude</th>\n",
       "    </tr>\n",
       "  </thead>\n",
       "  <tbody>\n",
       "    <tr>\n",
       "      <th>count</th>\n",
       "      <td>6196.000000</td>\n",
       "      <td>6196.000000</td>\n",
       "      <td>6196.000000</td>\n",
       "      <td>6196.000000</td>\n",
       "      <td>6196.000000</td>\n",
       "    </tr>\n",
       "    <tr>\n",
       "      <th>mean</th>\n",
       "      <td>2.931407</td>\n",
       "      <td>1.576340</td>\n",
       "      <td>471.006940</td>\n",
       "      <td>-37.807904</td>\n",
       "      <td>144.990201</td>\n",
       "    </tr>\n",
       "    <tr>\n",
       "      <th>std</th>\n",
       "      <td>0.971079</td>\n",
       "      <td>0.711362</td>\n",
       "      <td>897.449881</td>\n",
       "      <td>0.075850</td>\n",
       "      <td>0.099165</td>\n",
       "    </tr>\n",
       "    <tr>\n",
       "      <th>min</th>\n",
       "      <td>1.000000</td>\n",
       "      <td>1.000000</td>\n",
       "      <td>0.000000</td>\n",
       "      <td>-38.164920</td>\n",
       "      <td>144.542370</td>\n",
       "    </tr>\n",
       "    <tr>\n",
       "      <th>25%</th>\n",
       "      <td>2.000000</td>\n",
       "      <td>1.000000</td>\n",
       "      <td>152.000000</td>\n",
       "      <td>-37.855438</td>\n",
       "      <td>144.926198</td>\n",
       "    </tr>\n",
       "    <tr>\n",
       "      <th>50%</th>\n",
       "      <td>3.000000</td>\n",
       "      <td>1.000000</td>\n",
       "      <td>373.000000</td>\n",
       "      <td>-37.802250</td>\n",
       "      <td>144.995800</td>\n",
       "    </tr>\n",
       "    <tr>\n",
       "      <th>75%</th>\n",
       "      <td>4.000000</td>\n",
       "      <td>2.000000</td>\n",
       "      <td>628.000000</td>\n",
       "      <td>-37.758200</td>\n",
       "      <td>145.052700</td>\n",
       "    </tr>\n",
       "    <tr>\n",
       "      <th>max</th>\n",
       "      <td>8.000000</td>\n",
       "      <td>8.000000</td>\n",
       "      <td>37000.000000</td>\n",
       "      <td>-37.457090</td>\n",
       "      <td>145.526350</td>\n",
       "    </tr>\n",
       "  </tbody>\n",
       "</table>\n",
       "</div>"
      ],
      "text/plain": [
       "             Rooms     Bathroom      Landsize    Lattitude   Longtitude\n",
       "count  6196.000000  6196.000000   6196.000000  6196.000000  6196.000000\n",
       "mean      2.931407     1.576340    471.006940   -37.807904   144.990201\n",
       "std       0.971079     0.711362    897.449881     0.075850     0.099165\n",
       "min       1.000000     1.000000      0.000000   -38.164920   144.542370\n",
       "25%       2.000000     1.000000    152.000000   -37.855438   144.926198\n",
       "50%       3.000000     1.000000    373.000000   -37.802250   144.995800\n",
       "75%       4.000000     2.000000    628.000000   -37.758200   145.052700\n",
       "max       8.000000     8.000000  37000.000000   -37.457090   145.526350"
      ]
     },
     "execution_count": 2,
     "metadata": {},
     "output_type": "execute_result"
    }
   ],
   "source": [
    "# save filepath to variable for easier access\n",
    "melbourne_file_path = '/kaggle/input/melbourne-housing-snapshot/melb_data.csv'\n",
    "\n",
    "# read the data and store data in DataFrame titled melbourne_data\n",
    "melbourne_data = pd.read_csv(melbourne_file_path)\n",
    "\n",
    "# print a summary of the data in Melbourne data\n",
    "melbourne_data.columns\n",
    "melbourne_data.describe()\n",
    "\n",
    "# dropna drops missing values (think of na as \"not available\")\n",
    "melbourne_data = melbourne_data.dropna(axis=0)\n",
    "\n",
    "# printing by columns\n",
    "y = melbourne_data.Price\n",
    "\n",
    "# Choosing \"Features\"\n",
    "melbourne_features = ['Rooms', 'Bathroom', 'Landsize', 'Lattitude', 'Longtitude']\n",
    "X = melbourne_data[melbourne_features]\n",
    "\n",
    "# print a summary of the data in X data\n",
    "X.describe()\n"
   ]
  },
  {
   "cell_type": "markdown",
   "id": "8d2b21a0",
   "metadata": {
    "papermill": {
     "duration": 0.004436,
     "end_time": "2022-07-21T22:59:48.388062",
     "exception": false,
     "start_time": "2022-07-21T22:59:48.383626",
     "status": "completed"
    },
    "tags": []
   },
   "source": [
    "# Helper functions:"
   ]
  },
  {
   "cell_type": "code",
   "execution_count": 3,
   "id": "654f9b06",
   "metadata": {
    "execution": {
     "iopub.execute_input": "2022-07-21T22:59:48.399075Z",
     "iopub.status.busy": "2022-07-21T22:59:48.398674Z",
     "iopub.status.idle": "2022-07-21T22:59:49.650251Z",
     "shell.execute_reply": "2022-07-21T22:59:49.649197Z"
    },
    "papermill": {
     "duration": 1.260651,
     "end_time": "2022-07-21T22:59:49.653271",
     "exception": false,
     "start_time": "2022-07-21T22:59:48.392620",
     "status": "completed"
    },
    "tags": []
   },
   "outputs": [],
   "source": [
    "from sklearn.metrics import mean_absolute_error\n",
    "\n",
    "# Calculate the Mean Average Error\n",
    "def get_mae(max_leaf_nodes, train_X, val_X, train_y, val_y):\n",
    "    model = DecisionTreeRegressor(max_leaf_nodes=max_leaf_nodes, random_state=0)\n",
    "    model.fit(train_X, train_y)\n",
    "    preds_val = model.predict(val_X)\n",
    "    mae = mean_absolute_error(val_y, preds_val)\n",
    "    return(mae)"
   ]
  },
  {
   "cell_type": "markdown",
   "id": "3be83e78",
   "metadata": {
    "papermill": {
     "duration": 0.004264,
     "end_time": "2022-07-21T22:59:49.662302",
     "exception": false,
     "start_time": "2022-07-21T22:59:49.658038",
     "status": "completed"
    },
    "tags": []
   },
   "source": [
    "# Split data into Training and validation "
   ]
  },
  {
   "cell_type": "code",
   "execution_count": 4,
   "id": "41108821",
   "metadata": {
    "execution": {
     "iopub.execute_input": "2022-07-21T22:59:49.673809Z",
     "iopub.status.busy": "2022-07-21T22:59:49.673076Z",
     "iopub.status.idle": "2022-07-21T22:59:49.697560Z",
     "shell.execute_reply": "2022-07-21T22:59:49.696215Z"
    },
    "papermill": {
     "duration": 0.034004,
     "end_time": "2022-07-21T22:59:49.700882",
     "exception": false,
     "start_time": "2022-07-21T22:59:49.666878",
     "status": "completed"
    },
    "tags": []
   },
   "outputs": [],
   "source": [
    "from sklearn.model_selection import train_test_split\n",
    "\n",
    "train_X, val_X, train_y, val_y = train_test_split(X, y, random_state = 0)"
   ]
  },
  {
   "cell_type": "markdown",
   "id": "523acecc",
   "metadata": {
    "papermill": {
     "duration": 0.004353,
     "end_time": "2022-07-21T22:59:49.709957",
     "exception": false,
     "start_time": "2022-07-21T22:59:49.705604",
     "status": "completed"
    },
    "tags": []
   },
   "source": [
    "# Building the Model using \"Decision Tree Regressor\""
   ]
  },
  {
   "cell_type": "code",
   "execution_count": 5,
   "id": "ab25b7be",
   "metadata": {
    "execution": {
     "iopub.execute_input": "2022-07-21T22:59:49.720802Z",
     "iopub.status.busy": "2022-07-21T22:59:49.720409Z",
     "iopub.status.idle": "2022-07-21T22:59:49.906310Z",
     "shell.execute_reply": "2022-07-21T22:59:49.904895Z"
    },
    "papermill": {
     "duration": 0.194225,
     "end_time": "2022-07-21T22:59:49.908804",
     "exception": false,
     "start_time": "2022-07-21T22:59:49.714579",
     "status": "completed"
    },
    "tags": []
   },
   "outputs": [
    {
     "data": {
      "text/plain": [
       "DecisionTreeRegressor(random_state=1)"
      ]
     },
     "execution_count": 5,
     "metadata": {},
     "output_type": "execute_result"
    }
   ],
   "source": [
    "# Building Your Model\n",
    "from sklearn.tree import DecisionTreeRegressor\n",
    "\n",
    "# Define model. Specify a number for random_state to ensure same results each run\n",
    "melbourne_model = DecisionTreeRegressor(random_state=1)\n",
    "melbourne_model"
   ]
  },
  {
   "cell_type": "markdown",
   "id": "b51d0ea0",
   "metadata": {
    "papermill": {
     "duration": 0.004893,
     "end_time": "2022-07-21T22:59:49.918506",
     "exception": false,
     "start_time": "2022-07-21T22:59:49.913613",
     "status": "completed"
    },
    "tags": []
   },
   "source": [
    "# Start training and Fitting the model"
   ]
  },
  {
   "cell_type": "code",
   "execution_count": 6,
   "id": "fd79832e",
   "metadata": {
    "execution": {
     "iopub.execute_input": "2022-07-21T22:59:49.930460Z",
     "iopub.status.busy": "2022-07-21T22:59:49.929352Z",
     "iopub.status.idle": "2022-07-21T22:59:49.970362Z",
     "shell.execute_reply": "2022-07-21T22:59:49.968798Z"
    },
    "papermill": {
     "duration": 0.050851,
     "end_time": "2022-07-21T22:59:49.974174",
     "exception": false,
     "start_time": "2022-07-21T22:59:49.923323",
     "status": "completed"
    },
    "tags": []
   },
   "outputs": [
    {
     "name": "stdout",
     "output_type": "stream",
     "text": [
      "First in-sample predictions: [1060000.  410000.  502000. ...  724500. 1000000.  890000.]\n",
      "Actual target values for those homes: [1060000.0, 390000.0, 502000.0, 1055000.0, 1900000.0]\n",
      "The MSE:  897.7835162470411\n",
      "Validation MAE: 273,518\n"
     ]
    }
   ],
   "source": [
    "# Fit model\n",
    "melbourne_model.fit(train_X, train_y)\n",
    "predicted_home_prices = melbourne_model.predict(train_X)\n",
    "val_predictions = melbourne_model.predict(val_X)\n",
    "val_mae = mean_absolute_error(val_predictions, val_y)\n",
    "\n",
    "print(\"First in-sample predictions:\", predicted_home_prices)\n",
    "print(\"Actual target values for those homes:\", train_y.head().tolist())\n",
    "print(\"The MSE: \", mean_absolute_error(train_y, predicted_home_prices))\n",
    "print(\"Validation MAE: {:,.0f}\".format(val_mae))"
   ]
  },
  {
   "cell_type": "markdown",
   "id": "fb1e564e",
   "metadata": {
    "papermill": {
     "duration": 0.004615,
     "end_time": "2022-07-21T22:59:49.984288",
     "exception": false,
     "start_time": "2022-07-21T22:59:49.979673",
     "status": "completed"
    },
    "tags": []
   },
   "source": [
    "# Compare MAE with differing values of max_leaf_nodes"
   ]
  },
  {
   "cell_type": "code",
   "execution_count": 7,
   "id": "e016ee54",
   "metadata": {
    "execution": {
     "iopub.execute_input": "2022-07-21T22:59:49.996297Z",
     "iopub.status.busy": "2022-07-21T22:59:49.995221Z",
     "iopub.status.idle": "2022-07-21T22:59:50.234513Z",
     "shell.execute_reply": "2022-07-21T22:59:50.233084Z"
    },
    "papermill": {
     "duration": 0.248282,
     "end_time": "2022-07-21T22:59:50.237343",
     "exception": false,
     "start_time": "2022-07-21T22:59:49.989061",
     "status": "completed"
    },
    "tags": []
   },
   "outputs": [
    {
     "name": "stdout",
     "output_type": "stream",
     "text": [
      "best_tree_size:  500\n",
      "First in-sample predictions: [ 817057.5         635110.39330544  604620.         1004851.85185185\n",
      " 1923571.42857143]\n",
      "Actual target values for those homes: [1060000.0, 390000.0, 502000.0, 1055000.0, 1900000.0]\n",
      "The MSE:  132878.49400500325\n",
      "Validation MAE: 125,445\n"
     ]
    }
   ],
   "source": [
    "# compare MAE with differing values of max_leaf_nodes\n",
    "candidate_max_leaf_nodes = [5, 25, 50, 100, 250, 500, 1000, 2000, 3000, 4000, 5000]\n",
    "# Write loop to find the ideal tree size from candidate_max_leaf_nodes\n",
    "x = val_mae\n",
    "for max_leaf_nodes in candidate_max_leaf_nodes:\n",
    "    my_mae = get_mae(max_leaf_nodes, train_X, val_X, train_y, val_y)\n",
    "    if my_mae < x:\n",
    "        x = round(my_mae)\n",
    "        # Store the best value of max_leaf_nodes (it will be either 5, 25, 50, 100, 250 or 500)\n",
    "        best_tree_size = max_leaf_nodes\n",
    "\n",
    "print(\"best_tree_size: \", best_tree_size)\n",
    "# Fit Model Using All Data\n",
    "final_model = DecisionTreeRegressor(max_leaf_nodes=best_tree_size, random_state=0)\n",
    "# fit the final model and uncomment the next two lines\n",
    "final_model.fit(X, y)\n",
    "\n",
    "predicted_home_prices = final_model.predict(train_X.head())\n",
    "val_predictions = final_model.predict(val_X)\n",
    "val_mae = mean_absolute_error(val_predictions, val_y)\n",
    "\n",
    "print(\"First in-sample predictions:\", predicted_home_prices)\n",
    "print(\"Actual target values for those homes:\", train_y.head().tolist())\n",
    "print(\"The MSE: \", mean_absolute_error(train_y.head(), predicted_home_prices))\n",
    "print(\"Validation MAE: {:,.0f}\".format(val_mae))"
   ]
  },
  {
   "cell_type": "markdown",
   "id": "27d175ed",
   "metadata": {
    "papermill": {
     "duration": 0.00462,
     "end_time": "2022-07-21T22:59:50.247009",
     "exception": false,
     "start_time": "2022-07-21T22:59:50.242389",
     "status": "completed"
    },
    "tags": []
   },
   "source": []
  }
 ],
 "metadata": {
  "kernelspec": {
   "display_name": "Python 3",
   "language": "python",
   "name": "python3"
  },
  "language_info": {
   "codemirror_mode": {
    "name": "ipython",
    "version": 3
   },
   "file_extension": ".py",
   "mimetype": "text/x-python",
   "name": "python",
   "nbconvert_exporter": "python",
   "pygments_lexer": "ipython3",
   "version": "3.7.12"
  },
  "papermill": {
   "default_parameters": {},
   "duration": 13.536994,
   "end_time": "2022-07-21T22:59:50.975006",
   "environment_variables": {},
   "exception": null,
   "input_path": "__notebook__.ipynb",
   "output_path": "__notebook__.ipynb",
   "parameters": {},
   "start_time": "2022-07-21T22:59:37.438012",
   "version": "2.3.4"
  }
 },
 "nbformat": 4,
 "nbformat_minor": 5
}
