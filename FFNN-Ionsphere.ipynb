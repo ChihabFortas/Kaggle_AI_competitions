{
 "cells": [
  {
   "cell_type": "code",
   "execution_count": 1,
   "id": "49081212",
   "metadata": {
    "_cell_guid": "b1076dfc-b9ad-4769-8c92-a6c4dae69d19",
    "_uuid": "8f2839f25d086af736a60e9eeb907d3b93b6e0e5",
    "execution": {
     "iopub.execute_input": "2022-07-22T10:30:41.849236Z",
     "iopub.status.busy": "2022-07-22T10:30:41.847814Z",
     "iopub.status.idle": "2022-07-22T10:30:41.891369Z",
     "shell.execute_reply": "2022-07-22T10:30:41.890162Z"
    },
    "papermill": {
     "duration": 0.054844,
     "end_time": "2022-07-22T10:30:41.895011",
     "exception": false,
     "start_time": "2022-07-22T10:30:41.840167",
     "status": "completed"
    },
    "tags": []
   },
   "outputs": [
    {
     "name": "stdout",
     "output_type": "stream",
     "text": [
      "/kaggle/input/dl-course-data/ion.csv\n",
      "/kaggle/input/dl-course-data/spotify.csv\n",
      "/kaggle/input/dl-course-data/forestfires.csv\n",
      "/kaggle/input/dl-course-data/songs.csv\n",
      "/kaggle/input/dl-course-data/abalone.csv\n",
      "/kaggle/input/dl-course-data/concrete.csv\n",
      "/kaggle/input/dl-course-data/fuel.csv\n",
      "/kaggle/input/dl-course-data/red-wine.csv\n",
      "/kaggle/input/dl-course-data/hotel.csv\n",
      "/kaggle/input/dl-course-data/diamonds.csv\n",
      "/kaggle/input/dl-course-data/candy.csv\n",
      "/kaggle/input/dl-course-data/cereal.csv\n",
      "/kaggle/input/dl-course-data/housing.csv\n"
     ]
    }
   ],
   "source": [
    "# This Python 3 environment comes with many helpful analytics libraries installed\n",
    "# It is defined by the kaggle/python Docker image: https://github.com/kaggle/docker-python\n",
    "# For example, here's several helpful packages to load\n",
    "\n",
    "import numpy as np # linear algebra\n",
    "import pandas as pd  # data processing, CSV file I/O (e.g. pd.read_csv)\n",
    "\n",
    "# Input data files are available in the read-only \"../input/\" directory\n",
    "# For example, running this (by clicking run or pressing Shift+Enter) will list all files under the input directory\n",
    "\n",
    "import os\n",
    "for dirname, _, filenames in os.walk('/kaggle/input'):\n",
    "    for filename in filenames:\n",
    "        print(os.path.join(dirname, filename))\n",
    "\n",
    "# You can write up to 20GB to the current directory (/kaggle/working/) that gets preserved as output when you create a version using \"Save & Run All\" \n",
    "# You can also write temporary files to /kaggle/temp/, but they won't be saved outside of the current session"
   ]
  },
  {
   "cell_type": "markdown",
   "id": "8bfb6db7",
   "metadata": {
    "papermill": {
     "duration": 0.004987,
     "end_time": "2022-07-22T10:30:41.905697",
     "exception": false,
     "start_time": "2022-07-22T10:30:41.900710",
     "status": "completed"
    },
    "tags": []
   },
   "source": [
    "## Import required library, and datasets"
   ]
  },
  {
   "cell_type": "code",
   "execution_count": 2,
   "id": "051fb48a",
   "metadata": {
    "execution": {
     "iopub.execute_input": "2022-07-22T10:30:41.919018Z",
     "iopub.status.busy": "2022-07-22T10:30:41.918156Z",
     "iopub.status.idle": "2022-07-22T10:30:50.365574Z",
     "shell.execute_reply": "2022-07-22T10:30:50.364347Z"
    },
    "papermill": {
     "duration": 8.457359,
     "end_time": "2022-07-22T10:30:50.368053",
     "exception": false,
     "start_time": "2022-07-22T10:30:41.910694",
     "status": "completed"
    },
    "tags": []
   },
   "outputs": [
    {
     "data": {
      "text/html": [
       "<div>\n",
       "<style scoped>\n",
       "    .dataframe tbody tr th:only-of-type {\n",
       "        vertical-align: middle;\n",
       "    }\n",
       "\n",
       "    .dataframe tbody tr th {\n",
       "        vertical-align: top;\n",
       "    }\n",
       "\n",
       "    .dataframe thead th {\n",
       "        text-align: right;\n",
       "    }\n",
       "</style>\n",
       "<table border=\"1\" class=\"dataframe\">\n",
       "  <thead>\n",
       "    <tr style=\"text-align: right;\">\n",
       "      <th></th>\n",
       "      <th>V1</th>\n",
       "      <th>V2</th>\n",
       "      <th>V3</th>\n",
       "      <th>V4</th>\n",
       "      <th>V5</th>\n",
       "      <th>V6</th>\n",
       "      <th>V7</th>\n",
       "      <th>V8</th>\n",
       "      <th>V9</th>\n",
       "      <th>V10</th>\n",
       "      <th>...</th>\n",
       "      <th>V26</th>\n",
       "      <th>V27</th>\n",
       "      <th>V28</th>\n",
       "      <th>V29</th>\n",
       "      <th>V30</th>\n",
       "      <th>V31</th>\n",
       "      <th>V32</th>\n",
       "      <th>V33</th>\n",
       "      <th>V34</th>\n",
       "      <th>Class</th>\n",
       "    </tr>\n",
       "  </thead>\n",
       "  <tbody>\n",
       "    <tr>\n",
       "      <th>1</th>\n",
       "      <td>1</td>\n",
       "      <td>0</td>\n",
       "      <td>0.99539</td>\n",
       "      <td>-0.05889</td>\n",
       "      <td>0.85243</td>\n",
       "      <td>0.02306</td>\n",
       "      <td>0.83398</td>\n",
       "      <td>-0.37708</td>\n",
       "      <td>1.00000</td>\n",
       "      <td>0.03760</td>\n",
       "      <td>...</td>\n",
       "      <td>-0.51171</td>\n",
       "      <td>0.41078</td>\n",
       "      <td>-0.46168</td>\n",
       "      <td>0.21266</td>\n",
       "      <td>-0.34090</td>\n",
       "      <td>0.42267</td>\n",
       "      <td>-0.54487</td>\n",
       "      <td>0.18641</td>\n",
       "      <td>-0.45300</td>\n",
       "      <td>good</td>\n",
       "    </tr>\n",
       "    <tr>\n",
       "      <th>2</th>\n",
       "      <td>1</td>\n",
       "      <td>0</td>\n",
       "      <td>1.00000</td>\n",
       "      <td>-0.18829</td>\n",
       "      <td>0.93035</td>\n",
       "      <td>-0.36156</td>\n",
       "      <td>-0.10868</td>\n",
       "      <td>-0.93597</td>\n",
       "      <td>1.00000</td>\n",
       "      <td>-0.04549</td>\n",
       "      <td>...</td>\n",
       "      <td>-0.26569</td>\n",
       "      <td>-0.20468</td>\n",
       "      <td>-0.18401</td>\n",
       "      <td>-0.19040</td>\n",
       "      <td>-0.11593</td>\n",
       "      <td>-0.16626</td>\n",
       "      <td>-0.06288</td>\n",
       "      <td>-0.13738</td>\n",
       "      <td>-0.02447</td>\n",
       "      <td>bad</td>\n",
       "    </tr>\n",
       "    <tr>\n",
       "      <th>3</th>\n",
       "      <td>1</td>\n",
       "      <td>0</td>\n",
       "      <td>1.00000</td>\n",
       "      <td>-0.03365</td>\n",
       "      <td>1.00000</td>\n",
       "      <td>0.00485</td>\n",
       "      <td>1.00000</td>\n",
       "      <td>-0.12062</td>\n",
       "      <td>0.88965</td>\n",
       "      <td>0.01198</td>\n",
       "      <td>...</td>\n",
       "      <td>-0.40220</td>\n",
       "      <td>0.58984</td>\n",
       "      <td>-0.22145</td>\n",
       "      <td>0.43100</td>\n",
       "      <td>-0.17365</td>\n",
       "      <td>0.60436</td>\n",
       "      <td>-0.24180</td>\n",
       "      <td>0.56045</td>\n",
       "      <td>-0.38238</td>\n",
       "      <td>good</td>\n",
       "    </tr>\n",
       "    <tr>\n",
       "      <th>4</th>\n",
       "      <td>1</td>\n",
       "      <td>0</td>\n",
       "      <td>1.00000</td>\n",
       "      <td>-0.45161</td>\n",
       "      <td>1.00000</td>\n",
       "      <td>1.00000</td>\n",
       "      <td>0.71216</td>\n",
       "      <td>-1.00000</td>\n",
       "      <td>0.00000</td>\n",
       "      <td>0.00000</td>\n",
       "      <td>...</td>\n",
       "      <td>0.90695</td>\n",
       "      <td>0.51613</td>\n",
       "      <td>1.00000</td>\n",
       "      <td>1.00000</td>\n",
       "      <td>-0.20099</td>\n",
       "      <td>0.25682</td>\n",
       "      <td>1.00000</td>\n",
       "      <td>-0.32382</td>\n",
       "      <td>1.00000</td>\n",
       "      <td>bad</td>\n",
       "    </tr>\n",
       "    <tr>\n",
       "      <th>5</th>\n",
       "      <td>1</td>\n",
       "      <td>0</td>\n",
       "      <td>1.00000</td>\n",
       "      <td>-0.02401</td>\n",
       "      <td>0.94140</td>\n",
       "      <td>0.06531</td>\n",
       "      <td>0.92106</td>\n",
       "      <td>-0.23255</td>\n",
       "      <td>0.77152</td>\n",
       "      <td>-0.16399</td>\n",
       "      <td>...</td>\n",
       "      <td>-0.65158</td>\n",
       "      <td>0.13290</td>\n",
       "      <td>-0.53206</td>\n",
       "      <td>0.02431</td>\n",
       "      <td>-0.62197</td>\n",
       "      <td>-0.05707</td>\n",
       "      <td>-0.59573</td>\n",
       "      <td>-0.04608</td>\n",
       "      <td>-0.65697</td>\n",
       "      <td>good</td>\n",
       "    </tr>\n",
       "  </tbody>\n",
       "</table>\n",
       "<p>5 rows × 35 columns</p>\n",
       "</div>"
      ],
      "text/plain": [
       "   V1  V2       V3       V4       V5       V6       V7       V8       V9  \\\n",
       "1   1   0  0.99539 -0.05889  0.85243  0.02306  0.83398 -0.37708  1.00000   \n",
       "2   1   0  1.00000 -0.18829  0.93035 -0.36156 -0.10868 -0.93597  1.00000   \n",
       "3   1   0  1.00000 -0.03365  1.00000  0.00485  1.00000 -0.12062  0.88965   \n",
       "4   1   0  1.00000 -0.45161  1.00000  1.00000  0.71216 -1.00000  0.00000   \n",
       "5   1   0  1.00000 -0.02401  0.94140  0.06531  0.92106 -0.23255  0.77152   \n",
       "\n",
       "       V10  ...      V26      V27      V28      V29      V30      V31  \\\n",
       "1  0.03760  ... -0.51171  0.41078 -0.46168  0.21266 -0.34090  0.42267   \n",
       "2 -0.04549  ... -0.26569 -0.20468 -0.18401 -0.19040 -0.11593 -0.16626   \n",
       "3  0.01198  ... -0.40220  0.58984 -0.22145  0.43100 -0.17365  0.60436   \n",
       "4  0.00000  ...  0.90695  0.51613  1.00000  1.00000 -0.20099  0.25682   \n",
       "5 -0.16399  ... -0.65158  0.13290 -0.53206  0.02431 -0.62197 -0.05707   \n",
       "\n",
       "       V32      V33      V34  Class  \n",
       "1 -0.54487  0.18641 -0.45300   good  \n",
       "2 -0.06288 -0.13738 -0.02447    bad  \n",
       "3 -0.24180  0.56045 -0.38238   good  \n",
       "4  1.00000 -0.32382  1.00000    bad  \n",
       "5 -0.59573 -0.04608 -0.65697   good  \n",
       "\n",
       "[5 rows x 35 columns]"
      ]
     },
     "execution_count": 2,
     "metadata": {},
     "output_type": "execute_result"
    }
   ],
   "source": [
    "from tensorflow import keras\n",
    "from tensorflow.keras import layers\n",
    "\n",
    "ion = pd.read_csv('../input/dl-course-data/ion.csv', index_col=0)\n",
    "ion.head()"
   ]
  },
  {
   "cell_type": "markdown",
   "id": "e6d9f877",
   "metadata": {
    "papermill": {
     "duration": 0.005227,
     "end_time": "2022-07-22T10:30:50.379000",
     "exception": false,
     "start_time": "2022-07-22T10:30:50.373773",
     "status": "completed"
    },
    "tags": []
   },
   "source": [
    "## initial PDA and data cleaning"
   ]
  },
  {
   "cell_type": "code",
   "execution_count": 3,
   "id": "a96fb79f",
   "metadata": {
    "execution": {
     "iopub.execute_input": "2022-07-22T10:30:50.391893Z",
     "iopub.status.busy": "2022-07-22T10:30:50.391021Z",
     "iopub.status.idle": "2022-07-22T10:30:50.419182Z",
     "shell.execute_reply": "2022-07-22T10:30:50.418108Z"
    },
    "papermill": {
     "duration": 0.037785,
     "end_time": "2022-07-22T10:30:50.422072",
     "exception": false,
     "start_time": "2022-07-22T10:30:50.384287",
     "status": "completed"
    },
    "tags": []
   },
   "outputs": [],
   "source": [
    "df = ion.copy()\n",
    "df['Class'] = df['Class'].map({'good': 0, 'bad': 1})\n",
    "\n",
    "df_train = df.sample(frac=0.7, random_state=42)\n",
    "df_valid = df.drop(df_train.index)\n",
    "\n",
    "max_ = df_train.max(axis=0)\n",
    "min_ = df_train.min(axis=0)\n",
    "\n",
    "df_train = (df_train - min_) / (max_ - min_)\n",
    "df_valid = (df_valid - min_) / (max_ - min_)\n",
    "df_train.dropna(axis=1, inplace=True)  # drop the empty feature in column 2\n",
    "df_valid.dropna(axis=1, inplace=True)"
   ]
  },
  {
   "cell_type": "markdown",
   "id": "e18595ef",
   "metadata": {
    "papermill": {
     "duration": 0.005083,
     "end_time": "2022-07-22T10:30:50.432446",
     "exception": false,
     "start_time": "2022-07-22T10:30:50.427363",
     "status": "completed"
    },
    "tags": []
   },
   "source": [
    "## Spliting data into training and validation"
   ]
  },
  {
   "cell_type": "code",
   "execution_count": 4,
   "id": "502a0353",
   "metadata": {
    "execution": {
     "iopub.execute_input": "2022-07-22T10:30:50.445574Z",
     "iopub.status.busy": "2022-07-22T10:30:50.444809Z",
     "iopub.status.idle": "2022-07-22T10:30:50.452610Z",
     "shell.execute_reply": "2022-07-22T10:30:50.451381Z"
    },
    "papermill": {
     "duration": 0.017453,
     "end_time": "2022-07-22T10:30:50.455316",
     "exception": false,
     "start_time": "2022-07-22T10:30:50.437863",
     "status": "completed"
    },
    "tags": []
   },
   "outputs": [],
   "source": [
    "X_train = df_train.drop('Class', axis=1)\n",
    "X_valid = df_valid.drop('Class', axis=1)\n",
    "y_train = df_train['Class']\n",
    "y_valid = df_valid['Class']"
   ]
  },
  {
   "cell_type": "markdown",
   "id": "59e6d451",
   "metadata": {
    "papermill": {
     "duration": 0.005119,
     "end_time": "2022-07-22T10:30:50.465932",
     "exception": false,
     "start_time": "2022-07-22T10:30:50.460813",
     "status": "completed"
    },
    "tags": []
   },
   "source": [
    "## Creating the model "
   ]
  },
  {
   "cell_type": "code",
   "execution_count": 5,
   "id": "e4399fde",
   "metadata": {
    "execution": {
     "iopub.execute_input": "2022-07-22T10:30:50.478607Z",
     "iopub.status.busy": "2022-07-22T10:30:50.478204Z",
     "iopub.status.idle": "2022-07-22T10:30:50.722327Z",
     "shell.execute_reply": "2022-07-22T10:30:50.721034Z"
    },
    "papermill": {
     "duration": 0.253744,
     "end_time": "2022-07-22T10:30:50.725128",
     "exception": false,
     "start_time": "2022-07-22T10:30:50.471384",
     "status": "completed"
    },
    "tags": []
   },
   "outputs": [
    {
     "name": "stderr",
     "output_type": "stream",
     "text": [
      "2022-07-22 10:30:50.539059: I tensorflow/core/common_runtime/process_util.cc:146] Creating new thread pool with default inter op setting: 2. Tune using inter_op_parallelism_threads for best performance.\n"
     ]
    }
   ],
   "source": [
    "model = keras.Sequential([\n",
    "    layers.BatchNormalization(input_shape=[33]),\n",
    "    layers.Dense(512, activation='relu'),\n",
    "    layers.BatchNormalization(),\n",
    "    layers.Dropout(0.3),\n",
    "    layers.Dense(256, activation='relu'),\n",
    "    layers.BatchNormalization(),\n",
    "    layers.Dropout(0.3),\n",
    "    layers.Dense(128, activation='relu'),\n",
    "    layers.BatchNormalization(),\n",
    "    layers.Dropout(0.3),\n",
    "    layers.Dense(64, activation='relu'),\n",
    "    layers.BatchNormalization(),\n",
    "    layers.Dropout(0.3),\n",
    "    layers.Dense(1, activation='sigmoid'),\n",
    "])"
   ]
  },
  {
   "cell_type": "markdown",
   "id": "72b54bad",
   "metadata": {
    "papermill": {
     "duration": 0.005403,
     "end_time": "2022-07-22T10:30:50.735943",
     "exception": false,
     "start_time": "2022-07-22T10:30:50.730540",
     "status": "completed"
    },
    "tags": []
   },
   "source": [
    "## Initilizing hyperparameters and callback functions"
   ]
  },
  {
   "cell_type": "code",
   "execution_count": 6,
   "id": "1a0e876b",
   "metadata": {
    "execution": {
     "iopub.execute_input": "2022-07-22T10:30:50.749916Z",
     "iopub.status.busy": "2022-07-22T10:30:50.748868Z",
     "iopub.status.idle": "2022-07-22T10:30:50.936044Z",
     "shell.execute_reply": "2022-07-22T10:30:50.935174Z"
    },
    "papermill": {
     "duration": 0.196622,
     "end_time": "2022-07-22T10:30:50.938550",
     "exception": false,
     "start_time": "2022-07-22T10:30:50.741928",
     "status": "completed"
    },
    "tags": []
   },
   "outputs": [],
   "source": [
    "model.compile(\n",
    "    optimizer='adam',\n",
    "    loss='binary_crossentropy',\n",
    "    metrics=['binary_accuracy'],\n",
    ")\n",
    "\n",
    "early_stopping = keras.callbacks.EarlyStopping(\n",
    "    patience=20,\n",
    "    min_delta=0.001,\n",
    "    restore_best_weights=True,\n",
    ")"
   ]
  },
  {
   "cell_type": "code",
   "execution_count": 7,
   "id": "9d7a03ab",
   "metadata": {
    "execution": {
     "iopub.execute_input": "2022-07-22T10:30:50.953856Z",
     "iopub.status.busy": "2022-07-22T10:30:50.952938Z",
     "iopub.status.idle": "2022-07-22T10:30:50.960751Z",
     "shell.execute_reply": "2022-07-22T10:30:50.959782Z"
    },
    "papermill": {
     "duration": 0.017961,
     "end_time": "2022-07-22T10:30:50.963673",
     "exception": false,
     "start_time": "2022-07-22T10:30:50.945712",
     "status": "completed"
    },
    "tags": []
   },
   "outputs": [
    {
     "name": "stdout",
     "output_type": "stream",
     "text": [
      "Model: \"sequential\"\n",
      "_________________________________________________________________\n",
      "Layer (type)                 Output Shape              Param #   \n",
      "=================================================================\n",
      "batch_normalization (BatchNo (None, 33)                132       \n",
      "_________________________________________________________________\n",
      "dense (Dense)                (None, 512)               17408     \n",
      "_________________________________________________________________\n",
      "batch_normalization_1 (Batch (None, 512)               2048      \n",
      "_________________________________________________________________\n",
      "dropout (Dropout)            (None, 512)               0         \n",
      "_________________________________________________________________\n",
      "dense_1 (Dense)              (None, 256)               131328    \n",
      "_________________________________________________________________\n",
      "batch_normalization_2 (Batch (None, 256)               1024      \n",
      "_________________________________________________________________\n",
      "dropout_1 (Dropout)          (None, 256)               0         \n",
      "_________________________________________________________________\n",
      "dense_2 (Dense)              (None, 128)               32896     \n",
      "_________________________________________________________________\n",
      "batch_normalization_3 (Batch (None, 128)               512       \n",
      "_________________________________________________________________\n",
      "dropout_2 (Dropout)          (None, 128)               0         \n",
      "_________________________________________________________________\n",
      "dense_3 (Dense)              (None, 64)                8256      \n",
      "_________________________________________________________________\n",
      "batch_normalization_4 (Batch (None, 64)                256       \n",
      "_________________________________________________________________\n",
      "dropout_3 (Dropout)          (None, 64)                0         \n",
      "_________________________________________________________________\n",
      "dense_4 (Dense)              (None, 1)                 65        \n",
      "=================================================================\n",
      "Total params: 193,925\n",
      "Trainable params: 191,939\n",
      "Non-trainable params: 1,986\n",
      "_________________________________________________________________\n"
     ]
    }
   ],
   "source": [
    "model.summary()"
   ]
  },
  {
   "cell_type": "markdown",
   "id": "51ae0f5e",
   "metadata": {
    "papermill": {
     "duration": 0.005285,
     "end_time": "2022-07-22T10:30:50.974957",
     "exception": false,
     "start_time": "2022-07-22T10:30:50.969672",
     "status": "completed"
    },
    "tags": []
   },
   "source": [
    "## Fitting the model "
   ]
  },
  {
   "cell_type": "code",
   "execution_count": 8,
   "id": "75471cb8",
   "metadata": {
    "execution": {
     "iopub.execute_input": "2022-07-22T10:30:50.988286Z",
     "iopub.status.busy": "2022-07-22T10:30:50.987761Z",
     "iopub.status.idle": "2022-07-22T10:30:56.316485Z",
     "shell.execute_reply": "2022-07-22T10:30:56.315402Z"
    },
    "papermill": {
     "duration": 5.338355,
     "end_time": "2022-07-22T10:30:56.319067",
     "exception": false,
     "start_time": "2022-07-22T10:30:50.980712",
     "status": "completed"
    },
    "tags": []
   },
   "outputs": [
    {
     "name": "stderr",
     "output_type": "stream",
     "text": [
      "2022-07-22 10:30:51.095723: I tensorflow/compiler/mlir/mlir_graph_optimization_pass.cc:185] None of the MLIR Optimization Passes are enabled (registered 2)\n"
     ]
    }
   ],
   "source": [
    "history = model.fit(\n",
    "    X_train, y_train,\n",
    "    validation_data=(X_valid, y_valid),\n",
    "    batch_size=512,\n",
    "    epochs=1000,\n",
    "    callbacks=[early_stopping],\n",
    "    verbose=0,  # hide the output because we have so many epochs\n",
    ")"
   ]
  },
  {
   "cell_type": "markdown",
   "id": "71460e3d",
   "metadata": {
    "papermill": {
     "duration": 0.005174,
     "end_time": "2022-07-22T10:30:56.330080",
     "exception": false,
     "start_time": "2022-07-22T10:30:56.324906",
     "status": "completed"
    },
    "tags": []
   },
   "source": [
    "## Visulizing the model paramaters, and ploting loss and accuracy "
   ]
  },
  {
   "cell_type": "code",
   "execution_count": 9,
   "id": "5ee2373d",
   "metadata": {
    "execution": {
     "iopub.execute_input": "2022-07-22T10:30:56.342601Z",
     "iopub.status.busy": "2022-07-22T10:30:56.342225Z",
     "iopub.status.idle": "2022-07-22T10:30:57.123901Z",
     "shell.execute_reply": "2022-07-22T10:30:57.122750Z"
    },
    "papermill": {
     "duration": 0.791186,
     "end_time": "2022-07-22T10:30:57.126709",
     "exception": false,
     "start_time": "2022-07-22T10:30:56.335523",
     "status": "completed"
    },
    "tags": []
   },
   "outputs": [
    {
     "name": "stdout",
     "output_type": "stream",
     "text": [
      "Best Validation Loss: 0.6007\n",
      "Best Validation Accuracy: 0.7048\n"
     ]
    },
    {
     "data": {
      "text/plain": [
       "<AxesSubplot:title={'center':'Accuracy'}>"
      ]
     },
     "execution_count": 9,
     "metadata": {},
     "output_type": "execute_result"
    },
    {
     "data": {
      "image/png": "[encoded data removed]",
      "text/plain": [
       "<Figure size 432x288 with 1 Axes>"
      ]
     },
     "metadata": {
      "needs_background": "light"
     },
     "output_type": "display_data"
    },
    {
     "data": {
      "image/png": "[encoded data removed]",
      "text/plain": [
       "<Figure size 432x288 with 1 Axes>"
      ]
     },
     "metadata": {
      "needs_background": "light"
     },
     "output_type": "display_data"
    },
    {
     "data": {
      "image/png": "[encoded data removed]",
      "text/plain": [
       "<Figure size 432x288 with 1 Axes>"
      ]
     },
     "metadata": {
      "needs_background": "light"
     },
     "output_type": "display_data"
    },
    {
     "data": {
      "image/png": "[encoded data removed]",
      "text/plain": [
       "<Figure size 432x288 with 1 Axes>"
      ]
     },
     "metadata": {
      "needs_background": "light"
     },
     "output_type": "display_data"
    }
   ],
   "source": [
    "history_df = pd.DataFrame(history.history)\n",
    "# Start the plot at epoch 5\n",
    "history_df.loc[5:, ['loss', 'val_loss']].plot()\n",
    "history_df.loc[5:, ['binary_accuracy', 'val_binary_accuracy']].plot()\n",
    "\n",
    "print((\"Best Validation Loss: {:0.4f}\" + \\\n",
    "       \"\\nBest Validation Accuracy: {:0.4f}\") \\\n",
    "      .format(history_df['val_loss'].min(),\n",
    "              history_df['val_binary_accuracy'].max()))\n",
    "\n",
    "history_df = pd.DataFrame(history.history)\n",
    "history_df.loc[:, ['loss', 'val_loss']].plot(title=\"Cross-entropy\")\n",
    "history_df.loc[:, ['binary_accuracy', 'val_binary_accuracy']].plot(title=\"Accuracy\")"
   ]
  }
 ],
 "metadata": {
  "kernelspec": {
   "display_name": "Python 3",
   "language": "python",
   "name": "python3"
  },
  "language_info": {
   "codemirror_mode": {
    "name": "ipython",
    "version": 3
   },
   "file_extension": ".py",
   "mimetype": "text/x-python",
   "name": "python",
   "nbconvert_exporter": "python",
   "pygments_lexer": "ipython3",
   "version": "3.7.12"
  },
  "papermill": {
   "default_parameters": {},
   "duration": 29.711408,
   "end_time": "2022-07-22T10:31:00.235936",
   "environment_variables": {},
   "exception": null,
   "input_path": "__notebook__.ipynb",
   "output_path": "__notebook__.ipynb",
   "parameters": {},
   "start_time": "2022-07-22T10:30:30.524528",
   "version": "2.3.4"
  }
 },
 "nbformat": 4,
 "nbformat_minor": 5
}
