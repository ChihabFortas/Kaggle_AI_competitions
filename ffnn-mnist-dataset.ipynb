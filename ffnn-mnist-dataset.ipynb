{
 "cells": [
  {
   "cell_type": "code",
   "execution_count": 1,
   "id": "bb6802d4",
   "metadata": {
    "_cell_guid": "b1076dfc-b9ad-4769-8c92-a6c4dae69d19",
    "_uuid": "8f2839f25d086af736a60e9eeb907d3b93b6e0e5",
    "execution": {
     "iopub.execute_input": "2022-07-26T22:58:55.414905Z",
     "iopub.status.busy": "2022-07-26T22:58:55.414221Z",
     "iopub.status.idle": "2022-07-26T22:58:55.425434Z",
     "shell.execute_reply": "2022-07-26T22:58:55.424633Z"
    },
    "papermill": {
     "duration": 0.022224,
     "end_time": "2022-07-26T22:58:55.427573",
     "exception": false,
     "start_time": "2022-07-26T22:58:55.405349",
     "status": "completed"
    },
    "tags": []
   },
   "outputs": [],
   "source": [
    "# This Python 3 environment comes with many helpful analytics libraries installed\n",
    "# It is defined by the kaggle/python Docker image: https://github.com/kaggle/docker-python\n",
    "# For example, here's several helpful packages to load\n",
    "\n",
    "import numpy as np # linear algebra\n",
    "import pandas as pd # data processing, CSV file I/O (e.g. pd.read_csv)\n",
    "\n",
    "# Input data files are available in the read-only \"../input/\" directory\n",
    "# For example, running this (by clicking run or pressing Shift+Enter) will list all files under the input directory\n",
    "\n",
    "import os\n",
    "for dirname, _, filenames in os.walk('/kaggle/input'):\n",
    "    for filename in filenames:\n",
    "        print(os.path.join(dirname, filename))\n",
    "\n",
    "# You can write up to 20GB to the current directory (/kaggle/working/) that gets preserved as output when you create a version using \"Save & Run All\" \n",
    "# You can also write temporary files to /kaggle/temp/, but they won't be saved outside of the current session"
   ]
  },
  {
   "cell_type": "markdown",
   "id": "cf4242b6",
   "metadata": {
    "papermill": {
     "duration": 0.005924,
     "end_time": "2022-07-26T22:58:55.440111",
     "exception": false,
     "start_time": "2022-07-26T22:58:55.434187",
     "status": "completed"
    },
    "tags": []
   },
   "source": [
    "## Basic classification: Classify images of clothing"
   ]
  },
  {
   "cell_type": "code",
   "execution_count": 2,
   "id": "4f75b5bf",
   "metadata": {
    "execution": {
     "iopub.execute_input": "2022-07-26T22:58:55.454151Z",
     "iopub.status.busy": "2022-07-26T22:58:55.453824Z",
     "iopub.status.idle": "2022-07-26T22:59:00.430854Z",
     "shell.execute_reply": "2022-07-26T22:59:00.429693Z"
    },
    "papermill": {
     "duration": 4.987542,
     "end_time": "2022-07-26T22:59:00.433871",
     "exception": false,
     "start_time": "2022-07-26T22:58:55.446329",
     "status": "completed"
    },
    "tags": []
   },
   "outputs": [
    {
     "name": "stdout",
     "output_type": "stream",
     "text": [
      "2.6.4\n"
     ]
    }
   ],
   "source": [
    "# TensorFlow and tf.keras\n",
    "import tensorflow as tf\n",
    "\n",
    "# Helper libraries\n",
    "import matplotlib.pyplot as plt\n",
    "\n",
    "print(tf.__version__)"
   ]
  },
  {
   "cell_type": "markdown",
   "id": "693049ee",
   "metadata": {
    "papermill": {
     "duration": 0.007837,
     "end_time": "2022-07-26T22:59:00.449969",
     "exception": false,
     "start_time": "2022-07-26T22:59:00.442132",
     "status": "completed"
    },
    "tags": []
   },
   "source": [
    "## Import the Fashion MNIST dataset"
   ]
  },
  {
   "cell_type": "code",
   "execution_count": 3,
   "id": "3da1e2a7",
   "metadata": {
    "execution": {
     "iopub.execute_input": "2022-07-26T22:59:00.464841Z",
     "iopub.status.busy": "2022-07-26T22:59:00.463908Z",
     "iopub.status.idle": "2022-07-26T22:59:03.642558Z",
     "shell.execute_reply": "2022-07-26T22:59:03.641360Z"
    },
    "papermill": {
     "duration": 3.188993,
     "end_time": "2022-07-26T22:59:03.645344",
     "exception": false,
     "start_time": "2022-07-26T22:59:00.456351",
     "status": "completed"
    },
    "tags": []
   },
   "outputs": [
    {
     "name": "stdout",
     "output_type": "stream",
     "text": [
      "Downloading data from https://storage.googleapis.com/tensorflow/tf-keras-datasets/train-labels-idx1-ubyte.gz\n",
      "32768/29515 [=================================] - 0s 0us/step\n",
      "40960/29515 [=========================================] - 0s 0us/step\n",
      "Downloading data from https://storage.googleapis.com/tensorflow/tf-keras-datasets/train-images-idx3-ubyte.gz\n",
      "26427392/26421880 [==============================] - 0s 0us/step\n",
      "26435584/26421880 [==============================] - 0s 0us/step\n",
      "Downloading data from https://storage.googleapis.com/tensorflow/tf-keras-datasets/t10k-labels-idx1-ubyte.gz\n",
      "16384/5148 [===============================================================================================] - 0s 0us/step\n",
      "Downloading data from https://storage.googleapis.com/tensorflow/tf-keras-datasets/t10k-images-idx3-ubyte.gz\n",
      "4423680/4422102 [==============================] - 0s 0us/step\n",
      "4431872/4422102 [==============================] - 0s 0us/step\n"
     ]
    }
   ],
   "source": [
    "fashion_mnist = tf.keras.datasets.fashion_mnist\n",
    "\n",
    "(train_images, train_labels), (test_images, test_labels) = fashion_mnist.load_data()"
   ]
  },
  {
   "cell_type": "markdown",
   "id": "667fa06c",
   "metadata": {
    "papermill": {
     "duration": 0.007656,
     "end_time": "2022-07-26T22:59:03.660521",
     "exception": false,
     "start_time": "2022-07-26T22:59:03.652865",
     "status": "completed"
    },
    "tags": []
   },
   "source": [
    "#### Each image is mapped to a single label. Since the class names are not included with the dataset, store them here to use later when plotting the images:"
   ]
  },
  {
   "cell_type": "code",
   "execution_count": 4,
   "id": "e36d9679",
   "metadata": {
    "execution": {
     "iopub.execute_input": "2022-07-26T22:59:03.677607Z",
     "iopub.status.busy": "2022-07-26T22:59:03.676649Z",
     "iopub.status.idle": "2022-07-26T22:59:03.681670Z",
     "shell.execute_reply": "2022-07-26T22:59:03.680966Z"
    },
    "papermill": {
     "duration": 0.015631,
     "end_time": "2022-07-26T22:59:03.683755",
     "exception": false,
     "start_time": "2022-07-26T22:59:03.668124",
     "status": "completed"
    },
    "tags": []
   },
   "outputs": [],
   "source": [
    "class_names = ['T-shirt/top', 'Trouser', 'Pullover', 'Dress', 'Coat',\n",
    "               'Sandal', 'Shirt', 'Sneaker', 'Bag', 'Ankle boot']"
   ]
  },
  {
   "cell_type": "markdown",
   "id": "5c70e95d",
   "metadata": {
    "papermill": {
     "duration": 0.006991,
     "end_time": "2022-07-26T22:59:03.699047",
     "exception": false,
     "start_time": "2022-07-26T22:59:03.692056",
     "status": "completed"
    },
    "tags": []
   },
   "source": [
    "## Explore the data"
   ]
  },
  {
   "cell_type": "code",
   "execution_count": 5,
   "id": "ec6430a7",
   "metadata": {
    "execution": {
     "iopub.execute_input": "2022-07-26T22:59:03.715471Z",
     "iopub.status.busy": "2022-07-26T22:59:03.714675Z",
     "iopub.status.idle": "2022-07-26T22:59:03.722172Z",
     "shell.execute_reply": "2022-07-26T22:59:03.720944Z"
    },
    "papermill": {
     "duration": 0.017798,
     "end_time": "2022-07-26T22:59:03.724129",
     "exception": false,
     "start_time": "2022-07-26T22:59:03.706331",
     "status": "completed"
    },
    "tags": []
   },
   "outputs": [
    {
     "name": "stdout",
     "output_type": "stream",
     "text": [
      "train_images shape: (60000, 28, 28)\n",
      "length of train_labels: 60000\n",
      "overview of train_labels [9 0 0 ... 3 0 5]\n",
      "test_images shape: (10000, 28, 28)\n",
      "overview of test_labels 10000\n"
     ]
    }
   ],
   "source": [
    "print(\"train_images shape:\",train_images.shape)\n",
    "print(\"length of train_labels:\",len(train_labels))\n",
    "print(\"overview of train_labels\",train_labels)\n",
    "print(\"test_images shape:\",test_images.shape)\n",
    "print(\"overview of test_labels\",len(test_labels))"
   ]
  },
  {
   "cell_type": "markdown",
   "id": "4cdb65bc",
   "metadata": {
    "papermill": {
     "duration": 0.007153,
     "end_time": "2022-07-26T22:59:03.738684",
     "exception": false,
     "start_time": "2022-07-26T22:59:03.731531",
     "status": "completed"
    },
    "tags": []
   },
   "source": [
    "## Preprocess the data"
   ]
  },
  {
   "cell_type": "code",
   "execution_count": 6,
   "id": "656ca307",
   "metadata": {
    "execution": {
     "iopub.execute_input": "2022-07-26T22:59:03.755240Z",
     "iopub.status.busy": "2022-07-26T22:59:03.754865Z",
     "iopub.status.idle": "2022-07-26T22:59:04.010167Z",
     "shell.execute_reply": "2022-07-26T22:59:04.009118Z"
    },
    "papermill": {
     "duration": 0.266502,
     "end_time": "2022-07-26T22:59:04.012635",
     "exception": false,
     "start_time": "2022-07-26T22:59:03.746133",
     "status": "completed"
    },
    "tags": []
   },
   "outputs": [
    {
     "data": {
      "image/png": "[encoded data removed]",
      "text/plain": [
       "<Figure size 432x288 with 2 Axes>"
      ]
     },
     "metadata": {
      "needs_background": "light"
     },
     "output_type": "display_data"
    }
   ],
   "source": [
    "plt.figure()\n",
    "plt.imshow(train_images[0])\n",
    "plt.colorbar()\n",
    "plt.grid(False)\n",
    "plt.show()"
   ]
  },
  {
   "cell_type": "code",
   "execution_count": 7,
   "id": "3d445ae7",
   "metadata": {
    "execution": {
     "iopub.execute_input": "2022-07-26T22:59:04.029966Z",
     "iopub.status.busy": "2022-07-26T22:59:04.029175Z",
     "iopub.status.idle": "2022-07-26T22:59:04.218589Z",
     "shell.execute_reply": "2022-07-26T22:59:04.217319Z"
    },
    "papermill": {
     "duration": 0.200653,
     "end_time": "2022-07-26T22:59:04.221004",
     "exception": false,
     "start_time": "2022-07-26T22:59:04.020351",
     "status": "completed"
    },
    "tags": []
   },
   "outputs": [],
   "source": [
    "train_images = train_images / 255.0\n",
    "\n",
    "test_images = test_images / 255.0"
   ]
  },
  {
   "cell_type": "code",
   "execution_count": 8,
   "id": "6bc3457f",
   "metadata": {
    "execution": {
     "iopub.execute_input": "2022-07-26T22:59:04.238860Z",
     "iopub.status.busy": "2022-07-26T22:59:04.237776Z",
     "iopub.status.idle": "2022-07-26T22:59:05.271939Z",
     "shell.execute_reply": "2022-07-26T22:59:05.271144Z"
    },
    "papermill": {
     "duration": 1.04515,
     "end_time": "2022-07-26T22:59:05.273884",
     "exception": false,
     "start_time": "2022-07-26T22:59:04.228734",
     "status": "completed"
    },
    "tags": []
   },
   "outputs": [
    {
     "data": {
      "image/png": "[encoded data removed]",
      "text/plain": [
       "<Figure size 720x720 with 25 Axes>"
      ]
     },
     "metadata": {},
     "output_type": "display_data"
    }
   ],
   "source": [
    "plt.figure(figsize=(10,10))\n",
    "for i in range(25):\n",
    "    plt.subplot(5,5,i+1)\n",
    "    plt.xticks([])\n",
    "    plt.yticks([])\n",
    "    plt.grid(False)\n",
    "    plt.imshow(train_images[i], cmap=plt.cm.binary)\n",
    "    plt.xlabel(class_names[train_labels[i]])\n",
    "plt.show()"
   ]
  },
  {
   "cell_type": "markdown",
   "id": "45b9613a",
   "metadata": {
    "papermill": {
     "duration": 0.008047,
     "end_time": "2022-07-26T22:59:05.290396",
     "exception": false,
     "start_time": "2022-07-26T22:59:05.282349",
     "status": "completed"
    },
    "tags": []
   },
   "source": [
    "## Build the model"
   ]
  },
  {
   "cell_type": "code",
   "execution_count": 9,
   "id": "ea73e158",
   "metadata": {
    "execution": {
     "iopub.execute_input": "2022-07-26T22:59:05.308728Z",
     "iopub.status.busy": "2022-07-26T22:59:05.308144Z",
     "iopub.status.idle": "2022-07-26T22:59:05.416746Z",
     "shell.execute_reply": "2022-07-26T22:59:05.415522Z"
    },
    "papermill": {
     "duration": 0.121539,
     "end_time": "2022-07-26T22:59:05.420180",
     "exception": false,
     "start_time": "2022-07-26T22:59:05.298641",
     "status": "completed"
    },
    "tags": []
   },
   "outputs": [
    {
     "name": "stderr",
     "output_type": "stream",
     "text": [
      "2022-07-26 22:59:05.348654: I tensorflow/core/common_runtime/process_util.cc:146] Creating new thread pool with default inter op setting: 2. Tune using inter_op_parallelism_threads for best performance.\n"
     ]
    }
   ],
   "source": [
    "model = tf.keras.Sequential([\n",
    "    tf.keras.layers.Flatten(input_shape=(28, 28)),\n",
    "    tf.keras.layers.Dense(128, activation='relu'),\n",
    "    tf.keras.layers.Dense(10)\n",
    "])"
   ]
  },
  {
   "cell_type": "markdown",
   "id": "47b534ce",
   "metadata": {
    "papermill": {
     "duration": 0.008388,
     "end_time": "2022-07-26T22:59:05.438145",
     "exception": false,
     "start_time": "2022-07-26T22:59:05.429757",
     "status": "completed"
    },
    "tags": []
   },
   "source": [
    "## Compile the model"
   ]
  },
  {
   "cell_type": "code",
   "execution_count": 10,
   "id": "26740199",
   "metadata": {
    "execution": {
     "iopub.execute_input": "2022-07-26T22:59:05.462497Z",
     "iopub.status.busy": "2022-07-26T22:59:05.462132Z",
     "iopub.status.idle": "2022-07-26T22:59:05.476246Z",
     "shell.execute_reply": "2022-07-26T22:59:05.475409Z"
    },
    "papermill": {
     "duration": 0.02719,
     "end_time": "2022-07-26T22:59:05.478517",
     "exception": false,
     "start_time": "2022-07-26T22:59:05.451327",
     "status": "completed"
    },
    "tags": []
   },
   "outputs": [],
   "source": [
    "model.compile(optimizer='adam',\n",
    "              loss=tf.keras.losses.SparseCategoricalCrossentropy(from_logits=True),\n",
    "              metrics=['accuracy'])"
   ]
  },
  {
   "cell_type": "markdown",
   "id": "847955e9",
   "metadata": {
    "papermill": {
     "duration": 0.008478,
     "end_time": "2022-07-26T22:59:05.495665",
     "exception": false,
     "start_time": "2022-07-26T22:59:05.487187",
     "status": "completed"
    },
    "tags": []
   },
   "source": [
    "## Train the model"
   ]
  },
  {
   "cell_type": "code",
   "execution_count": 11,
   "id": "f0c5d778",
   "metadata": {
    "execution": {
     "iopub.execute_input": "2022-07-26T22:59:05.514225Z",
     "iopub.status.busy": "2022-07-26T22:59:05.513880Z",
     "iopub.status.idle": "2022-07-26T22:59:39.267584Z",
     "shell.execute_reply": "2022-07-26T22:59:39.266731Z"
    },
    "papermill": {
     "duration": 33.765745,
     "end_time": "2022-07-26T22:59:39.269941",
     "exception": false,
     "start_time": "2022-07-26T22:59:05.504196",
     "status": "completed"
    },
    "tags": []
   },
   "outputs": [
    {
     "name": "stderr",
     "output_type": "stream",
     "text": [
      "2022-07-26 22:59:05.857663: I tensorflow/compiler/mlir/mlir_graph_optimization_pass.cc:185] None of the MLIR Optimization Passes are enabled (registered 2)\n"
     ]
    },
    {
     "name": "stdout",
     "output_type": "stream",
     "text": [
      "Epoch 1/10\n",
      "1875/1875 [==============================] - 4s 2ms/step - loss: 0.4978 - accuracy: 0.8260\n",
      "Epoch 2/10\n",
      "1875/1875 [==============================] - 3s 2ms/step - loss: 0.3741 - accuracy: 0.8645\n",
      "Epoch 3/10\n",
      "1875/1875 [==============================] - 3s 2ms/step - loss: 0.3354 - accuracy: 0.8775\n",
      "Epoch 4/10\n",
      "1875/1875 [==============================] - 3s 2ms/step - loss: 0.3122 - accuracy: 0.8853\n",
      "Epoch 5/10\n",
      "1875/1875 [==============================] - 4s 2ms/step - loss: 0.2943 - accuracy: 0.8913\n",
      "Epoch 6/10\n",
      "1875/1875 [==============================] - 3s 2ms/step - loss: 0.2801 - accuracy: 0.8967\n",
      "Epoch 7/10\n",
      "1875/1875 [==============================] - 3s 2ms/step - loss: 0.2660 - accuracy: 0.9016\n",
      "Epoch 8/10\n",
      "1875/1875 [==============================] - 3s 2ms/step - loss: 0.2557 - accuracy: 0.9046\n",
      "Epoch 9/10\n",
      "1875/1875 [==============================] - 3s 2ms/step - loss: 0.2466 - accuracy: 0.9087\n",
      "Epoch 10/10\n",
      "1875/1875 [==============================] - 3s 2ms/step - loss: 0.2376 - accuracy: 0.9118\n"
     ]
    },
    {
     "data": {
      "text/plain": [
       "<keras.callbacks.History at 0x7ff9b5ab7d10>"
      ]
     },
     "execution_count": 11,
     "metadata": {},
     "output_type": "execute_result"
    }
   ],
   "source": [
    "model.fit(train_images, train_labels, epochs=10)"
   ]
  },
  {
   "cell_type": "markdown",
   "id": "73beee8d",
   "metadata": {
    "papermill": {
     "duration": 0.040518,
     "end_time": "2022-07-26T22:59:39.351070",
     "exception": false,
     "start_time": "2022-07-26T22:59:39.310552",
     "status": "completed"
    },
    "tags": []
   },
   "source": [
    "## Evaluate accuracy"
   ]
  },
  {
   "cell_type": "code",
   "execution_count": 12,
   "id": "ee74fc1c",
   "metadata": {
    "execution": {
     "iopub.execute_input": "2022-07-26T22:59:39.433982Z",
     "iopub.status.busy": "2022-07-26T22:59:39.433591Z",
     "iopub.status.idle": "2022-07-26T22:59:39.986209Z",
     "shell.execute_reply": "2022-07-26T22:59:39.984756Z"
    },
    "papermill": {
     "duration": 0.596967,
     "end_time": "2022-07-26T22:59:39.988562",
     "exception": false,
     "start_time": "2022-07-26T22:59:39.391595",
     "status": "completed"
    },
    "tags": []
   },
   "outputs": [
    {
     "name": "stdout",
     "output_type": "stream",
     "text": [
      "313/313 - 0s - loss: 0.3338 - accuracy: 0.8870\n",
      "\n",
      "Test accuracy: 0.8870000243186951\n"
     ]
    }
   ],
   "source": [
    "test_loss, test_acc = model.evaluate(test_images,  test_labels, verbose=2)\n",
    "\n",
    "print('\\nTest accuracy:', test_acc)"
   ]
  },
  {
   "cell_type": "markdown",
   "id": "de5f4d7b",
   "metadata": {
    "papermill": {
     "duration": 0.039944,
     "end_time": "2022-07-26T22:59:40.070081",
     "exception": false,
     "start_time": "2022-07-26T22:59:40.030137",
     "status": "completed"
    },
    "tags": []
   },
   "source": [
    "## Make predictions"
   ]
  },
  {
   "cell_type": "code",
   "execution_count": 13,
   "id": "b723560b",
   "metadata": {
    "execution": {
     "iopub.execute_input": "2022-07-26T22:59:40.151570Z",
     "iopub.status.busy": "2022-07-26T22:59:40.151185Z",
     "iopub.status.idle": "2022-07-26T22:59:40.170733Z",
     "shell.execute_reply": "2022-07-26T22:59:40.169871Z"
    },
    "papermill": {
     "duration": 0.062865,
     "end_time": "2022-07-26T22:59:40.172912",
     "exception": false,
     "start_time": "2022-07-26T22:59:40.110047",
     "status": "completed"
    },
    "tags": []
   },
   "outputs": [],
   "source": [
    "probability_model = tf.keras.Sequential([model, \n",
    "                                         tf.keras.layers.Softmax()])"
   ]
  },
  {
   "cell_type": "code",
   "execution_count": 14,
   "id": "d0455064",
   "metadata": {
    "execution": {
     "iopub.execute_input": "2022-07-26T22:59:40.257256Z",
     "iopub.status.busy": "2022-07-26T22:59:40.256118Z",
     "iopub.status.idle": "2022-07-26T22:59:40.654134Z",
     "shell.execute_reply": "2022-07-26T22:59:40.653172Z"
    },
    "papermill": {
     "duration": 0.443499,
     "end_time": "2022-07-26T22:59:40.656581",
     "exception": false,
     "start_time": "2022-07-26T22:59:40.213082",
     "status": "completed"
    },
    "tags": []
   },
   "outputs": [],
   "source": [
    "predictions = probability_model.predict(test_images)"
   ]
  },
  {
   "cell_type": "code",
   "execution_count": 15,
   "id": "b4532e9f",
   "metadata": {
    "execution": {
     "iopub.execute_input": "2022-07-26T22:59:40.740022Z",
     "iopub.status.busy": "2022-07-26T22:59:40.739252Z",
     "iopub.status.idle": "2022-07-26T22:59:40.746424Z",
     "shell.execute_reply": "2022-07-26T22:59:40.745462Z"
    },
    "papermill": {
     "duration": 0.050999,
     "end_time": "2022-07-26T22:59:40.748660",
     "exception": false,
     "start_time": "2022-07-26T22:59:40.697661",
     "status": "completed"
    },
    "tags": []
   },
   "outputs": [
    {
     "data": {
      "text/plain": [
       "array([2.6105658e-06, 8.0795850e-09, 4.2237351e-09, 8.8598412e-08,\n",
       "       1.3606808e-06, 2.9186861e-04, 5.1976326e-07, 6.4874388e-02,\n",
       "       1.6547746e-06, 9.3482751e-01], dtype=float32)"
      ]
     },
     "execution_count": 15,
     "metadata": {},
     "output_type": "execute_result"
    }
   ],
   "source": [
    "predictions[0]"
   ]
  },
  {
   "cell_type": "code",
   "execution_count": 16,
   "id": "748c023a",
   "metadata": {
    "execution": {
     "iopub.execute_input": "2022-07-26T22:59:40.831012Z",
     "iopub.status.busy": "2022-07-26T22:59:40.830643Z",
     "iopub.status.idle": "2022-07-26T22:59:40.835636Z",
     "shell.execute_reply": "2022-07-26T22:59:40.834939Z"
    },
    "papermill": {
     "duration": 0.048455,
     "end_time": "2022-07-26T22:59:40.837605",
     "exception": false,
     "start_time": "2022-07-26T22:59:40.789150",
     "status": "completed"
    },
    "tags": []
   },
   "outputs": [
    {
     "data": {
      "text/plain": [
       "9"
      ]
     },
     "execution_count": 16,
     "metadata": {},
     "output_type": "execute_result"
    }
   ],
   "source": [
    "np.argmax(predictions[0])"
   ]
  },
  {
   "cell_type": "code",
   "execution_count": 17,
   "id": "1463bcf7",
   "metadata": {
    "execution": {
     "iopub.execute_input": "2022-07-26T22:59:40.921067Z",
     "iopub.status.busy": "2022-07-26T22:59:40.920376Z",
     "iopub.status.idle": "2022-07-26T22:59:40.929306Z",
     "shell.execute_reply": "2022-07-26T22:59:40.928197Z"
    },
    "papermill": {
     "duration": 0.0528,
     "end_time": "2022-07-26T22:59:40.931681",
     "exception": false,
     "start_time": "2022-07-26T22:59:40.878881",
     "status": "completed"
    },
    "tags": []
   },
   "outputs": [],
   "source": [
    "def plot_image(i, predictions_array, true_label, img):\n",
    "    true_label, img = true_label[i], img[i]\n",
    "    plt.grid(False)\n",
    "    plt.xticks([])\n",
    "    plt.yticks([])\n",
    "\n",
    "    plt.imshow(img, cmap=plt.cm.binary)\n",
    "\n",
    "    predicted_label = np.argmax(predictions_array)\n",
    "    if predicted_label == true_label:\n",
    "        color = 'blue'\n",
    "    else:\n",
    "        color = 'red'\n",
    "\n",
    "    plt.xlabel(\"{} {:2.0f}% ({})\".format(class_names[predicted_label],\n",
    "                                100*np.max(predictions_array),\n",
    "                                class_names[true_label]),\n",
    "                                color=color)\n",
    "\n",
    "def plot_value_array(i, predictions_array, true_label):\n",
    "    true_label = true_label[i]\n",
    "    plt.grid(False)\n",
    "    plt.xticks(range(10))\n",
    "    plt.yticks([])\n",
    "    thisplot = plt.bar(range(10), predictions_array, color=\"#777777\")\n",
    "    plt.ylim([0, 1])\n",
    "    predicted_label = np.argmax(predictions_array)\n",
    "\n",
    "    thisplot[predicted_label].set_color('red')\n",
    "    thisplot[true_label].set_color('blue')"
   ]
  },
  {
   "cell_type": "markdown",
   "id": "838ec66d",
   "metadata": {
    "papermill": {
     "duration": 0.040153,
     "end_time": "2022-07-26T22:59:41.012183",
     "exception": false,
     "start_time": "2022-07-26T22:59:40.972030",
     "status": "completed"
    },
    "tags": []
   },
   "source": [
    "## Verify predictions"
   ]
  },
  {
   "cell_type": "code",
   "execution_count": 18,
   "id": "d4072209",
   "metadata": {
    "execution": {
     "iopub.execute_input": "2022-07-26T22:59:41.095395Z",
     "iopub.status.busy": "2022-07-26T22:59:41.095028Z",
     "iopub.status.idle": "2022-07-26T22:59:41.257104Z",
     "shell.execute_reply": "2022-07-26T22:59:41.254999Z"
    },
    "papermill": {
     "duration": 0.208323,
     "end_time": "2022-07-26T22:59:41.261155",
     "exception": false,
     "start_time": "2022-07-26T22:59:41.052832",
     "status": "completed"
    },
    "tags": []
   },
   "outputs": [
    {
     "data": {
      "image/png": "[encoded data removed]",
      "text/plain": [
       "<Figure size 432x216 with 2 Axes>"
      ]
     },
     "metadata": {
      "needs_background": "light"
     },
     "output_type": "display_data"
    }
   ],
   "source": [
    "i = 0\n",
    "plt.figure(figsize=(6,3))\n",
    "plt.subplot(1,2,1)\n",
    "plot_image(i, predictions[i], test_labels, test_images)\n",
    "plt.subplot(1,2,2)\n",
    "plot_value_array(i, predictions[i],  test_labels)\n",
    "plt.show()"
   ]
  },
  {
   "cell_type": "code",
   "execution_count": 19,
   "id": "da74d5b2",
   "metadata": {
    "execution": {
     "iopub.execute_input": "2022-07-26T22:59:41.388220Z",
     "iopub.status.busy": "2022-07-26T22:59:41.387003Z",
     "iopub.status.idle": "2022-07-26T22:59:41.518667Z",
     "shell.execute_reply": "2022-07-26T22:59:41.517528Z"
    },
    "papermill": {
     "duration": 0.184149,
     "end_time": "2022-07-26T22:59:41.521056",
     "exception": false,
     "start_time": "2022-07-26T22:59:41.336907",
     "status": "completed"
    },
    "tags": []
   },
   "outputs": [
    {
     "data": {
      "image/png": "[encoded data removed]",
      "text/plain": [
       "<Figure size 432x216 with 2 Axes>"
      ]
     },
     "metadata": {
      "needs_background": "light"
     },
     "output_type": "display_data"
    }
   ],
   "source": [
    "i = 12\n",
    "plt.figure(figsize=(6,3))\n",
    "plt.subplot(1,2,1)\n",
    "plot_image(i, predictions[i], test_labels, test_images)\n",
    "plt.subplot(1,2,2)\n",
    "plot_value_array(i, predictions[i],  test_labels)\n",
    "plt.show()"
   ]
  },
  {
   "cell_type": "code",
   "execution_count": 20,
   "id": "5f091d33",
   "metadata": {
    "execution": {
     "iopub.execute_input": "2022-07-26T22:59:41.605411Z",
     "iopub.status.busy": "2022-07-26T22:59:41.604682Z",
     "iopub.status.idle": "2022-07-26T22:59:43.579746Z",
     "shell.execute_reply": "2022-07-26T22:59:43.578592Z"
    },
    "papermill": {
     "duration": 2.019993,
     "end_time": "2022-07-26T22:59:43.582351",
     "exception": false,
     "start_time": "2022-07-26T22:59:41.562358",
     "status": "completed"
    },
    "tags": []
   },
   "outputs": [
    {
     "data": {
      "image/png": "[encoded data removed]",
      "text/plain": [
       "<Figure size 864x720 with 30 Axes>"
      ]
     },
     "metadata": {
      "needs_background": "light"
     },
     "output_type": "display_data"
    }
   ],
   "source": [
    "# Plot the first X test images, their predicted labels, and the true labels.\n",
    "# Color correct predictions in blue and incorrect predictions in red.\n",
    "num_rows = 5\n",
    "num_cols = 3\n",
    "num_images = num_rows*num_cols\n",
    "plt.figure(figsize=(2*2*num_cols, 2*num_rows))\n",
    "for i in range(num_images):\n",
    "    plt.subplot(num_rows, 2*num_cols, 2*i+1)\n",
    "    plot_image(i, predictions[i], test_labels, test_images)\n",
    "    plt.subplot(num_rows, 2*num_cols, 2*i+2)\n",
    "    plot_value_array(i, predictions[i], test_labels)\n",
    "plt.tight_layout()\n",
    "plt.show()"
   ]
  },
  {
   "cell_type": "markdown",
   "id": "a1bc240b",
   "metadata": {
    "papermill": {
     "duration": 0.041095,
     "end_time": "2022-07-26T22:59:43.664615",
     "exception": false,
     "start_time": "2022-07-26T22:59:43.623520",
     "status": "completed"
    },
    "tags": []
   },
   "source": [
    "## Use the trained model"
   ]
  },
  {
   "cell_type": "code",
   "execution_count": 21,
   "id": "1294c293",
   "metadata": {
    "execution": {
     "iopub.execute_input": "2022-07-26T22:59:43.750173Z",
     "iopub.status.busy": "2022-07-26T22:59:43.749268Z",
     "iopub.status.idle": "2022-07-26T22:59:43.755435Z",
     "shell.execute_reply": "2022-07-26T22:59:43.754284Z"
    },
    "papermill": {
     "duration": 0.051188,
     "end_time": "2022-07-26T22:59:43.757735",
     "exception": false,
     "start_time": "2022-07-26T22:59:43.706547",
     "status": "completed"
    },
    "tags": []
   },
   "outputs": [
    {
     "name": "stdout",
     "output_type": "stream",
     "text": [
      "(28, 28)\n"
     ]
    }
   ],
   "source": [
    "# Grab an image from the test dataset.\n",
    "img = test_images[8]\n",
    "\n",
    "print(img.shape)"
   ]
  },
  {
   "cell_type": "code",
   "execution_count": 22,
   "id": "2c9b897c",
   "metadata": {
    "execution": {
     "iopub.execute_input": "2022-07-26T22:59:43.842861Z",
     "iopub.status.busy": "2022-07-26T22:59:43.842120Z",
     "iopub.status.idle": "2022-07-26T22:59:43.848522Z",
     "shell.execute_reply": "2022-07-26T22:59:43.847139Z"
    },
    "papermill": {
     "duration": 0.051969,
     "end_time": "2022-07-26T22:59:43.851260",
     "exception": false,
     "start_time": "2022-07-26T22:59:43.799291",
     "status": "completed"
    },
    "tags": []
   },
   "outputs": [
    {
     "name": "stdout",
     "output_type": "stream",
     "text": [
      "(1, 28, 28)\n"
     ]
    }
   ],
   "source": [
    "# Add the image to a batch where it's the only member.\n",
    "img = (np.expand_dims(img,0))\n",
    "\n",
    "print(img.shape)"
   ]
  },
  {
   "cell_type": "code",
   "execution_count": 23,
   "id": "9d202ad0",
   "metadata": {
    "execution": {
     "iopub.execute_input": "2022-07-26T22:59:43.938505Z",
     "iopub.status.busy": "2022-07-26T22:59:43.937329Z",
     "iopub.status.idle": "2022-07-26T22:59:43.995757Z",
     "shell.execute_reply": "2022-07-26T22:59:43.994197Z"
    },
    "papermill": {
     "duration": 0.104795,
     "end_time": "2022-07-26T22:59:43.998208",
     "exception": false,
     "start_time": "2022-07-26T22:59:43.893413",
     "status": "completed"
    },
    "tags": []
   },
   "outputs": [
    {
     "name": "stdout",
     "output_type": "stream",
     "text": [
      "[[3.1649346e-05 2.6787706e-08 1.6472538e-07 1.6865529e-08 7.4260043e-09\n",
      "  9.9995136e-01 1.0649826e-08 1.6432374e-05 3.4309329e-07 5.8921208e-11]]\n"
     ]
    }
   ],
   "source": [
    "predictions_single = probability_model.predict(img)\n",
    "\n",
    "print(predictions_single)"
   ]
  },
  {
   "cell_type": "code",
   "execution_count": 24,
   "id": "7ab9a178",
   "metadata": {
    "execution": {
     "iopub.execute_input": "2022-07-26T22:59:44.085447Z",
     "iopub.status.busy": "2022-07-26T22:59:44.085041Z",
     "iopub.status.idle": "2022-07-26T22:59:44.188878Z",
     "shell.execute_reply": "2022-07-26T22:59:44.188016Z"
    },
    "papermill": {
     "duration": 0.150251,
     "end_time": "2022-07-26T22:59:44.191216",
     "exception": false,
     "start_time": "2022-07-26T22:59:44.040965",
     "status": "completed"
    },
    "tags": []
   },
   "outputs": [
    {
     "data": {
      "image/png": "[encoded data removed]",
      "text/plain": [
       "<Figure size 432x288 with 1 Axes>"
      ]
     },
     "metadata": {
      "needs_background": "light"
     },
     "output_type": "display_data"
    }
   ],
   "source": [
    "plot_value_array(1, predictions_single[0], test_labels)\n",
    "_ = plt.xticks(range(10), class_names, rotation=45)\n",
    "plt.show()"
   ]
  },
  {
   "cell_type": "code",
   "execution_count": 25,
   "id": "54f75fec",
   "metadata": {
    "execution": {
     "iopub.execute_input": "2022-07-26T22:59:44.349915Z",
     "iopub.status.busy": "2022-07-26T22:59:44.348841Z",
     "iopub.status.idle": "2022-07-26T22:59:44.354929Z",
     "shell.execute_reply": "2022-07-26T22:59:44.354106Z"
    },
    "papermill": {
     "duration": 0.122289,
     "end_time": "2022-07-26T22:59:44.356734",
     "exception": false,
     "start_time": "2022-07-26T22:59:44.234445",
     "status": "completed"
    },
    "tags": []
   },
   "outputs": [
    {
     "data": {
      "text/plain": [
       "5"
      ]
     },
     "execution_count": 25,
     "metadata": {},
     "output_type": "execute_result"
    }
   ],
   "source": [
    "np.argmax(predictions_single[0])"
   ]
  }
 ],
 "metadata": {
  "kernelspec": {
   "display_name": "Python 3",
   "language": "python",
   "name": "python3"
  },
  "language_info": {
   "codemirror_mode": {
    "name": "ipython",
    "version": 3
   },
   "file_extension": ".py",
   "mimetype": "text/x-python",
   "name": "python",
   "nbconvert_exporter": "python",
   "pygments_lexer": "ipython3",
   "version": "3.7.12"
  },
  "papermill": {
   "default_parameters": {},
   "duration": 60.495936,
   "end_time": "2022-07-26T22:59:47.708634",
   "environment_variables": {},
   "exception": null,
   "input_path": "__notebook__.ipynb",
   "output_path": "__notebook__.ipynb",
   "parameters": {},
   "start_time": "2022-07-26T22:58:47.212698",
   "version": "2.3.4"
  }
 },
 "nbformat": 4,
 "nbformat_minor": 5
}
