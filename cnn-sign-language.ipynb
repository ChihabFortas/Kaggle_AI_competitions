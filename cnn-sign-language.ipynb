{
 "cells": [
  {
   "cell_type": "code",
   "execution_count": 1,
   "id": "7468ca7a",
   "metadata": {
    "_cell_guid": "b1076dfc-b9ad-4769-8c92-a6c4dae69d19",
    "_uuid": "8f2839f25d086af736a60e9eeb907d3b93b6e0e5",
    "execution": {
     "iopub.execute_input": "2022-08-06T21:15:24.490796Z",
     "iopub.status.busy": "2022-08-06T21:15:24.490327Z",
     "iopub.status.idle": "2022-08-06T21:15:24.520232Z",
     "shell.execute_reply": "2022-08-06T21:15:24.519181Z"
    },
    "papermill": {
     "duration": 0.041489,
     "end_time": "2022-08-06T21:15:24.522540",
     "exception": false,
     "start_time": "2022-08-06T21:15:24.481051",
     "status": "completed"
    },
    "tags": []
   },
   "outputs": [
    {
     "name": "stdout",
     "output_type": "stream",
     "text": [
      "/kaggle/input/sign-language-mnist/sign_mnist_test.csv\n",
      "/kaggle/input/sign-language-mnist/amer_sign2.png\n",
      "/kaggle/input/sign-language-mnist/amer_sign3.png\n",
      "/kaggle/input/sign-language-mnist/sign_mnist_train.csv\n",
      "/kaggle/input/sign-language-mnist/american_sign_language.PNG\n",
      "/kaggle/input/sign-language-mnist/sign_mnist_test/sign_mnist_test.csv\n",
      "/kaggle/input/sign-language-mnist/sign_mnist_train/sign_mnist_train.csv\n"
     ]
    }
   ],
   "source": [
    "# This Python 3 environment comes with many helpful analytics libraries installed\n",
    "# It is defined by the kaggle/python Docker image: https://github.com/kaggle/docker-python\n",
    "# For example, here's several helpful packages to load\n",
    "\n",
    "import numpy as np # linear algebra\n",
    "import pandas as pd # data processing, CSV file I/O (e.g. pd.read_csv)\n",
    "\n",
    "# Input data files are available in the read-only \"../input/\" directory\n",
    "# For example, running this (by clicking run or pressing Shift+Enter) will list all files under the input directory\n",
    "\n",
    "import os\n",
    "for dirname, _, filenames in os.walk('/kaggle/input'):\n",
    "    for filename in filenames:\n",
    "        print(os.path.join(dirname, filename))\n",
    "\n",
    "# You can write up to 20GB to the current directory (/kaggle/working/) that gets preserved as output when you create a version using \"Save & Run All\" \n",
    "# You can also write temporary files to /kaggle/temp/, but they won't be saved outside of the current session"
   ]
  },
  {
   "cell_type": "markdown",
   "id": "9df6fa1b",
   "metadata": {
    "papermill": {
     "duration": 0.003813,
     "end_time": "2022-08-06T21:15:24.530718",
     "exception": false,
     "start_time": "2022-08-06T21:15:24.526905",
     "status": "completed"
    },
    "tags": []
   },
   "source": [
    "# Imports required Library"
   ]
  },
  {
   "cell_type": "code",
   "execution_count": 2,
   "id": "0e0e8db8",
   "metadata": {
    "execution": {
     "iopub.execute_input": "2022-08-06T21:15:24.540154Z",
     "iopub.status.busy": "2022-08-06T21:15:24.539733Z",
     "iopub.status.idle": "2022-08-06T21:15:30.984553Z",
     "shell.execute_reply": "2022-08-06T21:15:30.983615Z"
    },
    "papermill": {
     "duration": 6.452782,
     "end_time": "2022-08-06T21:15:30.987284",
     "exception": false,
     "start_time": "2022-08-06T21:15:24.534502",
     "status": "completed"
    },
    "tags": []
   },
   "outputs": [],
   "source": [
    "import csv\n",
    "import numpy as np\n",
    "import tensorflow as tf\n",
    "from tensorflow.keras.preprocessing.image import ImageDataGenerator"
   ]
  },
  {
   "cell_type": "markdown",
   "id": "4fb681e4",
   "metadata": {
    "papermill": {
     "duration": 0.004289,
     "end_time": "2022-08-06T21:15:30.995862",
     "exception": false,
     "start_time": "2022-08-06T21:15:30.991573",
     "status": "completed"
    },
    "tags": []
   },
   "source": [
    "# a Helper function to import images and labels from .csv file"
   ]
  },
  {
   "cell_type": "code",
   "execution_count": 3,
   "id": "012511a7",
   "metadata": {
    "execution": {
     "iopub.execute_input": "2022-08-06T21:15:31.006056Z",
     "iopub.status.busy": "2022-08-06T21:15:31.005397Z",
     "iopub.status.idle": "2022-08-06T21:15:31.012818Z",
     "shell.execute_reply": "2022-08-06T21:15:31.011732Z"
    },
    "papermill": {
     "duration": 0.01514,
     "end_time": "2022-08-06T21:15:31.015157",
     "exception": false,
     "start_time": "2022-08-06T21:15:31.000017",
     "status": "completed"
    },
    "tags": []
   },
   "outputs": [],
   "source": [
    "def get_data(filename):\n",
    "    with open(filename) as training_file:\n",
    "        csv_reader = csv.reader(training_file, delimiter=',')\n",
    "        first_line = True\n",
    "        temp_images = []\n",
    "        temp_labels = []\n",
    "        for row in csv_reader:\n",
    "            if first_line:\n",
    "                # print(\"Ignoring first line\")\n",
    "                first_line = False\n",
    "            else:\n",
    "                temp_labels.append(row[0])\n",
    "                image_data = row[1:785]\n",
    "                image_data_as_array = np.array_split(image_data, 28)\n",
    "                temp_images.append(image_data_as_array)\n",
    "        images = np.array(temp_images).astype('float')\n",
    "        labels = np.array(temp_labels).astype('float')\n",
    "    return images, labels"
   ]
  },
  {
   "cell_type": "markdown",
   "id": "6062e2b8",
   "metadata": {
    "papermill": {
     "duration": 0.003869,
     "end_time": "2022-08-06T21:15:31.023203",
     "exception": false,
     "start_time": "2022-08-06T21:15:31.019334",
     "status": "completed"
    },
    "tags": []
   },
   "source": [
    "# Import data from the Sign language dataset"
   ]
  },
  {
   "cell_type": "code",
   "execution_count": 4,
   "id": "651c3326",
   "metadata": {
    "execution": {
     "iopub.execute_input": "2022-08-06T21:15:31.033163Z",
     "iopub.status.busy": "2022-08-06T21:15:31.032567Z",
     "iopub.status.idle": "2022-08-06T21:15:49.956861Z",
     "shell.execute_reply": "2022-08-06T21:15:49.955622Z"
    },
    "papermill": {
     "duration": 18.932578,
     "end_time": "2022-08-06T21:15:49.959602",
     "exception": false,
     "start_time": "2022-08-06T21:15:31.027024",
     "status": "completed"
    },
    "tags": []
   },
   "outputs": [
    {
     "name": "stdout",
     "output_type": "stream",
     "text": [
      "(27455, 28, 28)\n",
      "(27455,)\n",
      "(7172, 28, 28)\n",
      "(7172,)\n"
     ]
    }
   ],
   "source": [
    "train_csv = '../input/sign-language-mnist/sign_mnist_train/sign_mnist_train.csv'\n",
    "test_csv = '../input/sign-language-mnist/sign_mnist_test/sign_mnist_test.csv'\n",
    "training_images, training_labels = get_data(train_csv)\n",
    "testing_images, testing_labels = get_data(test_csv)\n",
    "\n",
    "print(training_images.shape)\n",
    "print(training_labels.shape)\n",
    "print(testing_images.shape)\n",
    "print(testing_labels.shape)"
   ]
  },
  {
   "cell_type": "markdown",
   "id": "8f63fb76",
   "metadata": {
    "papermill": {
     "duration": 0.003869,
     "end_time": "2022-08-06T21:15:49.967858",
     "exception": false,
     "start_time": "2022-08-06T21:15:49.963989",
     "status": "completed"
    },
    "tags": []
   },
   "source": [
    "# Create Data Generators from the images lists "
   ]
  },
  {
   "cell_type": "code",
   "execution_count": 5,
   "id": "f5f59e28",
   "metadata": {
    "execution": {
     "iopub.execute_input": "2022-08-06T21:15:49.978130Z",
     "iopub.status.busy": "2022-08-06T21:15:49.977469Z",
     "iopub.status.idle": "2022-08-06T21:15:49.985136Z",
     "shell.execute_reply": "2022-08-06T21:15:49.983979Z"
    },
    "papermill": {
     "duration": 0.015429,
     "end_time": "2022-08-06T21:15:49.987580",
     "exception": false,
     "start_time": "2022-08-06T21:15:49.972151",
     "status": "completed"
    },
    "tags": []
   },
   "outputs": [
    {
     "name": "stdout",
     "output_type": "stream",
     "text": [
      "(27455, 28, 28, 1)\n",
      "(7172, 28, 28, 1)\n"
     ]
    }
   ],
   "source": [
    "training_images = np.expand_dims(training_images, axis=3)\n",
    "testing_images = np.expand_dims(testing_images, axis=3)\n",
    "\n",
    "train_datagen = ImageDataGenerator(\n",
    "    rescale=1. / 255,\n",
    "    rotation_range=40,\n",
    "    width_shift_range=0.2,\n",
    "    height_shift_range=0.2,\n",
    "    shear_range=0.2,\n",
    "    zoom_range=0.2,\n",
    "    horizontal_flip=True,\n",
    "    fill_mode='nearest')\n",
    "\n",
    "validation_datagen = ImageDataGenerator(\n",
    "    rescale=1. / 255)\n",
    "\n",
    "print(training_images.shape)\n",
    "print(testing_images.shape)"
   ]
  },
  {
   "cell_type": "markdown",
   "id": "569af15f",
   "metadata": {
    "papermill": {
     "duration": 0.003984,
     "end_time": "2022-08-06T21:15:49.995911",
     "exception": false,
     "start_time": "2022-08-06T21:15:49.991927",
     "status": "completed"
    },
    "tags": []
   },
   "source": [
    "## Create the ML model and compile it with the appropriate Hyperparamaters"
   ]
  },
  {
   "cell_type": "code",
   "execution_count": 6,
   "id": "07fcbf04",
   "metadata": {
    "execution": {
     "iopub.execute_input": "2022-08-06T21:15:50.005658Z",
     "iopub.status.busy": "2022-08-06T21:15:50.005085Z",
     "iopub.status.idle": "2022-08-06T21:15:50.163854Z",
     "shell.execute_reply": "2022-08-06T21:15:50.162567Z"
    },
    "papermill": {
     "duration": 0.16664,
     "end_time": "2022-08-06T21:15:50.166519",
     "exception": false,
     "start_time": "2022-08-06T21:15:49.999879",
     "status": "completed"
    },
    "tags": []
   },
   "outputs": [
    {
     "name": "stderr",
     "output_type": "stream",
     "text": [
      "2022-08-06 21:15:50.054467: I tensorflow/core/common_runtime/process_util.cc:146] Creating new thread pool with default inter op setting: 2. Tune using inter_op_parallelism_threads for best performance.\n"
     ]
    }
   ],
   "source": [
    "model = tf.keras.models.Sequential([\n",
    "    tf.keras.layers.Conv2D(32, (3, 3), activation='relu', input_shape=(28, 28, 1)),\n",
    "    tf.keras.layers.MaxPooling2D(2, 2),\n",
    "    tf.keras.layers.Conv2D(64, (3, 3), activation='relu'),\n",
    "    tf.keras.layers.MaxPooling2D(2, 2),\n",
    "    tf.keras.layers.Conv2D(128, (3, 3), activation='relu'),\n",
    "    tf.keras.layers.MaxPooling2D(2, 2),\n",
    "    tf.keras.layers.Flatten(),\n",
    "    tf.keras.layers.Dense(128, activation=tf.nn.relu),\n",
    "    tf.keras.layers.Dense(26, activation=tf.nn.softmax)])\n",
    "\n",
    "model.compile(optimizer = tf.optimizers.Adam(learning_rate= 0.001),\n",
    "              loss = 'sparse_categorical_crossentropy',\n",
    "              metrics=['accuracy'])\n"
   ]
  },
  {
   "cell_type": "markdown",
   "id": "953edc11",
   "metadata": {
    "papermill": {
     "duration": 0.003927,
     "end_time": "2022-08-06T21:15:50.174730",
     "exception": false,
     "start_time": "2022-08-06T21:15:50.170803",
     "status": "completed"
    },
    "tags": []
   },
   "source": [
    "# Define a Callback class that stops training once accuracy reaches 99.9%"
   ]
  },
  {
   "cell_type": "code",
   "execution_count": 7,
   "id": "c623c431",
   "metadata": {
    "execution": {
     "iopub.execute_input": "2022-08-06T21:15:50.184635Z",
     "iopub.status.busy": "2022-08-06T21:15:50.184263Z",
     "iopub.status.idle": "2022-08-06T21:15:50.189787Z",
     "shell.execute_reply": "2022-08-06T21:15:50.188786Z"
    },
    "papermill": {
     "duration": 0.013317,
     "end_time": "2022-08-06T21:15:50.192110",
     "exception": false,
     "start_time": "2022-08-06T21:15:50.178793",
     "status": "completed"
    },
    "tags": []
   },
   "outputs": [],
   "source": [
    "class myCallback(tf.keras.callbacks.Callback):\n",
    "    def on_epoch_end(self, epoch, logs={}):\n",
    "        if(logs.get('accuracy')>0.90):\n",
    "            print(\"\\nReached 90% accuracy so cancelling training!\")\n",
    "            self.model.stop_training = True\n",
    "callbacks = myCallback()"
   ]
  },
  {
   "cell_type": "markdown",
   "id": "cacdb874",
   "metadata": {
    "papermill": {
     "duration": 0.003914,
     "end_time": "2022-08-06T21:15:50.200172",
     "exception": false,
     "start_time": "2022-08-06T21:15:50.196258",
     "status": "completed"
    },
    "tags": []
   },
   "source": [
    "# Training and Evaluating the model"
   ]
  },
  {
   "cell_type": "code",
   "execution_count": 8,
   "id": "c99858fa",
   "metadata": {
    "execution": {
     "iopub.execute_input": "2022-08-06T21:15:50.210526Z",
     "iopub.status.busy": "2022-08-06T21:15:50.209815Z",
     "iopub.status.idle": "2022-08-06T21:30:10.486105Z",
     "shell.execute_reply": "2022-08-06T21:30:10.485271Z"
    },
    "papermill": {
     "duration": 860.283876,
     "end_time": "2022-08-06T21:30:10.488142",
     "exception": false,
     "start_time": "2022-08-06T21:15:50.204266",
     "status": "completed"
    },
    "tags": []
   },
   "outputs": [
    {
     "name": "stderr",
     "output_type": "stream",
     "text": [
      "2022-08-06 21:15:50.339587: I tensorflow/compiler/mlir/mlir_graph_optimization_pass.cc:185] None of the MLIR Optimization Passes are enabled (registered 2)\n"
     ]
    },
    {
     "name": "stdout",
     "output_type": "stream",
     "text": [
      "Epoch 1/30\n",
      "857/857 [==============================] - 21s 23ms/step - loss: 2.8824 - accuracy: 0.1220 - val_loss: 2.1360 - val_accuracy: 0.3143\n",
      "Epoch 2/30\n",
      "857/857 [==============================] - 21s 24ms/step - loss: 2.1468 - accuracy: 0.3111 - val_loss: 1.7092 - val_accuracy: 0.4034\n",
      "Epoch 3/30\n",
      "857/857 [==============================] - 20s 23ms/step - loss: 1.7622 - accuracy: 0.4285 - val_loss: 1.3227 - val_accuracy: 0.5386\n",
      "Epoch 4/30\n",
      "857/857 [==============================] - 21s 24ms/step - loss: 1.5200 - accuracy: 0.4959 - val_loss: 1.1834 - val_accuracy: 0.5754\n",
      "Epoch 5/30\n",
      "857/857 [==============================] - 21s 24ms/step - loss: 1.3701 - accuracy: 0.5466 - val_loss: 0.7914 - val_accuracy: 0.7197\n",
      "Epoch 6/30\n",
      "857/857 [==============================] - 20s 23ms/step - loss: 1.2013 - accuracy: 0.6027 - val_loss: 0.7714 - val_accuracy: 0.7301\n",
      "Epoch 7/30\n",
      "857/857 [==============================] - 21s 24ms/step - loss: 1.0896 - accuracy: 0.6383 - val_loss: 0.5678 - val_accuracy: 0.8211\n",
      "Epoch 8/30\n",
      "857/857 [==============================] - 20s 24ms/step - loss: 1.0050 - accuracy: 0.6640 - val_loss: 0.5696 - val_accuracy: 0.7974\n",
      "Epoch 9/30\n",
      "857/857 [==============================] - 20s 23ms/step - loss: 0.9315 - accuracy: 0.6868 - val_loss: 0.6740 - val_accuracy: 0.7830\n",
      "Epoch 10/30\n",
      "857/857 [==============================] - 20s 24ms/step - loss: 0.8668 - accuracy: 0.7087 - val_loss: 0.4841 - val_accuracy: 0.8282\n",
      "Epoch 11/30\n",
      "857/857 [==============================] - 20s 23ms/step - loss: 0.8088 - accuracy: 0.7277 - val_loss: 0.4573 - val_accuracy: 0.8561\n",
      "Epoch 12/30\n",
      "857/857 [==============================] - 20s 24ms/step - loss: 0.7600 - accuracy: 0.7424 - val_loss: 0.4492 - val_accuracy: 0.8437\n",
      "Epoch 13/30\n",
      "857/857 [==============================] - 21s 24ms/step - loss: 0.7209 - accuracy: 0.7517 - val_loss: 0.4086 - val_accuracy: 0.8597\n",
      "Epoch 14/30\n",
      "857/857 [==============================] - 20s 24ms/step - loss: 0.6929 - accuracy: 0.7635 - val_loss: 0.3388 - val_accuracy: 0.8925\n",
      "Epoch 15/30\n",
      "857/857 [==============================] - 20s 23ms/step - loss: 0.6576 - accuracy: 0.7783 - val_loss: 0.2916 - val_accuracy: 0.9030\n",
      "Epoch 16/30\n",
      "857/857 [==============================] - 20s 24ms/step - loss: 0.6342 - accuracy: 0.7843 - val_loss: 0.2900 - val_accuracy: 0.9148\n",
      "Epoch 17/30\n",
      "857/857 [==============================] - 21s 24ms/step - loss: 0.6104 - accuracy: 0.7945 - val_loss: 0.2756 - val_accuracy: 0.9083\n",
      "Epoch 18/30\n",
      "857/857 [==============================] - 21s 24ms/step - loss: 0.5847 - accuracy: 0.8027 - val_loss: 0.2360 - val_accuracy: 0.9159\n",
      "Epoch 19/30\n",
      "857/857 [==============================] - 20s 23ms/step - loss: 0.5616 - accuracy: 0.8091 - val_loss: 0.2222 - val_accuracy: 0.9240\n",
      "Epoch 20/30\n",
      "857/857 [==============================] - 20s 23ms/step - loss: 0.5390 - accuracy: 0.8168 - val_loss: 0.2748 - val_accuracy: 0.9016\n",
      "Epoch 21/30\n",
      "857/857 [==============================] - 21s 24ms/step - loss: 0.5339 - accuracy: 0.8174 - val_loss: 0.2424 - val_accuracy: 0.9163\n",
      "Epoch 22/30\n",
      "857/857 [==============================] - 21s 24ms/step - loss: 0.5210 - accuracy: 0.8259 - val_loss: 0.2023 - val_accuracy: 0.9228\n",
      "Epoch 23/30\n",
      "857/857 [==============================] - 21s 24ms/step - loss: 0.5031 - accuracy: 0.8287 - val_loss: 0.1965 - val_accuracy: 0.9301\n",
      "Epoch 24/30\n",
      "857/857 [==============================] - 20s 23ms/step - loss: 0.5003 - accuracy: 0.8313 - val_loss: 0.1961 - val_accuracy: 0.9332\n",
      "Epoch 25/30\n",
      "857/857 [==============================] - 20s 23ms/step - loss: 0.4794 - accuracy: 0.8385 - val_loss: 0.1946 - val_accuracy: 0.9282\n",
      "Epoch 26/30\n",
      "857/857 [==============================] - 21s 24ms/step - loss: 0.4658 - accuracy: 0.8420 - val_loss: 0.2469 - val_accuracy: 0.9155\n",
      "Epoch 27/30\n",
      "857/857 [==============================] - 21s 24ms/step - loss: 0.4601 - accuracy: 0.8447 - val_loss: 0.2106 - val_accuracy: 0.9226\n",
      "Epoch 28/30\n",
      "857/857 [==============================] - 20s 23ms/step - loss: 0.4469 - accuracy: 0.8487 - val_loss: 0.1379 - val_accuracy: 0.9557\n",
      "Epoch 29/30\n",
      "857/857 [==============================] - 21s 24ms/step - loss: 0.4438 - accuracy: 0.8506 - val_loss: 0.1994 - val_accuracy: 0.9303\n",
      "Epoch 30/30\n",
      "857/857 [==============================] - 21s 25ms/step - loss: 0.4363 - accuracy: 0.8531 - val_loss: 0.1782 - val_accuracy: 0.9421\n",
      "225/225 [==============================] - 1s 5ms/step - loss: 222.9488 - accuracy: 0.6570\n"
     ]
    },
    {
     "data": {
      "text/plain": [
       "[222.94882202148438, 0.6569994688034058]"
      ]
     },
     "execution_count": 8,
     "metadata": {},
     "output_type": "execute_result"
    }
   ],
   "source": [
    "history = model.fit(train_datagen.flow(training_images, training_labels, batch_size=32),\n",
    "                                steps_per_epoch=len(training_images) / 32,\n",
    "                                epochs=30,\n",
    "                                validation_data=validation_datagen.flow(testing_images, testing_labels, batch_size=32),\n",
    "                                validation_steps=len(testing_images) / 32,\n",
    "                                verbose = 1,\n",
    "                                callbacks=[callbacks])\n",
    "\n",
    "model.evaluate(testing_images, testing_labels)"
   ]
  },
  {
   "cell_type": "markdown",
   "id": "642fcc38",
   "metadata": {
    "papermill": {
     "duration": 0.568345,
     "end_time": "2022-08-06T21:30:11.624655",
     "exception": false,
     "start_time": "2022-08-06T21:30:11.056310",
     "status": "completed"
    },
    "tags": []
   },
   "source": [
    "## Evaluating Accuracy and Loss for the Model"
   ]
  },
  {
   "cell_type": "code",
   "execution_count": 9,
   "id": "b766d8bb",
   "metadata": {
    "execution": {
     "iopub.execute_input": "2022-08-06T21:30:12.812299Z",
     "iopub.status.busy": "2022-08-06T21:30:12.811207Z",
     "iopub.status.idle": "2022-08-06T21:30:13.189885Z",
     "shell.execute_reply": "2022-08-06T21:30:13.189090Z"
    },
    "papermill": {
     "duration": 0.945853,
     "end_time": "2022-08-06T21:30:13.191919",
     "exception": false,
     "start_time": "2022-08-06T21:30:12.246066",
     "status": "completed"
    },
    "tags": []
   },
   "outputs": [
    {
     "data": {
      "image/png": "[encoded data removed]",
      "text/plain": [
       "<Figure size 432x288 with 1 Axes>"
      ]
     },
     "metadata": {
      "needs_background": "light"
     },
     "output_type": "display_data"
    },
    {
     "data": {
      "image/png": "[encoded data removed]",
      "text/plain": [
       "<Figure size 432x288 with 1 Axes>"
      ]
     },
     "metadata": {
      "needs_background": "light"
     },
     "output_type": "display_data"
    }
   ],
   "source": [
    "import matplotlib.pyplot as plt\n",
    "acc = history.history['accuracy']\n",
    "val_acc = history.history['val_accuracy']\n",
    "loss = history.history['loss']\n",
    "val_loss = history.history['val_loss']\n",
    "\n",
    "epochs = range(len(acc))\n",
    "\n",
    "plt.plot(epochs, acc, 'r', label='Training accuracy')\n",
    "plt.plot(epochs, val_acc, 'b', label='Validation accuracy')\n",
    "plt.title('Training and validation accuracy')\n",
    "plt.legend()\n",
    "plt.figure()\n",
    "\n",
    "plt.plot(epochs, loss, 'r', label='Training Loss')\n",
    "plt.plot(epochs, val_loss, 'b', label='Validation Loss')\n",
    "plt.title('Training and validation loss')\n",
    "plt.legend()\n",
    "\n",
    "plt.show()"
   ]
  }
 ],
 "metadata": {
  "kernelspec": {
   "display_name": "Python 3",
   "language": "python",
   "name": "python3"
  },
  "language_info": {
   "codemirror_mode": {
    "name": "ipython",
    "version": 3
   },
   "file_extension": ".py",
   "mimetype": "text/x-python",
   "name": "python",
   "nbconvert_exporter": "python",
   "pygments_lexer": "ipython3",
   "version": "3.7.12"
  },
  "papermill": {
   "default_parameters": {},
   "duration": 901.154721,
   "end_time": "2022-08-06T21:30:16.380353",
   "environment_variables": {},
   "exception": null,
   "input_path": "__notebook__.ipynb",
   "output_path": "__notebook__.ipynb",
   "parameters": {},
   "start_time": "2022-08-06T21:15:15.225632",
   "version": "2.3.4"
  }
 },
 "nbformat": 4,
 "nbformat_minor": 5
}
