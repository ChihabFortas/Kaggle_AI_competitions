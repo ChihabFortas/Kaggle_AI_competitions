{
 "cells": [
  {
   "cell_type": "code",
   "execution_count": 1,
   "id": "fdcfb19e",
   "metadata": {
    "_cell_guid": "b1076dfc-b9ad-4769-8c92-a6c4dae69d19",
    "_uuid": "8f2839f25d086af736a60e9eeb907d3b93b6e0e5",
    "execution": {
     "iopub.execute_input": "2022-08-06T20:37:44.197800Z",
     "iopub.status.busy": "2022-08-06T20:37:44.196959Z",
     "iopub.status.idle": "2022-08-06T20:37:44.208520Z",
     "shell.execute_reply": "2022-08-06T20:37:44.207655Z"
    },
    "papermill": {
     "duration": 0.021071,
     "end_time": "2022-08-06T20:37:44.210652",
     "exception": false,
     "start_time": "2022-08-06T20:37:44.189581",
     "status": "completed"
    },
    "tags": []
   },
   "outputs": [],
   "source": [
    "# This Python 3 environment comes with many helpful analytics libraries installed\n",
    "# It is defined by the kaggle/python Docker image: https://github.com/kaggle/docker-python\n",
    "# For example, here's several helpful packages to load\n",
    "\n",
    "import numpy as np # linear algebra\n",
    "import pandas as pd # data processing, CSV file I/O (e.g. pd.read_csv)\n",
    "\n",
    "# Input data files are available in the read-only \"../input/\" directory\n",
    "# For example, running this (by clicking run or pressing Shift+Enter) will list all files under the input directory\n",
    "\n",
    "import os\n",
    "for dirname, _, filenames in os.walk('/kaggle/input'):\n",
    "    for filename in filenames:\n",
    "        print(os.path.join(dirname, filename))\n",
    "\n",
    "# You can write up to 20GB to the current directory (/kaggle/working/) that gets preserved as output when you create a version using \"Save & Run All\" \n",
    "# You can also write temporary files to /kaggle/temp/, but they won't be saved outside of the current session"
   ]
  },
  {
   "cell_type": "markdown",
   "id": "042fbe1b",
   "metadata": {
    "papermill": {
     "duration": 0.004108,
     "end_time": "2022-08-06T20:37:44.219289",
     "exception": false,
     "start_time": "2022-08-06T20:37:44.215181",
     "status": "completed"
    },
    "tags": []
   },
   "source": [
    "# Imports required Library"
   ]
  },
  {
   "cell_type": "code",
   "execution_count": 2,
   "id": "d5531df9",
   "metadata": {
    "execution": {
     "iopub.execute_input": "2022-08-06T20:37:44.229311Z",
     "iopub.status.busy": "2022-08-06T20:37:44.228707Z",
     "iopub.status.idle": "2022-08-06T20:37:49.679310Z",
     "shell.execute_reply": "2022-08-06T20:37:49.678316Z"
    },
    "papermill": {
     "duration": 5.458326,
     "end_time": "2022-08-06T20:37:49.681856",
     "exception": false,
     "start_time": "2022-08-06T20:37:44.223530",
     "status": "completed"
    },
    "tags": []
   },
   "outputs": [],
   "source": [
    "# Import all the necessary files!\n",
    "import os\n",
    "import tensorflow as tf\n",
    "from tensorflow.keras import layers\n",
    "from tensorflow.keras import Model"
   ]
  },
  {
   "cell_type": "markdown",
   "id": "720b6aab",
   "metadata": {
    "papermill": {
     "duration": 0.004136,
     "end_time": "2022-08-06T20:37:49.691020",
     "exception": false,
     "start_time": "2022-08-06T20:37:49.686884",
     "status": "completed"
    },
    "tags": []
   },
   "source": [
    "# Download the inception v3 weights"
   ]
  },
  {
   "cell_type": "code",
   "execution_count": 3,
   "id": "f38e6fd2",
   "metadata": {
    "execution": {
     "iopub.execute_input": "2022-08-06T20:37:49.702310Z",
     "iopub.status.busy": "2022-08-06T20:37:49.700436Z",
     "iopub.status.idle": "2022-08-06T20:37:52.492855Z",
     "shell.execute_reply": "2022-08-06T20:37:52.491528Z"
    },
    "papermill": {
     "duration": 2.800694,
     "end_time": "2022-08-06T20:37:52.495962",
     "exception": false,
     "start_time": "2022-08-06T20:37:49.695268",
     "status": "completed"
    },
    "tags": []
   },
   "outputs": [
    {
     "name": "stdout",
     "output_type": "stream",
     "text": [
      "--2022-08-06 20:37:50--  https://storage.googleapis.com/mledu-datasets/inception_v3_weights_tf_dim_ordering_tf_kernels_notop.h5\r\n",
      "Resolving storage.googleapis.com (storage.googleapis.com)... 173.194.217.128, 173.194.215.128, 74.125.141.128, ...\r\n",
      "Connecting to storage.googleapis.com (storage.googleapis.com)|173.194.217.128|:443... connected.\r\n",
      "HTTP request sent, awaiting response... 200 OK\r\n",
      "Length: 87910968 (84M) [application/x-hdf]\r\n",
      "Saving to: ‘/tmp/inception_v3_weights_tf_dim_ordering_tf_kernels_notop.h5’\r\n",
      "\r\n",
      "/tmp/inception_v3_w 100%[===================>]  83.84M  67.9MB/s    in 1.2s    \r\n",
      "\r\n",
      "2022-08-06 20:37:52 (67.9 MB/s) - ‘/tmp/inception_v3_weights_tf_dim_ordering_tf_kernels_notop.h5’ saved [87910968/87910968]\r\n",
      "\r\n"
     ]
    }
   ],
   "source": [
    "!wget --no-check-certificate \\\n",
    "    https://storage.googleapis.com/mledu-datasets/inception_v3_weights_tf_dim_ordering_tf_kernels_notop.h5 \\\n",
    "    -O /tmp/inception_v3_weights_tf_dim_ordering_tf_kernels_notop.h5\n"
   ]
  },
  {
   "cell_type": "markdown",
   "id": "431cb66c",
   "metadata": {
    "papermill": {
     "duration": 0.004707,
     "end_time": "2022-08-06T20:37:52.505923",
     "exception": false,
     "start_time": "2022-08-06T20:37:52.501216",
     "status": "completed"
    },
    "tags": []
   },
   "source": [
    "# Import the inception model  "
   ]
  },
  {
   "cell_type": "code",
   "execution_count": 4,
   "id": "a9ebbc3a",
   "metadata": {
    "execution": {
     "iopub.execute_input": "2022-08-06T20:37:52.517424Z",
     "iopub.status.busy": "2022-08-06T20:37:52.517029Z",
     "iopub.status.idle": "2022-08-06T20:37:57.265618Z",
     "shell.execute_reply": "2022-08-06T20:37:57.264633Z"
    },
    "papermill": {
     "duration": 4.757707,
     "end_time": "2022-08-06T20:37:57.268293",
     "exception": false,
     "start_time": "2022-08-06T20:37:52.510586",
     "status": "completed"
    },
    "tags": []
   },
   "outputs": [
    {
     "name": "stderr",
     "output_type": "stream",
     "text": [
      "2022-08-06 20:37:52.630809: I tensorflow/stream_executor/cuda/cuda_gpu_executor.cc:937] successful NUMA node read from SysFS had negative value (-1), but there must be at least one NUMA node, so returning NUMA node zero\n",
      "2022-08-06 20:37:52.755653: I tensorflow/stream_executor/cuda/cuda_gpu_executor.cc:937] successful NUMA node read from SysFS had negative value (-1), but there must be at least one NUMA node, so returning NUMA node zero\n",
      "2022-08-06 20:37:52.756466: I tensorflow/stream_executor/cuda/cuda_gpu_executor.cc:937] successful NUMA node read from SysFS had negative value (-1), but there must be at least one NUMA node, so returning NUMA node zero\n",
      "2022-08-06 20:37:52.758209: I tensorflow/core/platform/cpu_feature_guard.cc:142] This TensorFlow binary is optimized with oneAPI Deep Neural Network Library (oneDNN) to use the following CPU instructions in performance-critical operations:  AVX2 AVX512F FMA\n",
      "To enable them in other operations, rebuild TensorFlow with the appropriate compiler flags.\n",
      "2022-08-06 20:37:52.758511: I tensorflow/stream_executor/cuda/cuda_gpu_executor.cc:937] successful NUMA node read from SysFS had negative value (-1), but there must be at least one NUMA node, so returning NUMA node zero\n",
      "2022-08-06 20:37:52.759265: I tensorflow/stream_executor/cuda/cuda_gpu_executor.cc:937] successful NUMA node read from SysFS had negative value (-1), but there must be at least one NUMA node, so returning NUMA node zero\n",
      "2022-08-06 20:37:52.759912: I tensorflow/stream_executor/cuda/cuda_gpu_executor.cc:937] successful NUMA node read from SysFS had negative value (-1), but there must be at least one NUMA node, so returning NUMA node zero\n",
      "2022-08-06 20:37:54.956433: I tensorflow/stream_executor/cuda/cuda_gpu_executor.cc:937] successful NUMA node read from SysFS had negative value (-1), but there must be at least one NUMA node, so returning NUMA node zero\n",
      "2022-08-06 20:37:54.957293: I tensorflow/stream_executor/cuda/cuda_gpu_executor.cc:937] successful NUMA node read from SysFS had negative value (-1), but there must be at least one NUMA node, so returning NUMA node zero\n",
      "2022-08-06 20:37:54.958005: I tensorflow/stream_executor/cuda/cuda_gpu_executor.cc:937] successful NUMA node read from SysFS had negative value (-1), but there must be at least one NUMA node, so returning NUMA node zero\n",
      "2022-08-06 20:37:54.958595: I tensorflow/core/common_runtime/gpu/gpu_device.cc:1510] Created device /job:localhost/replica:0/task:0/device:GPU:0 with 15403 MB memory:  -> device: 0, name: Tesla P100-PCIE-16GB, pci bus id: 0000:00:04.0, compute capability: 6.0\n"
     ]
    }
   ],
   "source": [
    "from tensorflow.keras.applications.inception_v3 import InceptionV3\n",
    "\n",
    "# Create an instance of the inception model from the local pre-trained weights\n",
    "local_weights_file = '/tmp/inception_v3_weights_tf_dim_ordering_tf_kernels_notop.h5'\n",
    "\n",
    "pre_trained_model = InceptionV3(input_shape = (150, 150, 3), \n",
    "                                include_top = False, \n",
    "                                weights = None)\n",
    "\n",
    "pre_trained_model.load_weights(local_weights_file)\n",
    "\n",
    "# Make all the layers in the pre-trained model non-trainable\n",
    "for layer in pre_trained_model.layers:\n",
    "    layer.trainable = False\n",
    "\n"
   ]
  },
  {
   "cell_type": "markdown",
   "id": "a1017e2b",
   "metadata": {
    "papermill": {
     "duration": 0.004951,
     "end_time": "2022-08-06T20:37:57.278802",
     "exception": false,
     "start_time": "2022-08-06T20:37:57.273851",
     "status": "completed"
    },
    "tags": []
   },
   "source": [
    "## Print out the Expected Output:\n"
   ]
  },
  {
   "cell_type": "code",
   "execution_count": 5,
   "id": "7b700846",
   "metadata": {
    "execution": {
     "iopub.execute_input": "2022-08-06T20:37:57.289882Z",
     "iopub.status.busy": "2022-08-06T20:37:57.289551Z",
     "iopub.status.idle": "2022-08-06T20:37:57.296118Z",
     "shell.execute_reply": "2022-08-06T20:37:57.295157Z"
    },
    "papermill": {
     "duration": 0.014448,
     "end_time": "2022-08-06T20:37:57.298225",
     "exception": false,
     "start_time": "2022-08-06T20:37:57.283777",
     "status": "completed"
    },
    "tags": []
   },
   "outputs": [
    {
     "name": "stdout",
     "output_type": "stream",
     "text": [
      "last layer output shape:  (None, 7, 7, 768)\n"
     ]
    }
   ],
   "source": [
    "last_layer = pre_trained_model.get_layer('mixed7')\n",
    "print('last layer output shape: ', last_layer.output_shape)\n",
    "last_output = last_layer.output"
   ]
  },
  {
   "cell_type": "markdown",
   "id": "8503f737",
   "metadata": {
    "papermill": {
     "duration": 0.004906,
     "end_time": "2022-08-06T20:37:57.307956",
     "exception": false,
     "start_time": "2022-08-06T20:37:57.303050",
     "status": "completed"
    },
    "tags": []
   },
   "source": [
    "## Define a Callback class that stops training once accuracy reaches 99.9%"
   ]
  },
  {
   "cell_type": "code",
   "execution_count": 6,
   "id": "1d67b2a7",
   "metadata": {
    "execution": {
     "iopub.execute_input": "2022-08-06T20:37:57.319051Z",
     "iopub.status.busy": "2022-08-06T20:37:57.318789Z",
     "iopub.status.idle": "2022-08-06T20:37:57.324558Z",
     "shell.execute_reply": "2022-08-06T20:37:57.323759Z"
    },
    "papermill": {
     "duration": 0.013441,
     "end_time": "2022-08-06T20:37:57.326573",
     "exception": false,
     "start_time": "2022-08-06T20:37:57.313132",
     "status": "completed"
    },
    "tags": []
   },
   "outputs": [],
   "source": [
    "class myCallback(tf.keras.callbacks.Callback):\n",
    "    def on_epoch_end(self, epoch, logs={}):\n",
    "        if(logs.get('accuracy')>0.999):\n",
    "            print(\"\\nReached 99.9% accuracy so cancelling training!\")\n",
    "            self.model.stop_training = True"
   ]
  },
  {
   "cell_type": "markdown",
   "id": "9d53179e",
   "metadata": {
    "papermill": {
     "duration": 0.004778,
     "end_time": "2022-08-06T20:37:57.336392",
     "exception": false,
     "start_time": "2022-08-06T20:37:57.331614",
     "status": "completed"
    },
    "tags": []
   },
   "source": [
    "## Creating The Model"
   ]
  },
  {
   "cell_type": "code",
   "execution_count": 7,
   "id": "cab3b7f1",
   "metadata": {
    "execution": {
     "iopub.execute_input": "2022-08-06T20:37:57.347756Z",
     "iopub.status.busy": "2022-08-06T20:37:57.346912Z",
     "iopub.status.idle": "2022-08-06T20:37:57.393819Z",
     "shell.execute_reply": "2022-08-06T20:37:57.392959Z"
    },
    "papermill": {
     "duration": 0.054846,
     "end_time": "2022-08-06T20:37:57.396031",
     "exception": false,
     "start_time": "2022-08-06T20:37:57.341185",
     "status": "completed"
    },
    "tags": []
   },
   "outputs": [],
   "source": [
    "from tensorflow.keras.optimizers import RMSprop\n",
    "\n",
    "# Flatten the output layer to 1 dimension\n",
    "x = layers.Flatten()(last_output)\n",
    "# Add a fully connected layer with 1,024 hidden units and ReLU activation\n",
    "x = layers.Dense(1024, activation='relu')(x)\n",
    "# Add a dropout rate of 0.2\n",
    "x = layers.Dropout(0.2)(x)                  \n",
    "# Add a final sigmoid layer for classification\n",
    "x = layers.Dense  (1, activation='sigmoid')(x)           \n",
    "\n",
    "model = Model( pre_trained_model.input, x) \n",
    "\n",
    "model.compile(optimizer = RMSprop(learning_rate=0.0001), \n",
    "              loss = 'binary_crossentropy', \n",
    "              metrics = ['accuracy'])"
   ]
  },
  {
   "cell_type": "markdown",
   "id": "a91f552a",
   "metadata": {
    "papermill": {
     "duration": 0.005309,
     "end_time": "2022-08-06T20:37:57.406227",
     "exception": false,
     "start_time": "2022-08-06T20:37:57.400918",
     "status": "completed"
    },
    "tags": []
   },
   "source": [
    "## Get the Horse or Human Training and Validation dataset"
   ]
  },
  {
   "cell_type": "code",
   "execution_count": 8,
   "id": "9c067fa3",
   "metadata": {
    "execution": {
     "iopub.execute_input": "2022-08-06T20:37:57.417276Z",
     "iopub.status.busy": "2022-08-06T20:37:57.416997Z",
     "iopub.status.idle": "2022-08-06T20:38:04.309447Z",
     "shell.execute_reply": "2022-08-06T20:38:04.308100Z"
    },
    "papermill": {
     "duration": 6.901586,
     "end_time": "2022-08-06T20:38:04.312619",
     "exception": false,
     "start_time": "2022-08-06T20:37:57.411033",
     "status": "completed"
    },
    "tags": []
   },
   "outputs": [
    {
     "name": "stdout",
     "output_type": "stream",
     "text": [
      "--2022-08-06 20:37:58--  https://storage.googleapis.com/laurencemoroney-blog.appspot.com/horse-or-human.zip\r\n",
      "Resolving storage.googleapis.com (storage.googleapis.com)... 74.125.141.128, 172.217.203.128, 108.177.11.128, ...\r\n",
      "Connecting to storage.googleapis.com (storage.googleapis.com)|74.125.141.128|:443... connected.\r\n",
      "HTTP request sent, awaiting response... 200 OK\r\n",
      "Length: 149574867 (143M) [application/zip]\r\n",
      "Saving to: ‘/tmp/horse-or-human.zip’\r\n",
      "\r\n",
      "/tmp/horse-or-human 100%[===================>] 142.65M  63.0MB/s    in 2.3s    \r\n",
      "\r\n",
      "2022-08-06 20:38:01 (63.0 MB/s) - ‘/tmp/horse-or-human.zip’ saved [149574867/149574867]\r\n",
      "\r\n",
      "--2022-08-06 20:38:02--  https://storage.googleapis.com/laurencemoroney-blog.appspot.com/validation-horse-or-human.zip\r\n",
      "Resolving storage.googleapis.com (storage.googleapis.com)... 173.194.217.128, 173.194.213.128, 173.194.211.128, ...\r\n",
      "Connecting to storage.googleapis.com (storage.googleapis.com)|173.194.217.128|:443... connected.\r\n",
      "HTTP request sent, awaiting response... 200 OK\r\n",
      "Length: 11480187 (11M) [application/zip]\r\n",
      "Saving to: ‘/tmp/validation-horse-or-human.zip’\r\n",
      "\r\n",
      "/tmp/validation-hor 100%[===================>]  10.95M  59.5MB/s    in 0.2s    \r\n",
      "\r\n",
      "2022-08-06 20:38:03 (59.5 MB/s) - ‘/tmp/validation-horse-or-human.zip’ saved [11480187/11480187]\r\n",
      "\r\n"
     ]
    }
   ],
   "source": [
    "# Get the Horse or Human dataset\n",
    "!wget --no-check-certificate https://storage.googleapis.com/laurencemoroney-blog.appspot.com/horse-or-human.zip -O /tmp/horse-or-human.zip\n",
    "\n",
    "# Get the Horse or Human Validation dataset\n",
    "!wget --no-check-certificate https://storage.googleapis.com/laurencemoroney-blog.appspot.com/validation-horse-or-human.zip -O /tmp/validation-horse-or-human.zip \n",
    "\n",
    "from tensorflow.keras.preprocessing.image import ImageDataGenerator\n",
    "\n",
    "import os\n",
    "import zipfile\n",
    "\n",
    "local_zip = '//tmp/horse-or-human.zip'\n",
    "zip_ref = zipfile.ZipFile(local_zip, 'r')\n",
    "zip_ref.extractall('/tmp/training')\n",
    "zip_ref.close()\n",
    "\n",
    "local_zip = '//tmp/validation-horse-or-human.zip'\n",
    "zip_ref = zipfile.ZipFile(local_zip, 'r')\n",
    "zip_ref.extractall('/tmp/validation')\n",
    "zip_ref.close()"
   ]
  },
  {
   "cell_type": "markdown",
   "id": "c5fb13c3",
   "metadata": {
    "papermill": {
     "duration": 0.00605,
     "end_time": "2022-08-06T20:38:04.325527",
     "exception": false,
     "start_time": "2022-08-06T20:38:04.319477",
     "status": "completed"
    },
    "tags": []
   },
   "source": [
    "# Define our example directories and files"
   ]
  },
  {
   "cell_type": "code",
   "execution_count": 9,
   "id": "d1865da3",
   "metadata": {
    "execution": {
     "iopub.execute_input": "2022-08-06T20:38:04.339513Z",
     "iopub.status.busy": "2022-08-06T20:38:04.339122Z",
     "iopub.status.idle": "2022-08-06T20:38:04.348764Z",
     "shell.execute_reply": "2022-08-06T20:38:04.347628Z"
    },
    "papermill": {
     "duration": 0.019718,
     "end_time": "2022-08-06T20:38:04.351351",
     "exception": false,
     "start_time": "2022-08-06T20:38:04.331633",
     "status": "completed"
    },
    "tags": []
   },
   "outputs": [
    {
     "name": "stdout",
     "output_type": "stream",
     "text": [
      "500\n",
      "527\n",
      "128\n",
      "128\n"
     ]
    }
   ],
   "source": [
    "train_dir = '/tmp/training'\n",
    "validation_dir = '/tmp/validation'\n",
    "\n",
    "train_horses_dir = os.path.join(train_dir, 'horses') # Directory with our training horse pictures\n",
    "train_humans_dir = os.path.join(train_dir, 'humans') # Directory with our training humans pictures\n",
    "validation_horses_dir = os.path.join(validation_dir, 'horses') # Directory with our validation horse pictures\n",
    "validation_humans_dir = os.path.join(validation_dir, 'humans')# Directory with our validation humanas pictures\n",
    "\n",
    "train_horses_fnames = os.listdir(train_horses_dir)\n",
    "train_humans_fnames = os.listdir(train_humans_dir)\n",
    "validation_horses_fnames = os.listdir(validation_horses_dir)\n",
    "validation_humans_fnames = os.listdir(validation_humans_dir)\n",
    "\n",
    "print(len(train_horses_fnames))\n",
    "print(len(train_humans_fnames))\n",
    "print(len(validation_horses_fnames))\n",
    "print(len(validation_humans_fnames))"
   ]
  },
  {
   "cell_type": "markdown",
   "id": "595c03bc",
   "metadata": {
    "papermill": {
     "duration": 0.005896,
     "end_time": "2022-08-06T20:38:04.363323",
     "exception": false,
     "start_time": "2022-08-06T20:38:04.357427",
     "status": "completed"
    },
    "tags": []
   },
   "source": [
    "# Add data-augmentation parameters to ImageDataGenerator"
   ]
  },
  {
   "cell_type": "code",
   "execution_count": 10,
   "id": "f6a4e7ac",
   "metadata": {
    "execution": {
     "iopub.execute_input": "2022-08-06T20:38:04.377085Z",
     "iopub.status.busy": "2022-08-06T20:38:04.376687Z",
     "iopub.status.idle": "2022-08-06T20:38:04.594632Z",
     "shell.execute_reply": "2022-08-06T20:38:04.593505Z"
    },
    "papermill": {
     "duration": 0.227386,
     "end_time": "2022-08-06T20:38:04.597083",
     "exception": false,
     "start_time": "2022-08-06T20:38:04.369697",
     "status": "completed"
    },
    "tags": []
   },
   "outputs": [
    {
     "name": "stdout",
     "output_type": "stream",
     "text": [
      "Found 1027 images belonging to 2 classes.\n",
      "Found 256 images belonging to 2 classes.\n"
     ]
    }
   ],
   "source": [
    "train_datagen = ImageDataGenerator(rescale = 1./255.,\n",
    "                                   rotation_range = 40,\n",
    "                                   width_shift_range = 0.2,\n",
    "                                   height_shift_range = 0.2,\n",
    "                                   shear_range = 0.2,\n",
    "                                   zoom_range = 0.2,\n",
    "                                   horizontal_flip = True)\n",
    "\n",
    "# Note that the validation data should not be augmented!\n",
    "test_datagen = ImageDataGenerator( rescale = 1.0/255. )\n",
    "\n",
    "# Flow training images in batches of 20 using train_datagen generator\n",
    "train_generator = train_datagen.flow_from_directory(train_dir,\n",
    "                                                    batch_size = 20,\n",
    "                                                    class_mode = 'binary', \n",
    "                                                    target_size = (150, 150))     \n",
    "\n",
    "# Flow validation images in batches of 20 using test_datagen generator\n",
    "validation_generator =  test_datagen.flow_from_directory( validation_dir,\n",
    "                                                          batch_size  = 20,\n",
    "                                                          class_mode  = 'binary', \n",
    "                                                          target_size = (150, 150))"
   ]
  },
  {
   "cell_type": "markdown",
   "id": "1ad55810",
   "metadata": {
    "papermill": {
     "duration": 0.006116,
     "end_time": "2022-08-06T20:38:04.610036",
     "exception": false,
     "start_time": "2022-08-06T20:38:04.603920",
     "status": "completed"
    },
    "tags": []
   },
   "source": [
    "## Training"
   ]
  },
  {
   "cell_type": "code",
   "execution_count": 11,
   "id": "cd332c37",
   "metadata": {
    "execution": {
     "iopub.execute_input": "2022-08-06T20:38:04.623883Z",
     "iopub.status.busy": "2022-08-06T20:38:04.623522Z",
     "iopub.status.idle": "2022-08-06T20:38:19.718431Z",
     "shell.execute_reply": "2022-08-06T20:38:19.716339Z"
    },
    "papermill": {
     "duration": 15.10512,
     "end_time": "2022-08-06T20:38:19.721350",
     "exception": false,
     "start_time": "2022-08-06T20:38:04.616230",
     "status": "completed"
    },
    "tags": []
   },
   "outputs": [
    {
     "name": "stderr",
     "output_type": "stream",
     "text": [
      "2022-08-06 20:38:04.945627: I tensorflow/compiler/mlir/mlir_graph_optimization_pass.cc:185] None of the MLIR Optimization Passes are enabled (registered 2)\n"
     ]
    },
    {
     "name": "stdout",
     "output_type": "stream",
     "text": [
      "Epoch 1/100\n"
     ]
    },
    {
     "name": "stderr",
     "output_type": "stream",
     "text": [
      "2022-08-06 20:38:09.074712: I tensorflow/stream_executor/cuda/cuda_dnn.cc:369] Loaded cuDNN version 8005\n"
     ]
    },
    {
     "name": "stdout",
     "output_type": "stream",
     "text": [
      "1/1 [==============================] - 12s 12s/step - loss: 0.8129 - accuracy: 0.4000 - val_loss: 2.9027 - val_accuracy: 0.5000\n",
      "Epoch 2/100\n",
      "1/1 [==============================] - 0s 253ms/step - loss: 3.4201 - accuracy: 0.4500\n",
      "Epoch 3/100\n",
      "1/1 [==============================] - 0s 242ms/step - loss: 1.3260 - accuracy: 0.6500\n",
      "Epoch 4/100\n",
      "1/1 [==============================] - 0s 249ms/step - loss: 0.5210 - accuracy: 0.7500\n",
      "Epoch 5/100\n",
      "1/1 [==============================] - 0s 340ms/step - loss: 0.0770 - accuracy: 1.0000\n",
      "\n",
      "Reached 99.9% accuracy so cancelling training!\n"
     ]
    }
   ],
   "source": [
    "# Run this and see how many epochs it should take before the callback\n",
    "# fires, and stops training at 99.9% accuracy\n",
    "# (It should take less than 100 epochs)\n",
    "callbacks = myCallback()\n",
    "history = model.fit(\n",
    "            train_generator,\n",
    "            validation_data = validation_generator,\n",
    "            steps_per_epoch = 1,\n",
    "            epochs = 100,\n",
    "            validation_steps = 20,\n",
    "            verbose = 1,\n",
    "            callbacks=[callbacks])"
   ]
  },
  {
   "cell_type": "markdown",
   "id": "251caf48",
   "metadata": {
    "papermill": {
     "duration": 0.021949,
     "end_time": "2022-08-06T20:38:19.766857",
     "exception": false,
     "start_time": "2022-08-06T20:38:19.744908",
     "status": "completed"
    },
    "tags": []
   },
   "source": [
    "## Evaluating Accuracy and Loss for the Model"
   ]
  },
  {
   "cell_type": "code",
   "execution_count": 12,
   "id": "21f5d27d",
   "metadata": {
    "execution": {
     "iopub.execute_input": "2022-08-06T20:38:19.802607Z",
     "iopub.status.busy": "2022-08-06T20:38:19.802068Z",
     "iopub.status.idle": "2022-08-06T20:38:20.299558Z",
     "shell.execute_reply": "2022-08-06T20:38:20.298654Z"
    },
    "papermill": {
     "duration": 0.517425,
     "end_time": "2022-08-06T20:38:20.301872",
     "exception": false,
     "start_time": "2022-08-06T20:38:19.784447",
     "status": "completed"
    },
    "tags": []
   },
   "outputs": [
    {
     "data": {
      "image/png": "[encoded data removed]",
      "text/plain": [
       "<Figure size 432x288 with 1 Axes>"
      ]
     },
     "metadata": {
      "needs_background": "light"
     },
     "output_type": "display_data"
    },
    {
     "data": {
      "text/plain": [
       "<Figure size 432x288 with 0 Axes>"
      ]
     },
     "metadata": {},
     "output_type": "display_data"
    }
   ],
   "source": [
    "import matplotlib.pyplot as plt\n",
    "acc = history.history['accuracy']\n",
    "val_acc = history.history['val_accuracy']\n",
    "loss = history.history['loss']\n",
    "val_loss = history.history['val_loss']\n",
    "\n",
    "epochs = range(len(acc))\n",
    "val_epochs = range(len(val_acc))\n",
    "\n",
    "\n",
    "plt.plot(epochs, acc, 'r', label='Training accuracy')\n",
    "plt.plot(val_epochs, val_acc, 'b', label='Validation accuracy')\n",
    "plt.title('Training and validation accuracy')\n",
    "plt.legend(loc=0)\n",
    "plt.figure()\n",
    "\n",
    "plt.show()"
   ]
  }
 ],
 "metadata": {
  "kernelspec": {
   "display_name": "Python 3",
   "language": "python",
   "name": "python3"
  },
  "language_info": {
   "codemirror_mode": {
    "name": "ipython",
    "version": 3
   },
   "file_extension": ".py",
   "mimetype": "text/x-python",
   "name": "python",
   "nbconvert_exporter": "python",
   "pygments_lexer": "ipython3",
   "version": "3.7.12"
  },
  "papermill": {
   "default_parameters": {},
   "duration": 47.31736,
   "end_time": "2022-08-06T20:38:23.759239",
   "environment_variables": {},
   "exception": null,
   "input_path": "__notebook__.ipynb",
   "output_path": "__notebook__.ipynb",
   "parameters": {},
   "start_time": "2022-08-06T20:37:36.441879",
   "version": "2.3.4"
  }
 },
 "nbformat": 4,
 "nbformat_minor": 5
}
