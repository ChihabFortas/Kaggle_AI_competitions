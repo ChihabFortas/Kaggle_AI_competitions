{
 "cells": [
  {
   "cell_type": "code",
   "execution_count": 1,
   "id": "4c124c17",
   "metadata": {
    "_cell_guid": "b1076dfc-b9ad-4769-8c92-a6c4dae69d19",
    "_uuid": "8f2839f25d086af736a60e9eeb907d3b93b6e0e5",
    "execution": {
     "iopub.execute_input": "2022-08-10T21:16:02.882981Z",
     "iopub.status.busy": "2022-08-10T21:16:02.882420Z",
     "iopub.status.idle": "2022-08-10T21:16:02.901231Z",
     "shell.execute_reply": "2022-08-10T21:16:02.900347Z"
    },
    "papermill": {
     "duration": 0.034867,
     "end_time": "2022-08-10T21:16:02.903986",
     "exception": false,
     "start_time": "2022-08-10T21:16:02.869119",
     "status": "completed"
    },
    "tags": []
   },
   "outputs": [],
   "source": [
    "# This Python 3 environment comes with many helpful analytics libraries installed\n",
    "# It is defined by the kaggle/python Docker image: https://github.com/kaggle/docker-python\n",
    "# For example, here's several helpful packages to load\n",
    "\n",
    "import numpy as np # linear algebra\n",
    "import pandas as pd # data processing, CSV file I/O (e.g. pd.read_csv)\n",
    "\n",
    "# Input data files are available in the read-only \"../input/\" directory\n",
    "# For example, running this (by clicking run or pressing Shift+Enter) will list all files under the input directory\n",
    "\n",
    "import os\n",
    "for dirname, _, filenames in os.walk('/kaggle/input'):\n",
    "    for filename in filenames:\n",
    "        print(os.path.join(dirname, filename))\n",
    "\n",
    "# You can write up to 20GB to the current directory (/kaggle/working/) that gets preserved as output when you create a version using \"Save & Run All\" \n",
    "# You can also write temporary files to /kaggle/temp/, but they won't be saved outside of the current session"
   ]
  },
  {
   "cell_type": "markdown",
   "id": "3ff1b4b8",
   "metadata": {
    "papermill": {
     "duration": 0.005334,
     "end_time": "2022-08-10T21:16:02.915575",
     "exception": false,
     "start_time": "2022-08-10T21:16:02.910241",
     "status": "completed"
    },
    "tags": []
   },
   "source": [
    "## Import required libraries"
   ]
  },
  {
   "cell_type": "code",
   "execution_count": 2,
   "id": "6b4150fc",
   "metadata": {
    "execution": {
     "iopub.execute_input": "2022-08-10T21:16:02.932198Z",
     "iopub.status.busy": "2022-08-10T21:16:02.931850Z",
     "iopub.status.idle": "2022-08-10T21:16:07.765333Z",
     "shell.execute_reply": "2022-08-10T21:16:07.762704Z"
    },
    "papermill": {
     "duration": 4.845069,
     "end_time": "2022-08-10T21:16:07.767992",
     "exception": false,
     "start_time": "2022-08-10T21:16:02.922923",
     "status": "completed"
    },
    "tags": []
   },
   "outputs": [
    {
     "name": "stdout",
     "output_type": "stream",
     "text": [
      "2.6.4\n"
     ]
    }
   ],
   "source": [
    "import tensorflow as tf\n",
    "import numpy as np\n",
    "import matplotlib.pyplot as plt\n",
    "print(tf.__version__)"
   ]
  },
  {
   "cell_type": "markdown",
   "id": "1e30d8fc",
   "metadata": {
    "papermill": {
     "duration": 0.003405,
     "end_time": "2022-08-10T21:16:07.775578",
     "exception": false,
     "start_time": "2022-08-10T21:16:07.772173",
     "status": "completed"
    },
    "tags": []
   },
   "source": [
    "## helper functions"
   ]
  },
  {
   "cell_type": "code",
   "execution_count": 3,
   "id": "0bd52d6b",
   "metadata": {
    "execution": {
     "iopub.execute_input": "2022-08-10T21:16:07.784651Z",
     "iopub.status.busy": "2022-08-10T21:16:07.784073Z",
     "iopub.status.idle": "2022-08-10T21:16:07.793902Z",
     "shell.execute_reply": "2022-08-10T21:16:07.793072Z"
    },
    "papermill": {
     "duration": 0.016702,
     "end_time": "2022-08-10T21:16:07.796061",
     "exception": false,
     "start_time": "2022-08-10T21:16:07.779359",
     "status": "completed"
    },
    "tags": []
   },
   "outputs": [],
   "source": [
    "def plot_series(time, series, format=\"-\", start=0, end=None):\n",
    "    plt.plot(time[start:end], series[start:end], format)\n",
    "    plt.xlabel(\"Time\")\n",
    "    plt.ylabel(\"Value\")\n",
    "    plt.grid(True)\n",
    "\n",
    "def trend(time, slope=0):\n",
    "    return slope * time\n",
    "\n",
    "def seasonal_pattern(season_time):\n",
    "    \"\"\"Just an arbitrary pattern, you can change it if you wish\"\"\"\n",
    "    return np.where(season_time < 0.4,\n",
    "                    np.cos(season_time * 2 * np.pi),\n",
    "                    1 / np.exp(3 * season_time))\n",
    "\n",
    "def seasonality(time, period, amplitude=1, phase=0):\n",
    "    \"\"\"Repeats the same pattern at each period\"\"\"\n",
    "    season_time = ((time + phase) % period) / period\n",
    "    return amplitude * seasonal_pattern(season_time)\n",
    "\n",
    "def noise(time, noise_level=1, seed=None):\n",
    "    rnd = np.random.RandomState(seed)\n",
    "    return rnd.randn(len(time)) * noise_level"
   ]
  },
  {
   "cell_type": "markdown",
   "id": "4946f989",
   "metadata": {
    "papermill": {
     "duration": 0.003437,
     "end_time": "2022-08-10T21:16:07.803105",
     "exception": false,
     "start_time": "2022-08-10T21:16:07.799668",
     "status": "completed"
    },
    "tags": []
   },
   "source": [
    "## Create the series using helper functions"
   ]
  },
  {
   "cell_type": "code",
   "execution_count": 4,
   "id": "d4d8ad2e",
   "metadata": {
    "execution": {
     "iopub.execute_input": "2022-08-10T21:16:07.811384Z",
     "iopub.status.busy": "2022-08-10T21:16:07.811104Z",
     "iopub.status.idle": "2022-08-10T21:16:07.818899Z",
     "shell.execute_reply": "2022-08-10T21:16:07.818079Z"
    },
    "papermill": {
     "duration": 0.014171,
     "end_time": "2022-08-10T21:16:07.820786",
     "exception": false,
     "start_time": "2022-08-10T21:16:07.806615",
     "status": "completed"
    },
    "tags": []
   },
   "outputs": [],
   "source": [
    "time = np.arange(4 * 365 + 1, dtype=\"float32\")\n",
    "baseline = 10\n",
    "series = trend(time, 0.1)\n",
    "baseline = 10\n",
    "amplitude = 40\n",
    "slope = 0.05\n",
    "noise_level = 5\n",
    "\n",
    "# Create the series\n",
    "series = baseline + trend(time, slope) + seasonality(time, period=365, amplitude=amplitude)\n",
    "# Update with noise\n",
    "series += noise(time, noise_level, seed=42)\n",
    "\n",
    "split_time = 1000\n",
    "time_train = time[:split_time]\n",
    "x_train = series[:split_time]\n",
    "time_valid = time[split_time:]\n",
    "x_valid = series[split_time:]\n",
    "\n",
    "window_size = 20\n",
    "batch_size = 32\n",
    "shuffle_buffer_size = 1000"
   ]
  },
  {
   "cell_type": "markdown",
   "id": "9df862d2",
   "metadata": {
    "papermill": {
     "duration": 0.003356,
     "end_time": "2022-08-10T21:16:07.827808",
     "exception": false,
     "start_time": "2022-08-10T21:16:07.824452",
     "status": "completed"
    },
    "tags": []
   },
   "source": [
    "## Create the dataset"
   ]
  },
  {
   "cell_type": "code",
   "execution_count": 5,
   "id": "8b775067",
   "metadata": {
    "execution": {
     "iopub.execute_input": "2022-08-10T21:16:07.836055Z",
     "iopub.status.busy": "2022-08-10T21:16:07.835761Z",
     "iopub.status.idle": "2022-08-10T21:16:11.641649Z",
     "shell.execute_reply": "2022-08-10T21:16:11.639539Z"
    },
    "papermill": {
     "duration": 3.812344,
     "end_time": "2022-08-10T21:16:11.643711",
     "exception": false,
     "start_time": "2022-08-10T21:16:07.831367",
     "status": "completed"
    },
    "tags": []
   },
   "outputs": [
    {
     "name": "stderr",
     "output_type": "stream",
     "text": [
      "2022-08-10 21:16:08.826113: I tensorflow/stream_executor/cuda/cuda_gpu_executor.cc:937] successful NUMA node read from SysFS had negative value (-1), but there must be at least one NUMA node, so returning NUMA node zero\n",
      "2022-08-10 21:16:08.933939: I tensorflow/stream_executor/cuda/cuda_gpu_executor.cc:937] successful NUMA node read from SysFS had negative value (-1), but there must be at least one NUMA node, so returning NUMA node zero\n",
      "2022-08-10 21:16:08.934742: I tensorflow/stream_executor/cuda/cuda_gpu_executor.cc:937] successful NUMA node read from SysFS had negative value (-1), but there must be at least one NUMA node, so returning NUMA node zero\n",
      "2022-08-10 21:16:08.936388: I tensorflow/core/platform/cpu_feature_guard.cc:142] This TensorFlow binary is optimized with oneAPI Deep Neural Network Library (oneDNN) to use the following CPU instructions in performance-critical operations:  AVX2 AVX512F FMA\n",
      "To enable them in other operations, rebuild TensorFlow with the appropriate compiler flags.\n",
      "2022-08-10 21:16:08.936708: I tensorflow/stream_executor/cuda/cuda_gpu_executor.cc:937] successful NUMA node read from SysFS had negative value (-1), but there must be at least one NUMA node, so returning NUMA node zero\n",
      "2022-08-10 21:16:08.937446: I tensorflow/stream_executor/cuda/cuda_gpu_executor.cc:937] successful NUMA node read from SysFS had negative value (-1), but there must be at least one NUMA node, so returning NUMA node zero\n",
      "2022-08-10 21:16:08.938099: I tensorflow/stream_executor/cuda/cuda_gpu_executor.cc:937] successful NUMA node read from SysFS had negative value (-1), but there must be at least one NUMA node, so returning NUMA node zero\n",
      "2022-08-10 21:16:11.175384: I tensorflow/stream_executor/cuda/cuda_gpu_executor.cc:937] successful NUMA node read from SysFS had negative value (-1), but there must be at least one NUMA node, so returning NUMA node zero\n",
      "2022-08-10 21:16:11.176241: I tensorflow/stream_executor/cuda/cuda_gpu_executor.cc:937] successful NUMA node read from SysFS had negative value (-1), but there must be at least one NUMA node, so returning NUMA node zero\n",
      "2022-08-10 21:16:11.176957: I tensorflow/stream_executor/cuda/cuda_gpu_executor.cc:937] successful NUMA node read from SysFS had negative value (-1), but there must be at least one NUMA node, so returning NUMA node zero\n",
      "2022-08-10 21:16:11.177561: I tensorflow/core/common_runtime/gpu/gpu_device.cc:1510] Created device /job:localhost/replica:0/task:0/device:GPU:0 with 15403 MB memory:  -> device: 0, name: Tesla P100-PCIE-16GB, pci bus id: 0000:00:04.0, compute capability: 6.0\n"
     ]
    }
   ],
   "source": [
    "def windowed_dataset(series, window_size, batch_size, shuffle_buffer):\n",
    "    dataset = tf.data.Dataset.from_tensor_slices(series)\n",
    "    dataset = dataset.window(window_size + 1, shift=1, drop_remainder=True)\n",
    "    dataset = dataset.flat_map(lambda window: window.batch(window_size + 1))\n",
    "    dataset = dataset.shuffle(shuffle_buffer).map(lambda window: (window[:-1], window[-1]))\n",
    "    dataset = dataset.batch(batch_size).prefetch(1)\n",
    "    return dataset\n",
    "\n",
    "tf.keras.backend.clear_session()\n",
    "tf.random.set_seed(51)\n",
    "np.random.seed(51)\n",
    "\n",
    "tf.keras.backend.clear_session()\n",
    "dataset = windowed_dataset(x_train, window_size, batch_size, shuffle_buffer_size)"
   ]
  },
  {
   "cell_type": "markdown",
   "id": "8f6e89d3",
   "metadata": {
    "papermill": {
     "duration": 0.00362,
     "end_time": "2022-08-10T21:16:11.651608",
     "exception": false,
     "start_time": "2022-08-10T21:16:11.647988",
     "status": "completed"
    },
    "tags": []
   },
   "source": [
    "## Build the model"
   ]
  },
  {
   "cell_type": "code",
   "execution_count": 6,
   "id": "3d4ae2e4",
   "metadata": {
    "execution": {
     "iopub.execute_input": "2022-08-10T21:16:11.660402Z",
     "iopub.status.busy": "2022-08-10T21:16:11.660086Z",
     "iopub.status.idle": "2022-08-10T21:17:11.192768Z",
     "shell.execute_reply": "2022-08-10T21:17:11.191814Z"
    },
    "papermill": {
     "duration": 59.540016,
     "end_time": "2022-08-10T21:17:11.195382",
     "exception": false,
     "start_time": "2022-08-10T21:16:11.655366",
     "status": "completed"
    },
    "tags": []
   },
   "outputs": [
    {
     "name": "stderr",
     "output_type": "stream",
     "text": [
      "/opt/conda/lib/python3.7/site-packages/keras/optimizer_v2/optimizer_v2.py:356: UserWarning: The `lr` argument is deprecated, use `learning_rate` instead.\n",
      "  \"The `lr` argument is deprecated, use `learning_rate` instead.\")\n",
      "2022-08-10 21:16:12.718251: I tensorflow/compiler/mlir/mlir_graph_optimization_pass.cc:185] None of the MLIR Optimization Passes are enabled (registered 2)\n"
     ]
    },
    {
     "name": "stdout",
     "output_type": "stream",
     "text": [
      "Epoch 1/100\n"
     ]
    },
    {
     "name": "stderr",
     "output_type": "stream",
     "text": [
      "2022-08-10 21:16:18.379940: I tensorflow/stream_executor/cuda/cuda_dnn.cc:369] Loaded cuDNN version 8005\n"
     ]
    },
    {
     "name": "stdout",
     "output_type": "stream",
     "text": [
      "31/31 [==============================] - 7s 10ms/step - loss: 21.5167 - mae: 22.0115\n",
      "Epoch 2/100\n",
      "31/31 [==============================] - 0s 9ms/step - loss: 21.1522 - mae: 21.6444\n",
      "Epoch 3/100\n",
      "31/31 [==============================] - 0s 8ms/step - loss: 20.7302 - mae: 21.2236\n",
      "Epoch 4/100\n",
      "31/31 [==============================] - 0s 9ms/step - loss: 20.2834 - mae: 20.7757\n",
      "Epoch 5/100\n",
      "31/31 [==============================] - 0s 8ms/step - loss: 19.7897 - mae: 20.2855\n",
      "Epoch 6/100\n",
      "31/31 [==============================] - 0s 8ms/step - loss: 19.1782 - mae: 19.6696\n",
      "Epoch 7/100\n",
      "31/31 [==============================] - 0s 8ms/step - loss: 18.2410 - mae: 18.7333\n",
      "Epoch 8/100\n",
      "31/31 [==============================] - 0s 8ms/step - loss: 17.4825 - mae: 17.9748\n",
      "Epoch 9/100\n",
      "31/31 [==============================] - 0s 9ms/step - loss: 17.1597 - mae: 17.6529\n",
      "Epoch 10/100\n",
      "31/31 [==============================] - 0s 9ms/step - loss: 16.8547 - mae: 17.3463\n",
      "Epoch 11/100\n",
      "31/31 [==============================] - 0s 8ms/step - loss: 16.5533 - mae: 17.0471\n",
      "Epoch 12/100\n",
      "31/31 [==============================] - 0s 9ms/step - loss: 16.2565 - mae: 16.7524\n",
      "Epoch 13/100\n",
      "31/31 [==============================] - 0s 8ms/step - loss: 15.9629 - mae: 16.4598\n",
      "Epoch 14/100\n",
      "31/31 [==============================] - 1s 12ms/step - loss: 15.6593 - mae: 16.1548\n",
      "Epoch 15/100\n",
      "31/31 [==============================] - 0s 9ms/step - loss: 15.3713 - mae: 15.8652\n",
      "Epoch 16/100\n",
      "31/31 [==============================] - 0s 9ms/step - loss: 15.0752 - mae: 15.5697\n",
      "Epoch 17/100\n",
      "31/31 [==============================] - 0s 9ms/step - loss: 14.7905 - mae: 15.2869\n",
      "Epoch 18/100\n",
      "31/31 [==============================] - 0s 9ms/step - loss: 14.5229 - mae: 15.0178\n",
      "Epoch 19/100\n",
      "31/31 [==============================] - 0s 9ms/step - loss: 14.2707 - mae: 14.7636\n",
      "Epoch 20/100\n",
      "31/31 [==============================] - 0s 9ms/step - loss: 14.0293 - mae: 14.5217\n",
      "Epoch 21/100\n",
      "31/31 [==============================] - 0s 9ms/step - loss: 13.8191 - mae: 14.3135\n",
      "Epoch 22/100\n",
      "31/31 [==============================] - 0s 8ms/step - loss: 13.6084 - mae: 14.1032\n",
      "Epoch 23/100\n",
      "31/31 [==============================] - 0s 9ms/step - loss: 13.4096 - mae: 13.9038\n",
      "Epoch 24/100\n",
      "31/31 [==============================] - 0s 9ms/step - loss: 13.1859 - mae: 13.6794\n",
      "Epoch 25/100\n",
      "31/31 [==============================] - 0s 9ms/step - loss: 12.9819 - mae: 13.4747\n",
      "Epoch 26/100\n",
      "31/31 [==============================] - 0s 8ms/step - loss: 12.7278 - mae: 13.2184\n",
      "Epoch 27/100\n",
      "31/31 [==============================] - 0s 9ms/step - loss: 12.4886 - mae: 12.9799\n",
      "Epoch 28/100\n",
      "31/31 [==============================] - 0s 8ms/step - loss: 12.3459 - mae: 12.8362\n",
      "Epoch 29/100\n",
      "31/31 [==============================] - 0s 9ms/step - loss: 11.9127 - mae: 12.4017\n",
      "Epoch 30/100\n",
      "31/31 [==============================] - 0s 8ms/step - loss: 11.5934 - mae: 12.0835\n",
      "Epoch 31/100\n",
      "31/31 [==============================] - 0s 8ms/step - loss: 11.2859 - mae: 11.7771\n",
      "Epoch 32/100\n",
      "31/31 [==============================] - 0s 9ms/step - loss: 11.3520 - mae: 11.8418\n",
      "Epoch 33/100\n",
      "31/31 [==============================] - 0s 10ms/step - loss: 10.5232 - mae: 11.0139\n",
      "Epoch 34/100\n",
      "31/31 [==============================] - 1s 15ms/step - loss: 10.5499 - mae: 11.0381\n",
      "Epoch 35/100\n",
      "31/31 [==============================] - 1s 16ms/step - loss: 10.0680 - mae: 10.5530\n",
      "Epoch 36/100\n",
      "31/31 [==============================] - 0s 10ms/step - loss: 10.6389 - mae: 11.1314\n",
      "Epoch 37/100\n",
      "31/31 [==============================] - 0s 10ms/step - loss: 10.2354 - mae: 10.7260\n",
      "Epoch 38/100\n",
      "31/31 [==============================] - 0s 10ms/step - loss: 9.6683 - mae: 10.1564\n",
      "Epoch 39/100\n",
      "31/31 [==============================] - 0s 10ms/step - loss: 9.1518 - mae: 9.6364\n",
      "Epoch 40/100\n",
      "31/31 [==============================] - 0s 10ms/step - loss: 8.6986 - mae: 9.1844\n",
      "Epoch 41/100\n",
      "31/31 [==============================] - 0s 9ms/step - loss: 8.2776 - mae: 8.7628\n",
      "Epoch 42/100\n",
      "31/31 [==============================] - 0s 9ms/step - loss: 7.9341 - mae: 8.4187\n",
      "Epoch 43/100\n",
      "31/31 [==============================] - 0s 9ms/step - loss: 7.6090 - mae: 8.0929\n",
      "Epoch 44/100\n",
      "31/31 [==============================] - 0s 12ms/step - loss: 7.3647 - mae: 7.8508\n",
      "Epoch 45/100\n",
      "31/31 [==============================] - 0s 9ms/step - loss: 7.2052 - mae: 7.6888\n",
      "Epoch 46/100\n",
      "31/31 [==============================] - 0s 8ms/step - loss: 6.8924 - mae: 7.3748\n",
      "Epoch 47/100\n",
      "31/31 [==============================] - 0s 9ms/step - loss: 6.6809 - mae: 7.1645\n",
      "Epoch 48/100\n",
      "31/31 [==============================] - 0s 8ms/step - loss: 6.5773 - mae: 7.0596\n",
      "Epoch 49/100\n",
      "31/31 [==============================] - 0s 8ms/step - loss: 6.2082 - mae: 6.6843\n",
      "Epoch 50/100\n",
      "31/31 [==============================] - 0s 8ms/step - loss: 6.0392 - mae: 6.5181\n",
      "Epoch 51/100\n",
      "31/31 [==============================] - 0s 8ms/step - loss: 5.9102 - mae: 6.3880\n",
      "Epoch 52/100\n",
      "31/31 [==============================] - 0s 9ms/step - loss: 5.7768 - mae: 6.2584\n",
      "Epoch 53/100\n",
      "31/31 [==============================] - 0s 8ms/step - loss: 5.6294 - mae: 6.1096\n",
      "Epoch 54/100\n",
      "31/31 [==============================] - 0s 8ms/step - loss: 5.5201 - mae: 5.9942\n",
      "Epoch 55/100\n",
      "31/31 [==============================] - 0s 8ms/step - loss: 5.3904 - mae: 5.8626\n",
      "Epoch 56/100\n",
      "31/31 [==============================] - 0s 10ms/step - loss: 5.5557 - mae: 6.0296\n",
      "Epoch 57/100\n",
      "31/31 [==============================] - 0s 8ms/step - loss: 5.2780 - mae: 5.7557\n",
      "Epoch 58/100\n",
      "31/31 [==============================] - 0s 9ms/step - loss: 5.2561 - mae: 5.7343\n",
      "Epoch 59/100\n",
      "31/31 [==============================] - 0s 9ms/step - loss: 5.1173 - mae: 5.5959\n",
      "Epoch 60/100\n",
      "31/31 [==============================] - 0s 9ms/step - loss: 5.0497 - mae: 5.5241\n",
      "Epoch 61/100\n",
      "31/31 [==============================] - 0s 8ms/step - loss: 5.3113 - mae: 5.7903\n",
      "Epoch 62/100\n",
      "31/31 [==============================] - 0s 8ms/step - loss: 5.2183 - mae: 5.6979\n",
      "Epoch 63/100\n",
      "31/31 [==============================] - 0s 9ms/step - loss: 5.0220 - mae: 5.4966\n",
      "Epoch 64/100\n",
      "31/31 [==============================] - 0s 9ms/step - loss: 4.8371 - mae: 5.3115\n",
      "Epoch 65/100\n",
      "31/31 [==============================] - 0s 8ms/step - loss: 5.2812 - mae: 5.7607\n",
      "Epoch 66/100\n",
      "31/31 [==============================] - 0s 8ms/step - loss: 5.3648 - mae: 5.8481\n",
      "Epoch 67/100\n",
      "31/31 [==============================] - 0s 8ms/step - loss: 6.1189 - mae: 6.6016\n",
      "Epoch 68/100\n",
      "31/31 [==============================] - 0s 8ms/step - loss: 5.2312 - mae: 5.7154\n",
      "Epoch 69/100\n",
      "31/31 [==============================] - 0s 8ms/step - loss: 5.6007 - mae: 6.0819\n",
      "Epoch 70/100\n",
      "31/31 [==============================] - 0s 9ms/step - loss: 5.1405 - mae: 5.6217\n",
      "Epoch 71/100\n",
      "31/31 [==============================] - 0s 9ms/step - loss: 5.4807 - mae: 5.9610\n",
      "Epoch 72/100\n",
      "31/31 [==============================] - 0s 9ms/step - loss: 4.9601 - mae: 5.4377\n",
      "Epoch 73/100\n",
      "31/31 [==============================] - 0s 8ms/step - loss: 6.5152 - mae: 7.0014\n",
      "Epoch 74/100\n",
      "31/31 [==============================] - 0s 9ms/step - loss: 5.4426 - mae: 5.9203\n",
      "Epoch 75/100\n",
      "31/31 [==============================] - 0s 9ms/step - loss: 5.3081 - mae: 5.7908\n",
      "Epoch 76/100\n",
      "31/31 [==============================] - 0s 9ms/step - loss: 5.5315 - mae: 6.0111\n",
      "Epoch 77/100\n",
      "31/31 [==============================] - 0s 9ms/step - loss: 6.7212 - mae: 7.2048\n",
      "Epoch 78/100\n",
      "31/31 [==============================] - 0s 10ms/step - loss: 5.4248 - mae: 5.9063\n",
      "Epoch 79/100\n",
      "31/31 [==============================] - 0s 9ms/step - loss: 5.3424 - mae: 5.8206\n",
      "Epoch 80/100\n",
      "31/31 [==============================] - 0s 9ms/step - loss: 5.0259 - mae: 5.5047\n",
      "Epoch 81/100\n",
      "31/31 [==============================] - 0s 9ms/step - loss: 6.0756 - mae: 6.5563\n",
      "Epoch 82/100\n",
      "31/31 [==============================] - 0s 9ms/step - loss: 6.4770 - mae: 6.9635\n",
      "Epoch 83/100\n",
      "31/31 [==============================] - 0s 9ms/step - loss: 8.2467 - mae: 8.7351\n",
      "Epoch 84/100\n",
      "31/31 [==============================] - 0s 9ms/step - loss: 6.4932 - mae: 6.9783\n",
      "Epoch 85/100\n",
      "31/31 [==============================] - 0s 9ms/step - loss: 6.5826 - mae: 7.0697\n",
      "Epoch 86/100\n",
      "31/31 [==============================] - 0s 9ms/step - loss: 6.9919 - mae: 7.4782\n",
      "Epoch 87/100\n",
      "31/31 [==============================] - 0s 9ms/step - loss: 7.3071 - mae: 7.7915\n",
      "Epoch 88/100\n",
      "31/31 [==============================] - 0s 9ms/step - loss: 8.6809 - mae: 9.1713\n",
      "Epoch 89/100\n",
      "31/31 [==============================] - 0s 9ms/step - loss: 6.9416 - mae: 7.4241\n",
      "Epoch 90/100\n",
      "31/31 [==============================] - 0s 8ms/step - loss: 7.3826 - mae: 7.8689\n",
      "Epoch 91/100\n",
      "31/31 [==============================] - 0s 8ms/step - loss: 11.7974 - mae: 12.2870\n",
      "Epoch 92/100\n",
      "31/31 [==============================] - 0s 9ms/step - loss: 7.9368 - mae: 8.4205\n",
      "Epoch 93/100\n",
      "31/31 [==============================] - 0s 9ms/step - loss: 7.4672 - mae: 7.9558\n",
      "Epoch 94/100\n",
      "31/31 [==============================] - 1s 15ms/step - loss: 10.2555 - mae: 10.7481\n",
      "Epoch 95/100\n",
      "31/31 [==============================] - 1s 13ms/step - loss: 11.8360 - mae: 12.3281\n",
      "Epoch 96/100\n",
      "31/31 [==============================] - 0s 9ms/step - loss: 9.8322 - mae: 10.3256\n",
      "Epoch 97/100\n",
      "31/31 [==============================] - 0s 9ms/step - loss: 9.5699 - mae: 10.0589\n",
      "Epoch 98/100\n",
      "31/31 [==============================] - 0s 9ms/step - loss: 9.8023 - mae: 10.2897\n",
      "Epoch 99/100\n",
      "31/31 [==============================] - 0s 13ms/step - loss: 12.8416 - mae: 13.3326\n",
      "Epoch 100/100\n",
      "31/31 [==============================] - 0s 11ms/step - loss: 11.5157 - mae: 12.0080\n"
     ]
    }
   ],
   "source": [
    "model = tf.keras.models.Sequential([\n",
    "  tf.keras.layers.Lambda(lambda x: tf.expand_dims(x, axis=-1),\n",
    "                      input_shape=[None]),\n",
    "    tf.keras.layers.Bidirectional(tf.keras.layers.LSTM(32, return_sequences=True)),\n",
    "  tf.keras.layers.Bidirectional(tf.keras.layers.LSTM(32)),\n",
    "  tf.keras.layers.Dense(1),\n",
    "  tf.keras.layers.Lambda(lambda x: x * 100.0)\n",
    "])\n",
    "\n",
    "lr_schedule = tf.keras.callbacks.LearningRateScheduler(\n",
    "    lambda epoch: 1e-8 * 10**(epoch / 20))\n",
    "optimizer = tf.keras.optimizers.SGD(lr=1e-8, momentum=0.9)\n",
    "model.compile(loss=tf.keras.losses.Huber(),\n",
    "              optimizer=optimizer,\n",
    "              metrics=[\"mae\"])\n",
    "history = model.fit(dataset, epochs=100, callbacks=[lr_schedule])"
   ]
  },
  {
   "cell_type": "markdown",
   "id": "923d2704",
   "metadata": {
    "papermill": {
     "duration": 0.038697,
     "end_time": "2022-08-10T21:17:11.273307",
     "exception": false,
     "start_time": "2022-08-10T21:17:11.234610",
     "status": "completed"
    },
    "tags": []
   },
   "source": [
    "## Visualize metrics"
   ]
  },
  {
   "cell_type": "code",
   "execution_count": 7,
   "id": "f32e0382",
   "metadata": {
    "execution": {
     "iopub.execute_input": "2022-08-10T21:17:11.351610Z",
     "iopub.status.busy": "2022-08-10T21:17:11.351258Z",
     "iopub.status.idle": "2022-08-10T21:17:11.923903Z",
     "shell.execute_reply": "2022-08-10T21:17:11.922954Z"
    },
    "papermill": {
     "duration": 0.61415,
     "end_time": "2022-08-10T21:17:11.926044",
     "exception": false,
     "start_time": "2022-08-10T21:17:11.311894",
     "status": "completed"
    },
    "tags": []
   },
   "outputs": [
    {
     "data": {
      "image/png": "[encoded data removed]",
      "text/plain": [
       "<Figure size 432x288 with 1 Axes>"
      ]
     },
     "metadata": {
      "needs_background": "light"
     },
     "output_type": "display_data"
    }
   ],
   "source": [
    "plt.semilogx(history.history[\"lr\"], history.history[\"loss\"])\n",
    "plt.axis([1e-8, 1e-4, 0, 30])\n",
    "\n",
    "tf.keras.backend.clear_session()\n",
    "tf.random.set_seed(51)\n",
    "np.random.seed(51)\n"
   ]
  },
  {
   "cell_type": "markdown",
   "id": "216aebd9",
   "metadata": {
    "papermill": {
     "duration": 0.039662,
     "end_time": "2022-08-10T21:17:12.004716",
     "exception": false,
     "start_time": "2022-08-10T21:17:11.965054",
     "status": "completed"
    },
    "tags": []
   },
   "source": [
    "## Retrain the model with optimized hyperparmeters"
   ]
  },
  {
   "cell_type": "code",
   "execution_count": 8,
   "id": "9dab7389",
   "metadata": {
    "execution": {
     "iopub.execute_input": "2022-08-10T21:17:12.082838Z",
     "iopub.status.busy": "2022-08-10T21:17:12.082477Z",
     "iopub.status.idle": "2022-08-10T21:21:20.440541Z",
     "shell.execute_reply": "2022-08-10T21:21:20.439483Z"
    },
    "papermill": {
     "duration": 248.400125,
     "end_time": "2022-08-10T21:21:20.443015",
     "exception": false,
     "start_time": "2022-08-10T21:17:12.042890",
     "status": "completed"
    },
    "tags": []
   },
   "outputs": [],
   "source": [
    "tf.keras.backend.clear_session()\n",
    "dataset = windowed_dataset(x_train, window_size, batch_size, shuffle_buffer_size)\n",
    "\n",
    "model = tf.keras.models.Sequential([\n",
    "  tf.keras.layers.Lambda(lambda x: tf.expand_dims(x, axis=-1),\n",
    "                      input_shape=[None]),\n",
    "   tf.keras.layers.Bidirectional(tf.keras.layers.LSTM(32, return_sequences=True)),\n",
    "  tf.keras.layers.Bidirectional(tf.keras.layers.LSTM(32)),\n",
    "  tf.keras.layers.Dense(1),\n",
    "  tf.keras.layers.Lambda(lambda x: x * 100.0)\n",
    "])\n",
    "\n",
    "\n",
    "model.compile(loss=\"mse\", optimizer=tf.keras.optimizers.SGD(lr=1e-5, momentum=0.9),metrics=[\"mae\"])\n",
    "history = model.fit(dataset,epochs=500,verbose=0)\n"
   ]
  },
  {
   "cell_type": "markdown",
   "id": "b91e873c",
   "metadata": {
    "papermill": {
     "duration": 0.039138,
     "end_time": "2022-08-10T21:21:20.521529",
     "exception": false,
     "start_time": "2022-08-10T21:21:20.482391",
     "status": "completed"
    },
    "tags": []
   },
   "source": [
    "## Forcasting using the trained model"
   ]
  },
  {
   "cell_type": "code",
   "execution_count": 9,
   "id": "e6185ff2",
   "metadata": {
    "execution": {
     "iopub.execute_input": "2022-08-10T21:21:20.600213Z",
     "iopub.status.busy": "2022-08-10T21:21:20.599822Z",
     "iopub.status.idle": "2022-08-10T21:22:16.744834Z",
     "shell.execute_reply": "2022-08-10T21:22:16.743771Z"
    },
    "papermill": {
     "duration": 56.221188,
     "end_time": "2022-08-10T21:22:16.781128",
     "exception": false,
     "start_time": "2022-08-10T21:21:20.559940",
     "status": "completed"
    },
    "tags": []
   },
   "outputs": [
    {
     "name": "stdout",
     "output_type": "stream",
     "text": [
      "5.73778\n"
     ]
    },
    {
     "data": {
      "image/png": "[encoded data removed]",
      "text/plain": [
       "<Figure size 720x432 with 1 Axes>"
      ]
     },
     "metadata": {
      "needs_background": "light"
     },
     "output_type": "display_data"
    }
   ],
   "source": [
    "forecast = []\n",
    "results = []\n",
    "for time in range(len(series) - window_size):\n",
    "    forecast.append(model.predict(series[time:time + window_size][np.newaxis]))\n",
    "\n",
    "forecast = forecast[split_time-window_size:]\n",
    "results = np.array(forecast)[:, 0, 0]\n",
    "\n",
    "\n",
    "plt.figure(figsize=(10, 6))\n",
    "\n",
    "plot_series(time_valid, x_valid)\n",
    "plot_series(time_valid, results)\n",
    "\n",
    "print(tf.keras.metrics.mean_absolute_error(x_valid, results).numpy())"
   ]
  },
  {
   "cell_type": "code",
   "execution_count": 10,
   "id": "25525dec",
   "metadata": {
    "execution": {
     "iopub.execute_input": "2022-08-10T21:22:16.862764Z",
     "iopub.status.busy": "2022-08-10T21:22:16.862407Z",
     "iopub.status.idle": "2022-08-10T21:22:17.267645Z",
     "shell.execute_reply": "2022-08-10T21:22:17.266600Z"
    },
    "papermill": {
     "duration": 0.448214,
     "end_time": "2022-08-10T21:22:17.269797",
     "exception": false,
     "start_time": "2022-08-10T21:22:16.821583",
     "status": "completed"
    },
    "tags": []
   },
   "outputs": [
    {
     "data": {
      "text/plain": [
       "<Figure size 432x288 with 0 Axes>"
      ]
     },
     "execution_count": 10,
     "metadata": {},
     "output_type": "execute_result"
    },
    {
     "data": {
      "image/png": "[encoded data removed]",
      "text/plain": [
       "<Figure size 432x288 with 1 Axes>"
      ]
     },
     "metadata": {
      "needs_background": "light"
     },
     "output_type": "display_data"
    },
    {
     "data": {
      "image/png": "[encoded data removed]",
      "text/plain": [
       "<Figure size 432x288 with 1 Axes>"
      ]
     },
     "metadata": {
      "needs_background": "light"
     },
     "output_type": "display_data"
    },
    {
     "data": {
      "text/plain": [
       "<Figure size 432x288 with 0 Axes>"
      ]
     },
     "metadata": {},
     "output_type": "display_data"
    }
   ],
   "source": [
    "import matplotlib.image  as mpimg\n",
    "import matplotlib.pyplot as plt\n",
    "\n",
    "#-----------------------------------------------------------\n",
    "# Retrieve a list of list results on training and test data\n",
    "# sets for each training epoch\n",
    "#-----------------------------------------------------------\n",
    "mae=history.history['mae']\n",
    "loss=history.history['loss']\n",
    "\n",
    "epochs=range(len(loss)) # Get number of epochs\n",
    "\n",
    "#------------------------------------------------\n",
    "# Plot MAE and Loss\n",
    "#------------------------------------------------\n",
    "plt.plot(epochs, mae, 'r')\n",
    "plt.plot(epochs, loss, 'b')\n",
    "plt.title('MAE and Loss')\n",
    "plt.xlabel(\"Epochs\")\n",
    "plt.ylabel(\"Accuracy\")\n",
    "plt.legend([\"MAE\", \"Loss\"])\n",
    "\n",
    "plt.figure()\n",
    "\n",
    "epochs_zoom = epochs[200:]\n",
    "mae_zoom = mae[200:]\n",
    "loss_zoom = loss[200:]\n",
    "\n",
    "#------------------------------------------------\n",
    "# Plot Zoomed MAE and Loss\n",
    "#------------------------------------------------\n",
    "plt.plot(epochs_zoom, mae_zoom, 'r')\n",
    "plt.plot(epochs_zoom, loss_zoom, 'b')\n",
    "plt.title('MAE and Loss')\n",
    "plt.xlabel(\"Epochs\")\n",
    "plt.ylabel(\"Accuracy\")\n",
    "plt.legend([\"MAE\", \"Loss\"])\n",
    "\n",
    "plt.figure()"
   ]
  }
 ],
 "metadata": {
  "kernelspec": {
   "display_name": "Python 3",
   "language": "python",
   "name": "python3"
  },
  "language_info": {
   "codemirror_mode": {
    "name": "ipython",
    "version": 3
   },
   "file_extension": ".py",
   "mimetype": "text/x-python",
   "name": "python",
   "nbconvert_exporter": "python",
   "pygments_lexer": "ipython3",
   "version": "3.7.12"
  },
  "papermill": {
   "default_parameters": {},
   "duration": 385.49367,
   "end_time": "2022-08-10T21:22:20.465343",
   "environment_variables": {},
   "exception": null,
   "input_path": "__notebook__.ipynb",
   "output_path": "__notebook__.ipynb",
   "parameters": {},
   "start_time": "2022-08-10T21:15:54.971673",
   "version": "2.3.4"
  }
 },
 "nbformat": 4,
 "nbformat_minor": 5
}
