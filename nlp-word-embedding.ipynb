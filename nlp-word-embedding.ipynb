{
 "cells": [
  {
   "cell_type": "code",
   "execution_count": 1,
   "id": "381bc315",
   "metadata": {
    "_cell_guid": "b1076dfc-b9ad-4769-8c92-a6c4dae69d19",
    "_uuid": "8f2839f25d086af736a60e9eeb907d3b93b6e0e5",
    "execution": {
     "iopub.execute_input": "2022-08-08T12:50:11.603652Z",
     "iopub.status.busy": "2022-08-08T12:50:11.601512Z",
     "iopub.status.idle": "2022-08-08T12:50:11.618579Z",
     "shell.execute_reply": "2022-08-08T12:50:11.616326Z"
    },
    "papermill": {
     "duration": 0.030171,
     "end_time": "2022-08-08T12:50:11.622082",
     "exception": false,
     "start_time": "2022-08-08T12:50:11.591911",
     "status": "completed"
    },
    "tags": []
   },
   "outputs": [],
   "source": [
    "# This Python 3 environment comes with many helpful analytics libraries installed\n",
    "# It is defined by the kaggle/python Docker image: https://github.com/kaggle/docker-python\n",
    "# For example, here's several helpful packages to load\n",
    "\n",
    "import numpy as np # linear algebra\n",
    "import pandas as pd # data processing, CSV file I/O (e.g. pd.read_csv)\n",
    "\n",
    "# Input data files are available in the read-only \"../input/\" directory\n",
    "# For example, running this (by clicking run or pressing Shift+Enter) will list all files under the input directory\n",
    "\n",
    "import os\n",
    "for dirname, _, filenames in os.walk('/kaggle/input'):\n",
    "    for filename in filenames:\n",
    "        print(os.path.join(dirname, filename))\n",
    "\n",
    "# You can write up to 20GB to the current directory (/kaggle/working/) that gets preserved as output when you create a version using \"Save & Run All\" \n",
    "# You can also write temporary files to /kaggle/temp/, but they won't be saved outside of the current session"
   ]
  },
  {
   "cell_type": "markdown",
   "id": "c1c86354",
   "metadata": {
    "papermill": {
     "duration": 0.00668,
     "end_time": "2022-08-08T12:50:11.636164",
     "exception": false,
     "start_time": "2022-08-08T12:50:11.629484",
     "status": "completed"
    },
    "tags": []
   },
   "source": [
    "# Download the dataset and unzip it"
   ]
  },
  {
   "cell_type": "code",
   "execution_count": 2,
   "id": "49ed4313",
   "metadata": {
    "execution": {
     "iopub.execute_input": "2022-08-08T12:50:11.652903Z",
     "iopub.status.busy": "2022-08-08T12:50:11.651410Z",
     "iopub.status.idle": "2022-08-08T12:50:45.690609Z",
     "shell.execute_reply": "2022-08-08T12:50:45.689130Z"
    },
    "papermill": {
     "duration": 34.049972,
     "end_time": "2022-08-08T12:50:45.693447",
     "exception": false,
     "start_time": "2022-08-08T12:50:11.643475",
     "status": "completed"
    },
    "tags": []
   },
   "outputs": [
    {
     "name": "stdout",
     "output_type": "stream",
     "text": [
      "--2022-08-08 12:50:12--  http://ai.stanford.edu/~amaas/data/sentiment/aclImdb_v1.tar.gz\r\n",
      "Resolving ai.stanford.edu (ai.stanford.edu)... 171.64.68.10\r\n",
      "Connecting to ai.stanford.edu (ai.stanford.edu)|171.64.68.10|:80... connected.\r\n",
      "HTTP request sent, awaiting response... 200 OK\r\n",
      "Length: 84125825 (80M) [application/x-gzip]\r\n",
      "Saving to: ‘aclImdb_v1.tar.gz’\r\n",
      "\r\n",
      "aclImdb_v1.tar.gz   100%[===================>]  80.23M  25.2MB/s    in 5.6s    \r\n",
      "\r\n",
      "2022-08-08 12:50:18 (14.4 MB/s) - ‘aclImdb_v1.tar.gz’ saved [84125825/84125825]\r\n",
      "\r\n"
     ]
    }
   ],
   "source": [
    "! wget http://ai.stanford.edu/~amaas/data/sentiment/aclImdb_v1.tar.gz\n",
    "import tarfile\n",
    "my_tar = tarfile.open('./aclImdb_v1.tar.gz')\n",
    "my_tar.extractall('./data') # specify which folder to extract to\n",
    "my_tar.close()"
   ]
  },
  {
   "cell_type": "markdown",
   "id": "75b8ac5c",
   "metadata": {
    "papermill": {
     "duration": 0.007324,
     "end_time": "2022-08-08T12:50:45.708894",
     "exception": false,
     "start_time": "2022-08-08T12:50:45.701570",
     "status": "completed"
    },
    "tags": []
   },
   "source": [
    "# Import required Libraries"
   ]
  },
  {
   "cell_type": "code",
   "execution_count": 3,
   "id": "0d4968af",
   "metadata": {
    "execution": {
     "iopub.execute_input": "2022-08-08T12:50:45.728026Z",
     "iopub.status.busy": "2022-08-08T12:50:45.726171Z",
     "iopub.status.idle": "2022-08-08T12:50:54.290737Z",
     "shell.execute_reply": "2022-08-08T12:50:54.288829Z"
    },
    "papermill": {
     "duration": 8.578064,
     "end_time": "2022-08-08T12:50:54.295153",
     "exception": false,
     "start_time": "2022-08-08T12:50:45.717089",
     "status": "completed"
    },
    "tags": []
   },
   "outputs": [],
   "source": [
    "import matplotlib.pyplot as plt\n",
    "import os\n",
    "import re\n",
    "import shutil\n",
    "import string\n",
    "import tensorflow as tf\n",
    "\n",
    "from tensorflow.keras import layers\n",
    "from tensorflow.keras import losses"
   ]
  },
  {
   "cell_type": "markdown",
   "id": "d9ec9ad3",
   "metadata": {
    "papermill": {
     "duration": 0.008367,
     "end_time": "2022-08-08T12:50:54.312294",
     "exception": false,
     "start_time": "2022-08-08T12:50:54.303927",
     "status": "completed"
    },
    "tags": []
   },
   "source": [
    "# review a sample from the dataset"
   ]
  },
  {
   "cell_type": "code",
   "execution_count": 4,
   "id": "f04e4eb2",
   "metadata": {
    "execution": {
     "iopub.execute_input": "2022-08-08T12:50:54.333143Z",
     "iopub.status.busy": "2022-08-08T12:50:54.331969Z",
     "iopub.status.idle": "2022-08-08T12:50:54.342911Z",
     "shell.execute_reply": "2022-08-08T12:50:54.341141Z"
    },
    "papermill": {
     "duration": 0.025091,
     "end_time": "2022-08-08T12:50:54.345664",
     "exception": false,
     "start_time": "2022-08-08T12:50:54.320573",
     "status": "completed"
    },
    "tags": []
   },
   "outputs": [
    {
     "name": "stdout",
     "output_type": "stream",
     "text": [
      "Rachel Griffiths writes and directs this award winning short film. A heartwarming story about coping with grief and cherishing the memory of those we've loved and lost. Although, only 15 minutes long, Griffiths manages to capture so much emotion and truth onto film in the short space of time. Bud Tingwell gives a touching performance as Will, a widower struggling to cope with his wife's death. Will is confronted by the harsh reality of loneliness and helplessness as he proceeds to take care of Ruth's pet cow, Tulip. The film displays the grief and responsibility one feels for those they have loved and lost. Good cinematography, great direction, and superbly acted. It will bring tears to all those who have lost a loved one, and survived.\n"
     ]
    }
   ],
   "source": [
    "dataset_dir = os.path.join(os.getcwd(), './data/aclImdb')\n",
    "train_dir = os.path.join(dataset_dir, 'train')\n",
    "test_dir = os.path.join(dataset_dir, 'test')\n",
    "sample_file = os.path.join(train_dir, 'pos/1181_9.txt')\n",
    "with open(sample_file) as f:\n",
    "    print(f.read())"
   ]
  },
  {
   "cell_type": "markdown",
   "id": "6a228e8e",
   "metadata": {
    "papermill": {
     "duration": 0.008103,
     "end_time": "2022-08-08T12:50:54.361968",
     "exception": false,
     "start_time": "2022-08-08T12:50:54.353865",
     "status": "completed"
    },
    "tags": []
   },
   "source": [
    "# Importing and Spliting the dataset into training, validation and testing "
   ]
  },
  {
   "cell_type": "code",
   "execution_count": 5,
   "id": "c1c73433",
   "metadata": {
    "execution": {
     "iopub.execute_input": "2022-08-08T12:50:54.380316Z",
     "iopub.status.busy": "2022-08-08T12:50:54.379002Z",
     "iopub.status.idle": "2022-08-08T12:50:59.802642Z",
     "shell.execute_reply": "2022-08-08T12:50:59.800520Z"
    },
    "papermill": {
     "duration": 5.436228,
     "end_time": "2022-08-08T12:50:59.806014",
     "exception": false,
     "start_time": "2022-08-08T12:50:54.369786",
     "status": "completed"
    },
    "tags": []
   },
   "outputs": [
    {
     "name": "stdout",
     "output_type": "stream",
     "text": [
      "Found 75000 files belonging to 3 classes.\n",
      "Using 60000 files for training.\n"
     ]
    },
    {
     "name": "stderr",
     "output_type": "stream",
     "text": [
      "2022-08-08 12:50:56.680586: I tensorflow/core/common_runtime/process_util.cc:146] Creating new thread pool with default inter op setting: 2. Tune using inter_op_parallelism_threads for best performance.\n",
      "2022-08-08 12:50:56.863953: I tensorflow/compiler/mlir/mlir_graph_optimization_pass.cc:185] None of the MLIR Optimization Passes are enabled (registered 2)\n"
     ]
    },
    {
     "name": "stdout",
     "output_type": "stream",
     "text": [
      "Review b'There is this father-son conversation in the climax of \\'KALPURUSH\\'. I quote the English DVD-subtitle version. Shumonto tells his father: \"I may not have become someone, but when I see two people in love, I smile. And when I see someone eating alone, I cry.\" Ashvini, his father, replies wistfully: \"I wish I could\\'ve lived my life like you did.\" These 2 lines, perhaps, comprise the gist of this new film by Buddhadev Dasgupta - director of teeny-weeny gems like \\'Tahader Katha\\', \\'Bagh Bahadur\\', \\'Uttara\\' & \\'Mondo Meyer Upakhyan\\' - which took nearly 3 years to reach the cinemas in India.<br /><br />The film opens with a man called Ashvini following a younger man called Shumonto, who, we are told, is his son. It seems that the father is stalking - or haunting, rather - his son. As the film progresses and we meet Shumonto\\'s ambitious wife, Supriya, and his mother, Koyel, who seems to be tied up with something in her past, we realise that the son is, indeed, haunted by his father who was a somebody. He was a successful doctor and they had this beautiful family, but something - or someone - comes in and this happy husband-wife-child drift apart. This drifting apart is too hard for these three to endure, and the son, we see, is unable to lead even a proper relationship with his wife.<br /><br />I don\\'t know of too many father-son films from Bollywood or other Indian language films. I\\'ve seen only Ramesh Sippy\\'s \\'Shakti\\' & Feroze A. Khan\\'s \\'Gandhi, my father\\'. Both were the powerful types with dramatic, sad endings. I\\'ve also seen \\'Thevar Magan\\' & its Hindi remake \\'Virasat\\', but they were different. KALPURUSH is drama, but not the powerful type. It is, like other Dasgupta films, creatively- photographed, dream-like, poetic & soft. This keeps the viewer absolutely un-prepared for the surprise ending, for the film hardly feels like a father-son film. It starts like a husband-wife story, creates the tension, goes to become a mother-son film, and then explains why it is so, why the son is so, what was his relationship like with his father, what happens to the father, the mother, what the son\\'s wife does, and how the son carries on with his life.<br /><br />It would be unfair to dub KALPURUSH strictly for Buddhadev Dasgupta fans. However, I do suggest that the viewers acquaint themselves with Dasgupta\\'s films before going to see KALPURUSH. Dasgupta\\'s films are often accused of having a near-invisible storyline. KALPURUSH is no different. It starts, too, in a very un-Buddhadev Dasgupta-ish way. Instead of bare landscapes of Puruliya & Midnapore, one sees the trams of Calcutta in the opening credits. It helps, though, for it is like - What is this, urban Bengal? Soon after this, the film turns typical Dasgupta. The rural Bengal, this time, are the scenic outdoor locales of coastal Orissa.<br /><br />The actors are stupendous. Mithun Chakraborty is a legend. This is his second film with Dasgupta. He plays his age, suits the part, one just has to see him in this one. Rahul Bose is so silent one could feel the loss of his loser character. Sameera Reddy has looked good in just 3 films - \\'Musafir\\', \\'Migration\\' & \\'Kalpurush\\'. I haven\\'t seen \\'Ami, Yasin ar amar Madhubala\\' so I can\\'t comment on that. She better shift to the Bengali film industry. A mentor like Dasgupta would surely do her a lot good. Sudipta Chakraborty\\'s Other Woman role is short, but long enough to bring in that right amount of glamour, desire & heartbreak. Labony Sarkar is natural with a capital N.<br /><br />With the usual Buddhadev Dasgupta tropes in place, KALPURUSH is a visual treat. There are bare landscapes, dry leaves flying in the wind, haunting background score, mysterious folk artistes in even more mysterious costumes & masks, dilapidated, old buildings, and things rustic and antique. This time there is also the sea and an aeroplane flying right outside the open window. KALPURUSH is a film which needs to be seen.'\n",
      "Label 2\n",
      "Review b'The year 2005 saw no fewer than 3 filmed productions of H. G. Wells\\' great novel, \"War of the Worlds\". This is perhaps the least well-known and very probably the best of them. No other version of WotW has ever attempted not only to present the story very much as Wells wrote it, but also to create the atmosphere of the time in which it was supposed to take place: the last year of the 19th Century, 1900 \\xc2\\x85 using Wells\\' original setting, in and near Woking, England.<br /><br />IMDb seems unfriendly to what they regard as \"spoilers\". That might apply with some films, where the ending might actually be a surprise, but with regard to one of the most famous novels in the world, it seems positively silly. I have no sympathy for people who have neglected to read one of the seminal works in English literature, so let\\'s get right to the chase. The aliens are destroyed through catching an Earth disease, against which they have no immunity. If that\\'s a spoiler, so be it; after a book and 3 other films (including the 1953 classic), you ought to know how this ends.<br /><br />This film, which follows Wells\\' plot in the main, is also very cleverly presented \\xc2\\x96 in a way that might put many viewers off due to their ignorance of late 19th/early 20th Century photography. Although filmed in a widescreen aspect, the film goes to some lengths to give an impression of contemporaneity. The general coloration of skin and clothes display a sepia tint often found in old photographs (rather than black). Colors are often reminiscent of hand-tinting. At other times, colors are washed out. These variations are typical of early films, which didn\\'t use standardized celluloid stock and therefore presented a good many changes in print quality, even going from black/white to sepia/white to blue/white to reddish/white and so on \\xc2\\x96 as you\\'ll see on occasion here. The special effects are deliberately retrograde, of a sort seen even as late as the 1920s \\xc2\\x96 and yet the Martians and their machines are very much as Wells described them and have a more nearly realistic \"feel\". Some of effects are really awkward \\xc2\\x96 such as the destruction of Big Ben. The acting is often more in the style of that period than ours. Some aspects of Victorian dress may appear odd, particularly the use of pomade or brilliantine on head and facial hair.<br /><br />This film is the only one that follows with some closeness Wells\\' original narrative \\xc2\\x96 as has been noted. Viewers may find it informative to note plot details that appear here that are occasionally retained in other versions of the story. Wells\\' description of the Martians \\xc2\\x96 a giant head mounted on numerous tentacles \\xc2\\x96 is effectively portrayed. When the Martian machines appear, about an hour into the film, they too give a good impression of how Wells described them. Both Wells and this film do an excellent job of portraying the progress of the Martians from the limited perspective (primarily) of rural England \\xc2\\x96 plus a few scenes in London (involving the Narrator\\'s brother). The director is unable to resist showing the destruction of a major landmark (Big Ben), but at least doesn\\'t dwell unduly on the devastation of London.<br /><br />The victory of the Martians is hardly a surprise, despite the destruction by cannon of some of their machines. The Narrator, traveling about to seek escape, sees much of what Wells terms \"the rout of Mankind\". He encounters a curate endowed with the Victorian affliction of a much too precious and nervous personality. They eventually find themselves on the very edge of a Martian nest, where they discover an awful fact: the Martians are shown to be vampires who consume their prey alive in a very effective scene. Wells adds that after eating they set up \"a prolonged and cheerful hooting\". The Narrator finally is obliged to beat senseless the increasingly hysterical curate \\xc2\\x96 who revives just as the Martians drag him off to the larder (cheers from the gallery; British curates are so often utterly insufferable).<br /><br />This film lasts almost 3 hours, going through Wells\\' story in welcome detail. It\\'s about time the author got his due \\xc2\\x96 in a compelling presentation that builds in dramatic impact. A word about the acting: Don\\'t expect award-winning performances. They\\'re not bad, however, the actors are earnest and they grow on you. Most of them, however, have had very abbreviated film careers, often only in this film. The Narrator is played by hunky Anthony Piana, in his 2nd film. The Curate is John Kaufman \\xc2\\x96 also in his 2nd film as an actor but who has had more experience directing. The Brother (\"Henderson\") is played with some conviction by W. Bernard Bauman in his first film. The Artilleryman, the only other sizable part, is played by James Lathrop in his first film.<br /><br />This is overall a splendid film, portraying for the first time the War of the Worlds as Wells wrote it. Despite its slight defects, it is far and away better than any of its hyped-up competitors. If you want to see H. G. Wells\\' War of the Worlds \\xc2\\x96 and not some wholly distorted version of it \\xc2\\x96 see this film!'\n",
      "Label 1\n",
      "Review b\"This show is probably one of the worst shows I've seen on the network. I have begun to even avoid its commercials because I still am astonished how its been on TV so long. This show is probably the worst thing I've seen in a decade. When I say bad... I MEAN BAD. The things done are mostly scripted and very repetitive. All there is, is riots and people beating other people up. I just don't understand how this show was even thought about putting it on air, because its just so bad. It's completely ridiculous. Out of 5 stars *****, I don't think I would even give it a star.<br /><br />At all costs. Avoid this show.\"\n",
      "Label 2\n",
      "Label 0 corresponds to neg\n",
      "Label 1 corresponds to pos\n",
      "Found 75000 files belonging to 3 classes.\n",
      "Using 15000 files for validation.\n",
      "Found 25000 files belonging to 2 classes.\n"
     ]
    }
   ],
   "source": [
    "batch_size = 32\n",
    "seed = 42\n",
    "\n",
    "raw_train_ds = tf.keras.utils.text_dataset_from_directory(\n",
    "    train_dir,\n",
    "    batch_size=batch_size,\n",
    "    validation_split=0.2,\n",
    "    subset='training',\n",
    "    seed=seed)\n",
    "\n",
    "for text_batch, label_batch in raw_train_ds.take(1):\n",
    "    for i in range(3):\n",
    "        print(\"Review\", text_batch.numpy()[i])\n",
    "        print(\"Label\", label_batch.numpy()[i])\n",
    "\n",
    "print(\"Label 0 corresponds to\", raw_train_ds.class_names[0])\n",
    "print(\"Label 1 corresponds to\", raw_train_ds.class_names[1])\n",
    "\n",
    "raw_val_ds = tf.keras.utils.text_dataset_from_directory(\n",
    "    train_dir,\n",
    "    batch_size=batch_size,\n",
    "    validation_split=0.2,\n",
    "    subset='validation',\n",
    "    seed=seed)\n",
    "\n",
    "raw_test_ds = tf.keras.utils.text_dataset_from_directory(\n",
    "    test_dir,\n",
    "    batch_size=batch_size)"
   ]
  },
  {
   "cell_type": "markdown",
   "id": "f23f5690",
   "metadata": {
    "papermill": {
     "duration": 0.009522,
     "end_time": "2022-08-08T12:50:59.826325",
     "exception": false,
     "start_time": "2022-08-08T12:50:59.816803",
     "status": "completed"
    },
    "tags": []
   },
   "source": [
    "# make standardization to the dataset"
   ]
  },
  {
   "cell_type": "code",
   "execution_count": 6,
   "id": "7500ce54",
   "metadata": {
    "execution": {
     "iopub.execute_input": "2022-08-08T12:50:59.874058Z",
     "iopub.status.busy": "2022-08-08T12:50:59.873069Z",
     "iopub.status.idle": "2022-08-08T12:51:10.830791Z",
     "shell.execute_reply": "2022-08-08T12:51:10.829390Z"
    },
    "papermill": {
     "duration": 10.97201,
     "end_time": "2022-08-08T12:51:10.834248",
     "exception": false,
     "start_time": "2022-08-08T12:50:59.862238",
     "status": "completed"
    },
    "tags": []
   },
   "outputs": [],
   "source": [
    "def custom_standardization(input_data):\n",
    "    lowercase = tf.strings.lower(input_data)\n",
    "    stripped_html = tf.strings.regex_replace(lowercase, '<br />', ' ')\n",
    "    return tf.strings.regex_replace(stripped_html,\n",
    "                                    '[%s]' % re.escape(string.punctuation),\n",
    "                                    '')\n",
    "\n",
    "max_features = 10000\n",
    "sequence_length = 250\n",
    "\n",
    "vectorize_layer = layers.TextVectorization(\n",
    "    standardize=custom_standardization,\n",
    "    max_tokens=max_features,\n",
    "    output_mode='int',\n",
    "    output_sequence_length=sequence_length)\n",
    "\n",
    "# Make a text-only dataset (without labels), then call adapt\n",
    "train_text = raw_train_ds.map(lambda x, y: x)\n",
    "vectorize_layer.adapt(train_text)\n",
    "\n",
    "def vectorize_text(text, label):\n",
    "    text = tf.expand_dims(text, -1)\n",
    "    return vectorize_layer(text), label"
   ]
  },
  {
   "cell_type": "markdown",
   "id": "46913b26",
   "metadata": {
    "papermill": {
     "duration": 0.010224,
     "end_time": "2022-08-08T12:51:10.853670",
     "exception": false,
     "start_time": "2022-08-08T12:51:10.843446",
     "status": "completed"
    },
    "tags": []
   },
   "source": [
    "#  Batching the data "
   ]
  },
  {
   "cell_type": "code",
   "execution_count": 7,
   "id": "57f2f0d5",
   "metadata": {
    "execution": {
     "iopub.execute_input": "2022-08-08T12:51:10.873252Z",
     "iopub.status.busy": "2022-08-08T12:51:10.872806Z",
     "iopub.status.idle": "2022-08-08T12:51:11.056517Z",
     "shell.execute_reply": "2022-08-08T12:51:11.054868Z"
    },
    "papermill": {
     "duration": 0.197132,
     "end_time": "2022-08-08T12:51:11.059776",
     "exception": false,
     "start_time": "2022-08-08T12:51:10.862644",
     "status": "completed"
    },
    "tags": []
   },
   "outputs": [
    {
     "name": "stdout",
     "output_type": "stream",
     "text": [
      "Review tf.Tensor(b\"British man Brian Roberts (Michael York) comes to Berlin to teach English in the 1930's, at the time the Nazi party is rising.There he meets an interesting singer Sally Bowles (Liza Minnelli).The bi-sexual teacher becomes very fond of her.In between there's the handsome and rich Maximilian von Heune (Helmut Griem).In Berlin he also meets people as Fritz Wendel (Fritz Wepper) and (Natalia Landauer).They're both Jewish and attracted to each other.Joel Grey is the eccentric Master of Ceremonies.The cast is absolutely fantastic in this Bob Fosse's musical drama.I read about two years ago Christopher Isherwood's Goodbye to Berlin, which this movie is based on.This week I saw the movie and they're both great.In the movie you can hear the songs being sang and they're all marvelous.I truly recommend this movie to a whole bunch of people.\", shape=(), dtype=string)\n",
      "Label unsup\n",
      "Vectorized review (<tf.Tensor: shape=(1, 250), dtype=int64, numpy=\n",
      "array([[ 700,  135, 1787, 2601,  522,  729,  260,    6, 4556,    6, 3214,\n",
      "         672,    8,    2, 2437,   30,    2,   59,    2, 2471, 1024,    7,\n",
      "           1,   27,  937,   33,  208, 1946, 4148,    1, 7888,    1,    1,\n",
      "        1617,  453,   52, 4279,    5,    1,  195,  201,    2, 2191,    3,\n",
      "         957,    1, 2976,    1,    1,    1, 4556,   27,   78,  937,   80,\n",
      "          14, 7234,    1, 7234,    1,    3,    1,    1,  188, 2795,    3,\n",
      "        3727,    6,  245,    1, 3667,    7,    2, 3959, 1195,    5,    1,\n",
      "         174,    7,  427,  816,    8,   10, 1431,    1,  726,    1,  343,\n",
      "          42,  104,  149,  594, 1515,    1, 5638,    6, 4556,   61,   10,\n",
      "          17,    7,  439,    1, 1297,   11,  212,    2,   17,    3,  492,\n",
      "         188,    1,    2,   17,   22,   67,  827,    2,  739,  105, 6938,\n",
      "           3,  492,   31,    1,  361,  375,   10,   17,    6,    4,  215,\n",
      "         723,    5,   80,    0,    0,    0,    0,    0,    0,    0,    0,\n",
      "           0,    0,    0,    0,    0,    0,    0,    0,    0,    0,    0,\n",
      "           0,    0,    0,    0,    0,    0,    0,    0,    0,    0,    0,\n",
      "           0,    0,    0,    0,    0,    0,    0,    0,    0,    0,    0,\n",
      "           0,    0,    0,    0,    0,    0,    0,    0,    0,    0,    0,\n",
      "           0,    0,    0,    0,    0,    0,    0,    0,    0,    0,    0,\n",
      "           0,    0,    0,    0,    0,    0,    0,    0,    0,    0,    0,\n",
      "           0,    0,    0,    0,    0,    0,    0,    0,    0,    0,    0,\n",
      "           0,    0,    0,    0,    0,    0,    0,    0,    0,    0,    0,\n",
      "           0,    0,    0,    0,    0,    0,    0,    0,    0,    0,    0,\n",
      "           0,    0,    0,    0,    0,    0,    0,    0]])>, <tf.Tensor: shape=(), dtype=int32, numpy=2>)\n",
      "1287 --->  charlie\n",
      " 313 --->  simply\n",
      "Vocabulary size: 10000\n"
     ]
    }
   ],
   "source": [
    "# retrieve a batch (of 32 reviews and labels) from the dataset\n",
    "text_batch, label_batch = next(iter(raw_train_ds))\n",
    "first_review, first_label = text_batch[0], label_batch[0]\n",
    "print(\"Review\", first_review)\n",
    "print(\"Label\", raw_train_ds.class_names[first_label])\n",
    "print(\"Vectorized review\", vectorize_text(first_review, first_label))\n",
    "\n",
    "print(\"1287 ---> \", vectorize_layer.get_vocabulary()[1287])\n",
    "print(\" 313 ---> \", vectorize_layer.get_vocabulary()[313])\n",
    "print('Vocabulary size: {}'.format(len(vectorize_layer.get_vocabulary())))"
   ]
  },
  {
   "cell_type": "markdown",
   "id": "f7202e33",
   "metadata": {
    "papermill": {
     "duration": 0.009457,
     "end_time": "2022-08-08T12:51:11.078303",
     "exception": false,
     "start_time": "2022-08-08T12:51:11.068846",
     "status": "completed"
    },
    "tags": []
   },
   "source": [
    "# map the vectorized text to the training datasets "
   ]
  },
  {
   "cell_type": "code",
   "execution_count": 8,
   "id": "35fdd0a4",
   "metadata": {
    "execution": {
     "iopub.execute_input": "2022-08-08T12:51:11.097621Z",
     "iopub.status.busy": "2022-08-08T12:51:11.096823Z",
     "iopub.status.idle": "2022-08-08T12:51:11.278523Z",
     "shell.execute_reply": "2022-08-08T12:51:11.276335Z"
    },
    "papermill": {
     "duration": 0.194727,
     "end_time": "2022-08-08T12:51:11.281529",
     "exception": false,
     "start_time": "2022-08-08T12:51:11.086802",
     "status": "completed"
    },
    "tags": []
   },
   "outputs": [],
   "source": [
    "train_ds = raw_train_ds.map(vectorize_text)\n",
    "val_ds = raw_val_ds.map(vectorize_text)\n",
    "test_ds = raw_test_ds.map(vectorize_text)\n",
    "\n",
    "AUTOTUNE = tf.data.AUTOTUNE\n",
    "\n",
    "train_ds = train_ds.cache().prefetch(buffer_size=AUTOTUNE)\n",
    "val_ds = val_ds.cache().prefetch(buffer_size=AUTOTUNE)\n",
    "test_ds = test_ds.cache().prefetch(buffer_size=AUTOTUNE)"
   ]
  },
  {
   "cell_type": "markdown",
   "id": "65346bba",
   "metadata": {
    "papermill": {
     "duration": 0.008706,
     "end_time": "2022-08-08T12:51:11.300483",
     "exception": false,
     "start_time": "2022-08-08T12:51:11.291777",
     "status": "completed"
    },
    "tags": []
   },
   "source": [
    "# create the NLP model"
   ]
  },
  {
   "cell_type": "code",
   "execution_count": 9,
   "id": "b1a6e5fa",
   "metadata": {
    "execution": {
     "iopub.execute_input": "2022-08-08T12:51:11.321348Z",
     "iopub.status.busy": "2022-08-08T12:51:11.320568Z",
     "iopub.status.idle": "2022-08-08T12:51:11.721454Z",
     "shell.execute_reply": "2022-08-08T12:51:11.719022Z"
    },
    "papermill": {
     "duration": 0.414603,
     "end_time": "2022-08-08T12:51:11.724825",
     "exception": false,
     "start_time": "2022-08-08T12:51:11.310222",
     "status": "completed"
    },
    "tags": []
   },
   "outputs": [
    {
     "name": "stdout",
     "output_type": "stream",
     "text": [
      "Model: \"sequential\"\n",
      "_________________________________________________________________\n",
      "Layer (type)                 Output Shape              Param #   \n",
      "=================================================================\n",
      "embedding (Embedding)        (None, None, 16)          160016    \n",
      "_________________________________________________________________\n",
      "dropout (Dropout)            (None, None, 16)          0         \n",
      "_________________________________________________________________\n",
      "global_average_pooling1d (Gl (None, 16)                0         \n",
      "_________________________________________________________________\n",
      "dropout_1 (Dropout)          (None, 16)                0         \n",
      "_________________________________________________________________\n",
      "dense (Dense)                (None, 1)                 17        \n",
      "=================================================================\n",
      "Total params: 160,033\n",
      "Trainable params: 160,033\n",
      "Non-trainable params: 0\n",
      "_________________________________________________________________\n"
     ]
    }
   ],
   "source": [
    "embedding_dim = 16\n",
    "\n",
    "model = tf.keras.Sequential([\n",
    "  layers.Embedding(max_features + 1, embedding_dim),\n",
    "  layers.Dropout(0.2),\n",
    "  layers.GlobalAveragePooling1D(),\n",
    "  layers.Dropout(0.2),\n",
    "  layers.Dense(1)])\n",
    "\n",
    "model.summary()\n",
    "\n",
    "model.compile(loss=losses.BinaryCrossentropy(from_logits=True),\n",
    "              optimizer='adam',\n",
    "              metrics=tf.metrics.BinaryAccuracy(threshold=0.0))"
   ]
  },
  {
   "cell_type": "markdown",
   "id": "0f575857",
   "metadata": {
    "papermill": {
     "duration": 0.008177,
     "end_time": "2022-08-08T12:51:11.742316",
     "exception": false,
     "start_time": "2022-08-08T12:51:11.734139",
     "status": "completed"
    },
    "tags": []
   },
   "source": [
    "# Training the model"
   ]
  },
  {
   "cell_type": "code",
   "execution_count": 10,
   "id": "b7a5c16b",
   "metadata": {
    "execution": {
     "iopub.execute_input": "2022-08-08T12:51:11.764094Z",
     "iopub.status.busy": "2022-08-08T12:51:11.763432Z",
     "iopub.status.idle": "2022-08-08T12:53:53.443643Z",
     "shell.execute_reply": "2022-08-08T12:53:53.442075Z"
    },
    "papermill": {
     "duration": 161.69468,
     "end_time": "2022-08-08T12:53:53.446680",
     "exception": false,
     "start_time": "2022-08-08T12:51:11.752000",
     "status": "completed"
    },
    "tags": []
   },
   "outputs": [
    {
     "name": "stdout",
     "output_type": "stream",
     "text": [
      "Epoch 1/10\n",
      "1875/1875 [==============================] - 17s 9ms/step - loss: -15.5418 - binary_accuracy: 0.1664 - val_loss: -43.9033 - val_binary_accuracy: 0.1681\n",
      "Epoch 2/10\n",
      "1875/1875 [==============================] - 12s 6ms/step - loss: -97.1918 - binary_accuracy: 0.1663 - val_loss: -153.8858 - val_binary_accuracy: 0.1681\n",
      "Epoch 3/10\n",
      "1875/1875 [==============================] - 11s 6ms/step - loss: -235.3126 - binary_accuracy: 0.1663 - val_loss: -311.9443 - val_binary_accuracy: 0.1681\n",
      "Epoch 4/10\n",
      "1875/1875 [==============================] - 12s 6ms/step - loss: -421.3561 - binary_accuracy: 0.1663 - val_loss: -513.9935 - val_binary_accuracy: 0.1681\n",
      "Epoch 5/10\n",
      "1875/1875 [==============================] - 11s 6ms/step - loss: -651.1493 - binary_accuracy: 0.1663 - val_loss: -757.9594 - val_binary_accuracy: 0.1681\n",
      "Epoch 6/10\n",
      "1875/1875 [==============================] - 12s 6ms/step - loss: -922.8546 - binary_accuracy: 0.1663 - val_loss: -1043.2246 - val_binary_accuracy: 0.1681\n",
      "Epoch 7/10\n",
      "1875/1875 [==============================] - 11s 6ms/step - loss: -1238.1169 - binary_accuracy: 0.1663 - val_loss: -1369.7043 - val_binary_accuracy: 0.1681\n",
      "Epoch 8/10\n",
      "1875/1875 [==============================] - 11s 6ms/step - loss: -1595.0768 - binary_accuracy: 0.1663 - val_loss: -1736.6465 - val_binary_accuracy: 0.1681\n",
      "Epoch 9/10\n",
      "1875/1875 [==============================] - 10s 6ms/step - loss: -1993.1605 - binary_accuracy: 0.1663 - val_loss: -2144.2415 - val_binary_accuracy: 0.1681\n",
      "Epoch 10/10\n",
      "1875/1875 [==============================] - 11s 6ms/step - loss: -2431.9492 - binary_accuracy: 0.1663 - val_loss: -2592.0071 - val_binary_accuracy: 0.1681\n"
     ]
    }
   ],
   "source": [
    "epochs = 10\n",
    "history = model.fit(\n",
    "    train_ds,\n",
    "    validation_data=val_ds,\n",
    "    epochs=epochs)\n"
   ]
  },
  {
   "cell_type": "markdown",
   "id": "571eff94",
   "metadata": {
    "papermill": {
     "duration": 0.152204,
     "end_time": "2022-08-08T12:53:53.747416",
     "exception": false,
     "start_time": "2022-08-08T12:53:53.595212",
     "status": "completed"
    },
    "tags": []
   },
   "source": [
    "# Visualize the model metrics "
   ]
  },
  {
   "cell_type": "code",
   "execution_count": 11,
   "id": "971f778f",
   "metadata": {
    "execution": {
     "iopub.execute_input": "2022-08-08T12:53:54.045316Z",
     "iopub.status.busy": "2022-08-08T12:53:54.044466Z",
     "iopub.status.idle": "2022-08-08T12:53:57.207615Z",
     "shell.execute_reply": "2022-08-08T12:53:57.206333Z"
    },
    "papermill": {
     "duration": 3.316596,
     "end_time": "2022-08-08T12:53:57.210649",
     "exception": false,
     "start_time": "2022-08-08T12:53:53.894053",
     "status": "completed"
    },
    "tags": []
   },
   "outputs": [
    {
     "name": "stdout",
     "output_type": "stream",
     "text": [
      "782/782 [==============================] - 3s 3ms/step - loss: 2655.0173 - binary_accuracy: 0.5000\n",
      "Loss:  2655.017333984375\n",
      "Accuracy:  0.5\n"
     ]
    },
    {
     "data": {
      "image/png": "[encoded data removed]",
      "text/plain": [
       "<Figure size 432x288 with 1 Axes>"
      ]
     },
     "metadata": {
      "needs_background": "light"
     },
     "output_type": "display_data"
    },
    {
     "data": {
      "image/png": "[encoded data removed]",
      "text/plain": [
       "<Figure size 432x288 with 1 Axes>"
      ]
     },
     "metadata": {
      "needs_background": "light"
     },
     "output_type": "display_data"
    }
   ],
   "source": [
    "loss, accuracy = model.evaluate(test_ds)\n",
    "\n",
    "print(\"Loss: \", loss)\n",
    "print(\"Accuracy: \", accuracy)\n",
    "\n",
    "history_dict = history.history\n",
    "history_dict.keys()\n",
    "\n",
    "acc = history_dict['binary_accuracy']\n",
    "val_acc = history_dict['val_binary_accuracy']\n",
    "loss = history_dict['loss']\n",
    "val_loss = history_dict['val_loss']\n",
    "\n",
    "epochs = range(1, len(acc) + 1)\n",
    "\n",
    "# \"bo\" is for \"blue dot\"\n",
    "plt.plot(epochs, loss, 'bo', label='Training loss')\n",
    "# b is for \"solid blue line\"\n",
    "plt.plot(epochs, val_loss, 'b', label='Validation loss')\n",
    "plt.title('Training and validation loss')\n",
    "plt.xlabel('Epochs')\n",
    "plt.ylabel('Loss')\n",
    "plt.legend()\n",
    "\n",
    "plt.show()\n",
    "\n",
    "plt.plot(epochs, acc, 'bo', label='Training acc')\n",
    "plt.plot(epochs, val_acc, 'b', label='Validation acc')\n",
    "plt.title('Training and validation accuracy')\n",
    "plt.xlabel('Epochs')\n",
    "plt.ylabel('Accuracy')\n",
    "plt.legend(loc='lower right')\n",
    "\n",
    "plt.show()"
   ]
  },
  {
   "cell_type": "markdown",
   "id": "65563db6",
   "metadata": {
    "papermill": {
     "duration": 0.152453,
     "end_time": "2022-08-08T12:53:57.511860",
     "exception": false,
     "start_time": "2022-08-08T12:53:57.359407",
     "status": "completed"
    },
    "tags": []
   },
   "source": []
  },
  {
   "cell_type": "code",
   "execution_count": 12,
   "id": "78b53112",
   "metadata": {
    "execution": {
     "iopub.execute_input": "2022-08-08T12:53:57.837700Z",
     "iopub.status.busy": "2022-08-08T12:53:57.836623Z",
     "iopub.status.idle": "2022-08-08T12:54:02.615275Z",
     "shell.execute_reply": "2022-08-08T12:54:02.613662Z"
    },
    "papermill": {
     "duration": 4.947789,
     "end_time": "2022-08-08T12:54:02.618214",
     "exception": false,
     "start_time": "2022-08-08T12:53:57.670425",
     "status": "completed"
    },
    "tags": []
   },
   "outputs": [
    {
     "name": "stdout",
     "output_type": "stream",
     "text": [
      "782/782 [==============================] - 4s 5ms/step - loss: 2655.0171 - accuracy: 0.5000\n",
      "0.5\n",
      "[[1.]\n",
      " [1.]\n",
      " [1.]]\n"
     ]
    }
   ],
   "source": [
    "export_model = tf.keras.Sequential([\n",
    "  vectorize_layer,\n",
    "  model,\n",
    "  layers.Activation('sigmoid')\n",
    "])\n",
    "\n",
    "export_model.compile(\n",
    "    loss=losses.BinaryCrossentropy(from_logits=False), optimizer=\"adam\", metrics=['accuracy']\n",
    ")\n",
    "\n",
    "# Test it with `raw_test_ds`, which yields raw strings\n",
    "loss, accuracy = export_model.evaluate(raw_test_ds)\n",
    "print(accuracy)\n",
    "\n",
    "examples = [\n",
    "  \"The movie was great!\",\n",
    "  \"The movie was okay.\",\n",
    "  \"The movie was terrible...\"\n",
    "]\n",
    "\n",
    "print(export_model.predict(examples))"
   ]
  }
 ],
 "metadata": {
  "kernelspec": {
   "display_name": "Python 3",
   "language": "python",
   "name": "python3"
  },
  "language_info": {
   "codemirror_mode": {
    "name": "ipython",
    "version": 3
   },
   "file_extension": ".py",
   "mimetype": "text/x-python",
   "name": "python",
   "nbconvert_exporter": "python",
   "pygments_lexer": "ipython3",
   "version": "3.7.12"
  },
  "papermill": {
   "default_parameters": {},
   "duration": 246.041975,
   "end_time": "2022-08-08T12:54:06.099280",
   "environment_variables": {},
   "exception": null,
   "input_path": "__notebook__.ipynb",
   "output_path": "__notebook__.ipynb",
   "parameters": {},
   "start_time": "2022-08-08T12:50:00.057305",
   "version": "2.3.4"
  }
 },
 "nbformat": 4,
 "nbformat_minor": 5
}
